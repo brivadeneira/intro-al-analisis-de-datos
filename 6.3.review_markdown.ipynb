{
 "cells": [
  {
   "cell_type": "markdown",
   "id": "fitted-wallace",
   "metadata": {
    "tags": []
   },
   "source": [
    "# **MÓDULO 1 - MARKDOWN**\n",
    "## Markdown in Jupyter Notebook\n",
    "**Cómo escribir y usar markup tags en Jupyter.**"
   ]
  },
  {
   "cell_type": "markdown",
   "id": "bf2294aa-d43d-43ee-a5ac-36bf3d77b6c4",
   "metadata": {},
   "source": [
    "Markdown es un lenguaje de marcado ligero que ya representa un estándar entre los data scientist y analistas. Generalmente se convierte a HTML para poder ser compartido entre diferentes dispositivos y personas.\n",
    "\n",
    "Un lenguaje de marcado es similar a HTML, está compuesto por tags o etiquetas de marcado que se abren `<tagname>` y cierran `</tagname>`.\n",
    "\n",
    "En este notebook se ven los mismos resultados obtenidos con tags de marcado y con sintaxis soportada por Jupyter:"
   ]
  },
  {
   "cell_type": "markdown",
   "id": "consecutive-progress",
   "metadata": {},
   "source": [
    "<ul>\n",
    "    <li>Headings</li>\n",
    "    <li>Blockquotes</li>\n",
    "    <li>Code section</li>\n",
    "    <li>Mathematical Symbol</li>\n",
    "    <li>Line Break</li>\n",
    "    <li>Bold and Italic Text</li>\n",
    "    <li>Horizontal Lines</li>\n",
    "    <li>Ordered List</li>\n",
    "    <li>Unordered List</li>\n",
    "    <li>Internal and External Link</li>\n",
    "    <li>Table</li>\n",
    "    <li>Image</li>  \n",
    "</ul>\n",
    "\n",
    "Las celdas de Markdown se pueden seleccionar usando el menú desplegable o el atajo 'm/M', inmediatamente después de insertar una nueva celda.\n",
    "\n",
    "![](graphics/figure1.png)"
   ]
  },
  {
   "cell_type": "markdown",
   "id": "popular-manhattan",
   "metadata": {},
   "source": [
    "## Headings\n",
    "\n",
    "Los encabezados comienzan con '#,' seguido por un espacio. Hay seis niveles de encabezados, el primer encabezado usa un hash y el último seis.\n",
    "\n",
    "\\# (Header 1, title)\n",
    "\n",
    "\\## (Header 2, major headings)\n",
    "\n",
    "\\### (Header 3, subheadings)\n",
    "\n",
    "\\#### (Header 4)\n",
    "\n",
    "\\##### (Header 5)\n",
    "\n",
    "\\###### (Header 6)\n",
    "\n",
    "Alternativamente se pueden usar tags de marcado h1-h6 respectivamente:\n",
    "\n",
    "&lt;h1&gt;Header 1, title&lt;h1&gt;<br>\n",
    "&lt;h2&gt;Header 2, major headings&lt;h2&gt;<br>\n",
    "&lt;h3&gt;Header 3, subheadings&lt;h3&gt;<br>\n",
    "&lt;h4&gt;Header 4&lt;h4&gt;<br>\n",
    "&lt;h5&gt;Header 5&lt;h5&gt;<br>\n",
    "&lt;h6&gt;Header 6&lt;h6&gt;"
   ]
  },
  {
   "cell_type": "markdown",
   "id": "15b8233d-d605-45eb-aa7e-2e1a5d894220",
   "metadata": {},
   "source": [
    "### ¡A practicar headers!"
   ]
  },
  {
   "cell_type": "markdown",
   "id": "605d198f-3498-47cf-adb1-6c93f3653cea",
   "metadata": {},
   "source": []
  },
  {
   "cell_type": "markdown",
   "id": "coated-dealer",
   "metadata": {},
   "source": [
    "## Citas\n",
    "\n",
    "Los bloques de citas pueden alojar una porción grande de texto y generalmente están identados. Se pueden obtener usando el símbolo de Markdown '>' o &lt;blockquote&gt;text for blockquote&lt;/blockquote&gt;<br>\n",
    "\n",
    "- &gt; This is good\n",
    "\n",
    "- &lt;blockquote&gt; This is good &lt;/blockquote&gt;\n"
   ]
  },
  {
   "cell_type": "markdown",
   "id": "1361232d-f1e9-4598-a9a0-20030700d21a",
   "metadata": {},
   "source": [
    "### ¡A practicar bloques de citas!"
   ]
  },
  {
   "cell_type": "markdown",
   "id": "76a5c0fe-9a33-43e0-b070-ec67084e9f84",
   "metadata": {},
   "source": []
  },
  {
   "cell_type": "markdown",
   "id": "spare-coverage",
   "metadata": {},
   "source": [
    "## Bloque de código\n",
    "\n",
    "Un bloque de código especifica el código de diferentes lenguajes de programación y puede ser renderizado en una línea así: ' \\`inline code goes here\\` '. Pero un bloque en si comienza con tres \"back-ticks\": ' \\`\\`\\` block line code goes here \\`\\`\\` '. O con el tag de Markup: ' &lt;code&gt;code goes here&lt;code&gt; '.\n",
    "\n",
    "The inline code example is given below:<br>\n",
    "\\`x =5\\`<br>\n",
    "<br>\n",
    "\n",
    "Code section examples are given below:<br>\n",
    "\n",
    "Using Markdown\n",
    "\n",
    "\\```\n",
    "Python<br>\n",
    "str = \"This is block level code\"<br>\n",
    "print(str)<br>\n",
    "\\```\n",
    "\n",
    "Using Markup Tag \n",
    "\n",
    "\n",
    "&lt;code&gt;\n",
    "    Python<br>\n",
    "    str = \"This is a block level code\"<br>\n",
    "    print(str)   \n",
    "  &lt;/code&gt;\n",
    "\n",
    "\n",
    "Usando Markdown, se puede ver el código \"coloreado\" si se especifica el lenguaje de programación luego de los primeros tres \"ticks\": '\\`\\`\\`' three ticks and the example is given below:\n",
    "\n",
    "Using Markdown, you will not get syntax highlighting, but code is highlighted:\n"
   ]
  },
  {
   "cell_type": "markdown",
   "id": "333aca77-c9df-4b0e-a9c8-504ec5c46251",
   "metadata": {},
   "source": [
    "### ¡A practicar bloque de código!"
   ]
  },
  {
   "cell_type": "markdown",
   "id": "51a93cf8-d82c-48d0-964f-c57001e83d98",
   "metadata": {},
   "source": []
  },
  {
   "cell_type": "markdown",
   "id": "blond-religious",
   "metadata": {},
   "source": [
    "## Símbolos matemáticos\n",
    "\n",
    "Markdown soporta simbología matemática en su sintáxis, una expresión matemática se encierra entre signos pesos:  $\\text{\\$ mathematical expression goes here \\$}$. Y para renderizarlos en Markup:<a href=\"https://www.w3schools.com/charsets/ref_utf_math.asp\"> Mathematical Operators</a>. Ejemplo: <br>\n",
    "\n",
    "&#36;\\sqrt{k} &#36;"
   ]
  },
  {
   "cell_type": "markdown",
   "id": "1987152a-4876-452d-a439-6e4e5ba386d8",
   "metadata": {},
   "source": [
    "### ¡A practicar símbolos matemáticos!"
   ]
  },
  {
   "cell_type": "markdown",
   "id": "30d87038-4544-4230-ba09-cb64a0c9a7c0",
   "metadata": {},
   "source": []
  },
  {
   "cell_type": "markdown",
   "id": "respective-still",
   "metadata": {},
   "source": [
    "## Salto de línea\n",
    "\n",
    "Un salto de línea comienza con el tag &lt;br&gt; sin tag de cierre:\n",
    "\n",
    "```\n",
    "The line breaks after using <br> br tags and it is awesome.\n",
    "```\n",
    "\n",
    "Mientras que en Markdown *dos* espacios al final de la línea implican un salto de línea."
   ]
  },
  {
   "cell_type": "markdown",
   "id": "f34fd995-4456-41e9-b1c1-2fe2a9a6f0d2",
   "metadata": {},
   "source": [
    "### ¡A practicar saltos de línea!"
   ]
  },
  {
   "cell_type": "markdown",
   "id": "549953ba-5ef0-4f1b-856b-25ce7765493e",
   "metadata": {},
   "source": []
  },
  {
   "cell_type": "markdown",
   "id": "adjacent-variety",
   "metadata": {},
   "source": [
    "## Negrita y cursiva\n",
    "\n",
    "Se pueden usar los tag &lt;b&gt; '\\**' i.e. 'double asterisk' or '\\__' i.e. 'double underscore' para obtener texto en negrita:<br>\n",
    "\n",
    "\n",
    "- &lt;b&gt; This is bold text &lt;/b&gt;\n",
    "- &#42;&#42;This is bold text\n",
    "- &#95; &#95;This is bold text"
   ]
  },
  {
   "cell_type": "markdown",
   "id": "38fea339-82bf-4b93-af7b-7d529d1ccf37",
   "metadata": {},
   "source": [
    "### ¡A practicar negrita!"
   ]
  },
  {
   "cell_type": "markdown",
   "id": "dbef8b1d-01b3-4d4b-9830-7e664878678e",
   "metadata": {},
   "source": []
  },
  {
   "cell_type": "markdown",
   "id": "fourth-briefing",
   "metadata": {},
   "source": [
    "Se usan los tags &lt;i&gt; '\\*' i.e., single asterisk or '\\_' i.e., para lograr texto en cursiva (o itálica).<br>\n",
    "\n",
    "- &lt;i&gt; This is italic text &lt;/i&gt; \n",
    "- &#42;This is italic text*\n",
    "- &#95;This is italic text&#95;\n"
   ]
  },
  {
   "cell_type": "markdown",
   "id": "2513ee8e-4361-47a7-b8f5-1fba29b601d8",
   "metadata": {},
   "source": [
    "### ¡A practicar cursiva!"
   ]
  },
  {
   "cell_type": "markdown",
   "id": "2899e531-461f-4858-8768-1eb140b17d1b",
   "metadata": {},
   "source": []
  },
  {
   "cell_type": "markdown",
   "id": "successful-holocaust",
   "metadata": {},
   "source": [
    "## Línea Horizontal\n",
    "\n",
    "Para obtener una línea horizontal en Markdown se usa '---' o el tag en Markup &lt;hr&gt;"
   ]
  },
  {
   "cell_type": "markdown",
   "id": "e79ca82a-1444-4759-af4b-6e6ec9b24771",
   "metadata": {},
   "source": [
    "### ¡A practicar línea horizontal!"
   ]
  },
  {
   "cell_type": "markdown",
   "id": "736fa356-59e1-4062-8d12-eafe810d372e",
   "metadata": {},
   "source": []
  },
  {
   "cell_type": "markdown",
   "id": "appointed-portal",
   "metadata": {},
   "source": [
    "## Lista ordenada\n",
    "\n",
    "Una lista ordenada es una lista enumerada que se puede obtener con el tag &lt;ol&gt; y su tag de cierre &lt;/ol&gt; Para cada ítem se requieren los tag &lt;li&gt; y &lt;/li&gt;"
   ]
  },
  {
   "cell_type": "markdown",
   "id": "rolled-passage",
   "metadata": {},
   "source": [
    "&lt;ol&gt;<br>\n",
    "    &lt;li&gt;Fish&lt;/li&gt;<br>\n",
    "    &lt;li&gt;Eggs&lt;/li&gt;<br>\n",
    "    &lt;li&gt;Cheese&lt;/li&gt;<br>\n",
    "&lt;/ol&gt;"
   ]
  },
  {
   "cell_type": "markdown",
   "id": "92b5c8f9-2e24-4e0a-939a-87f0d611d803",
   "metadata": {},
   "source": [
    "### ¡A practicar listas ordenadas!"
   ]
  },
  {
   "cell_type": "markdown",
   "id": "ea9965a0-247e-46f7-859b-8bbbd2a09797",
   "metadata": {},
   "source": []
  },
  {
   "cell_type": "markdown",
   "id": "secondary-mistress",
   "metadata": {},
   "source": [
    "Alternativamente se puede usar '1. ' i.e., El número del item seguido de *un* espacio:\n",
    "\n",
    "1. Fish\n",
    "2. Eggs<br>\n",
    "3. Cheese"
   ]
  },
  {
   "cell_type": "markdown",
   "id": "ce108789-6ab8-4cbf-8dcf-177e0c37f144",
   "metadata": {},
   "source": [
    "### ¡A practicar lista ordenada!"
   ]
  },
  {
   "cell_type": "markdown",
   "id": "9bff20e0-8b59-402d-a60d-cfafa9693a1f",
   "metadata": {},
   "source": []
  },
  {
   "cell_type": "markdown",
   "id": "opened-mailman",
   "metadata": {},
   "source": [
    "## Lista desordenada\n",
    "\n",
    "Una lista desordenada (sin enumeración) se puede obtener con el tag &lt;ul&gt; y su tag de cierre &lt;/ul&gt; :\n",
    "\n",
    "&lt;ul&gt;<br>\n",
    "    &lt;li&gt;Fish&lt;/li&gt;<br>\n",
    "    &lt;li&gt;Eggs&lt;/li&gt;<br>\n",
    "    &lt;li&gt;Cheese&lt;/li&gt;<br>\n",
    "&lt;/ul&gt;\n",
    "\n",
    "Alternativamente se puede obtener una lista desordenada usando el símbolo '-' seguido de *un* espacio, o el símbolo '*'.\n",
    "\n",
    "\\- &nbsp; Fish<br>\n",
    "\\- &nbsp; Eggs<br>\n",
    "\\- &nbsp; Cheese<br>"
   ]
  },
  {
   "cell_type": "markdown",
   "id": "5e01cbab-0056-40e9-946d-744153135968",
   "metadata": {},
   "source": [
    "### ¡A practicar listas desordenadas!"
   ]
  },
  {
   "cell_type": "markdown",
   "id": "bfa85bd4-dfae-49f2-b860-24913ce043ad",
   "metadata": {},
   "source": []
  },
  {
   "cell_type": "markdown",
   "id": "beneficial-parking",
   "metadata": {},
   "source": [
    "## Links internos y externos\n",
    "\n",
    "<b>Un Link Interno</b> en Markdown comienza con &lt;a&gt; con un id único que relaciona el link con una sección del mismo notebook:<br>\n",
    "\n",
    "&lt;a id = \"division_ID\"text goes here&gt;&lt;/a&gt;<br>\n",
    "\n",
    "\\[Section title](#division_ID)\n",
    "\n",
    "<b>Un Link Externo</b> en Markdown  comienza con &lt;a&gt; se cierra con &lt;a&gt; tag, i.e., &lt;a&gt; y se requiere el atributo 'href' donde se especifica la URL destino.\n",
    "\n",
    "&lt;a href=\"https://www.google.com\" &gt;Link to Google&lt;/a&gt;"
   ]
  },
  {
   "cell_type": "markdown",
   "id": "ab0421ad-0926-47fb-8e2b-a9d36e9f5a42",
   "metadata": {},
   "source": [
    "### ¡A practicar links!"
   ]
  },
  {
   "cell_type": "markdown",
   "id": "53506125-693b-4cef-8200-ec2081b6934a",
   "metadata": {},
   "source": [
    "[Google](www.google.com)"
   ]
  },
  {
   "cell_type": "markdown",
   "id": "demonstrated-enemy",
   "metadata": {},
   "source": [
    "## Tabla\n",
    "\n",
    "Una tabla contiene información estructurada en filas y columnas, se construye con una combinación de '|' i.e. 'vertical pipe' para separar columnas y '-' i.e., hyphen symbol para delimitar el header de la tabla.\n",
    "\n",
    "\n",
    "<code>\n",
    "|Name|Address|Salary|\n",
    "|-----|-------|------|\n",
    "|Hanna|Brisbane|4000|\n",
    "|Adam|Sydney|5000|\n",
    " </code>\n",
    "\n",
    "Alternativamente se puede emplear la sintaxis de Markup:\n",
    "\n",
    "&lt;table style=\"width:20%\"&gt;<br>\n",
    " &lt;tr&gt;<br>\n",
    "    &lt;th&gt;&lt;Name&gt;&lt;/th&gt;<br>\n",
    "     &lt;th&gt;&lt;Address&gt;&lt;/th&gt;<br>\n",
    "      &lt;th&gt;&lt;Salary&gt;&lt;/th&gt;<br>\n",
    "   &lt;/tr&gt;  \n",
    "\n",
    "  &lt;tr&gt;<br>\n",
    "    &lt;td&gt;&lt;Hanna&gt;&lt;/td&gt;<br>\n",
    "     &lt;td&gt;&lt;Brisbane&gt;&lt;/td&gt;<br>\n",
    "      &lt;td&gt;&lt;4000&gt;&lt;/td&gt;<br>\n",
    "   &lt;/tr&gt;"
   ]
  },
  {
   "cell_type": "markdown",
   "id": "narrative-ambassador",
   "metadata": {},
   "source": [
    "   &lt;tr&gt;<br>\n",
    "    &lt;td&gt;&lt;Adam&gt;&lt;/td&gt;<br>\n",
    "     &lt;td&gt;&lt;Sydney&gt;&lt;/td&gt;<br>\n",
    "      &lt;td&gt;&lt;5000&gt;&lt;/td&gt;<br>\n",
    "   &lt;/tr&gt;<br>\n",
    "&lt;/table&gt;"
   ]
  },
  {
   "cell_type": "markdown",
   "id": "f50cd9fb-68de-41b6-88e1-0dad4642e9ce",
   "metadata": {},
   "source": [
    "### ¡A practicar tablas!"
   ]
  },
  {
   "cell_type": "markdown",
   "id": "2ff79965-380c-4b2c-81dc-38613fc86671",
   "metadata": {},
   "source": [
    "|Name|Address|Salary|\n",
    "|-----|-------|------|\n",
    "|Hanna|Brisbane|4000|\n",
    "|Adam|Sydney|5000|"
   ]
  },
  {
   "cell_type": "markdown",
   "id": "nonprofit-virginia",
   "metadata": {},
   "source": [
    "## Imagenes\n",
    "\n",
    "Para insertar una imagen en Markdown se emplea la siguiente sintaxis:\n",
    "\n",
    "```\n",
    "![](path-to-image/imagename.png)\n",
    "```\n",
    "\n",
    "Alternativamente y con más opciones de parámetros, se puede optar por la sintaxis de Markup:\n",
    "\n",
    " &lt;img&gt; &lt;src=\"https://i.imgur.com/WWrydEh.png\" width =\"500\" height=500 ><br>"
   ]
  },
  {
   "cell_type": "markdown",
   "id": "rental-villa",
   "metadata": {},
   "source": [
    "![](graphics/img.png)\n",
    "\n"
   ]
  },
  {
   "cell_type": "markdown",
   "id": "2f152b61-522c-4541-917a-6c527a82c7ad",
   "metadata": {},
   "source": [
    "### ¡A practicar imagenes!"
   ]
  },
  {
   "cell_type": "markdown",
   "id": "90fa7b38-5054-4a02-ae85-f2fe32252dc5",
   "metadata": {},
   "source": [
    "![](https://cdn.search.brave.com/serp/v1/static/brand/7f6c965d757370cc4448eded114b6bac854675e6495a28140b625aa019135f7f-brave-logo-light-beta.svg)"
   ]
  },
  {
   "cell_type": "markdown",
   "id": "7caae561-87db-46e4-bdae-78be9cb16bfc",
   "metadata": {},
   "source": [
    "Más info: <a href=\"https://www.markdownguide.org/getting-started/\">Markdown Guide</a>."
   ]
  }
 ],
 "metadata": {
  "jupytext": {
   "cell_metadata_filter": "-all",
   "main_language": "python",
   "notebook_metadata_filter": "-all"
  },
  "kernelspec": {
   "display_name": "Python 3 (ipykernel)",
   "language": "python",
   "name": "python3"
  },
  "language_info": {
   "codemirror_mode": {
    "name": "ipython",
    "version": 3
   },
   "file_extension": ".py",
   "mimetype": "text/x-python",
   "name": "python",
   "nbconvert_exporter": "python",
   "pygments_lexer": "ipython3",
   "version": "3.9.5"
  }
 },
 "nbformat": 4,
 "nbformat_minor": 5
}
