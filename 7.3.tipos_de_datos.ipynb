{
 "cells": [
  {
   "cell_type": "markdown",
   "id": "a110b02b-ad04-44a6-ac64-938ed0ce1e3b",
   "metadata": {},
   "source": [
    "# Tipos de datos"
   ]
  },
  {
   "cell_type": "markdown",
   "id": "1f3d9da5-26e7-4f58-ba29-2dcf9ec3ec45",
   "metadata": {},
   "source": [
    "![](https://machinelearningmastery.com/wp-content/uploads/2020/06/Overview-of-Data-Variable-Types2.png)"
   ]
  },
  {
   "cell_type": "markdown",
   "id": "1c8e348f-d05b-44b4-815a-45c6f284c76b",
   "metadata": {},
   "source": [
    "## Numéricos\n",
    "\n",
    "Este tipo de datos permite calcular de manera directa algunos indicadores de interés general como promedios, máximos, mínimos, media, mediana, etc.\n",
    "\n",
    "* **entero**: *discreto*\n",
    "    * Cantidad de hijos\n",
    "    * Edad\n",
    "* **flotante**: *continuo*\n",
    "    * Temperatura\n",
    "    * Salario\n",
    "    * Nivel de pH"
   ]
  },
  {
   "cell_type": "markdown",
   "id": "e2b42f38-4fc2-4d3a-afc7-ca1b1545a8cb",
   "metadata": {},
   "source": [
    "## Categórico\n",
    "\n",
    "Este tipo de variable se puede agrupar, formando *categorías*.\n",
    "\n",
    "* **nominal**: No se puede ordenar.\n",
    "    * Ocupación\n",
    "    * Industria\n",
    "    * Universidad\n",
    "    * Ciudad\n",
    "* **ordinal**: Se puede ordenar.\n",
    "    * Nivel de satisfacción (0-10)\n",
    "    * Estrellas (1-5)\n",
    "    * Talles de prendas como 'S', 'M', 'L', XL'\n",
    "* **booleano**: Sólo dos posibles valores.\n",
    "    * Yes/No\n",
    "    * Female/Male\n",
    "    * Alive/Dead"
   ]
  },
  {
   "cell_type": "code",
   "execution_count": 60,
   "id": "341d6c14-b68c-4fd4-a93d-daa040f870f7",
   "metadata": {},
   "outputs": [],
   "source": [
    "import pandas as pd\n",
    "df_nba = pd.read_csv('datasets/nba_players.csv', index_col=False)"
   ]
  },
  {
   "cell_type": "code",
   "execution_count": 61,
   "id": "c94706e6-2a66-46f0-9043-160026407878",
   "metadata": {},
   "outputs": [
    {
     "data": {
      "text/html": [
       "<div>\n",
       "<style scoped>\n",
       "    .dataframe tbody tr th:only-of-type {\n",
       "        vertical-align: middle;\n",
       "    }\n",
       "\n",
       "    .dataframe tbody tr th {\n",
       "        vertical-align: top;\n",
       "    }\n",
       "\n",
       "    .dataframe thead th {\n",
       "        text-align: right;\n",
       "    }\n",
       "</style>\n",
       "<table border=\"1\" class=\"dataframe\">\n",
       "  <thead>\n",
       "    <tr style=\"text-align: right;\">\n",
       "      <th></th>\n",
       "      <th>Unnamed: 0</th>\n",
       "      <th>player_name</th>\n",
       "      <th>team_abbreviation</th>\n",
       "      <th>age</th>\n",
       "      <th>player_height</th>\n",
       "      <th>player_weight</th>\n",
       "      <th>college</th>\n",
       "      <th>country</th>\n",
       "      <th>draft_year</th>\n",
       "      <th>draft_round</th>\n",
       "      <th>...</th>\n",
       "      <th>pts</th>\n",
       "      <th>reb</th>\n",
       "      <th>ast</th>\n",
       "      <th>net_rating</th>\n",
       "      <th>oreb_pct</th>\n",
       "      <th>dreb_pct</th>\n",
       "      <th>usg_pct</th>\n",
       "      <th>ts_pct</th>\n",
       "      <th>ast_pct</th>\n",
       "      <th>season</th>\n",
       "    </tr>\n",
       "  </thead>\n",
       "  <tbody>\n",
       "    <tr>\n",
       "      <th>0</th>\n",
       "      <td>0</td>\n",
       "      <td>Travis Knight</td>\n",
       "      <td>LAL</td>\n",
       "      <td>22</td>\n",
       "      <td>213.36</td>\n",
       "      <td>106.59412</td>\n",
       "      <td>Connecticut</td>\n",
       "      <td>USA</td>\n",
       "      <td>1996.0</td>\n",
       "      <td>1.0</td>\n",
       "      <td>...</td>\n",
       "      <td>4.8</td>\n",
       "      <td>4.5</td>\n",
       "      <td>0.5</td>\n",
       "      <td>6.2</td>\n",
       "      <td>0.127</td>\n",
       "      <td>0.182</td>\n",
       "      <td>0.142</td>\n",
       "      <td>0.536</td>\n",
       "      <td>0.052</td>\n",
       "      <td>1996-97</td>\n",
       "    </tr>\n",
       "    <tr>\n",
       "      <th>1</th>\n",
       "      <td>1</td>\n",
       "      <td>Matt Fish</td>\n",
       "      <td>MIA</td>\n",
       "      <td>27</td>\n",
       "      <td>210.82</td>\n",
       "      <td>106.59412</td>\n",
       "      <td>North Carolina-Wilmington</td>\n",
       "      <td>USA</td>\n",
       "      <td>1992.0</td>\n",
       "      <td>2.0</td>\n",
       "      <td>...</td>\n",
       "      <td>0.3</td>\n",
       "      <td>0.8</td>\n",
       "      <td>0.0</td>\n",
       "      <td>-15.1</td>\n",
       "      <td>0.143</td>\n",
       "      <td>0.267</td>\n",
       "      <td>0.265</td>\n",
       "      <td>0.333</td>\n",
       "      <td>0.000</td>\n",
       "      <td>1996-97</td>\n",
       "    </tr>\n",
       "    <tr>\n",
       "      <th>2</th>\n",
       "      <td>2</td>\n",
       "      <td>Matt Bullard</td>\n",
       "      <td>HOU</td>\n",
       "      <td>30</td>\n",
       "      <td>208.28</td>\n",
       "      <td>106.59412</td>\n",
       "      <td>Iowa</td>\n",
       "      <td>USA</td>\n",
       "      <td>NaN</td>\n",
       "      <td>NaN</td>\n",
       "      <td>...</td>\n",
       "      <td>4.5</td>\n",
       "      <td>1.6</td>\n",
       "      <td>0.9</td>\n",
       "      <td>0.9</td>\n",
       "      <td>0.016</td>\n",
       "      <td>0.115</td>\n",
       "      <td>0.151</td>\n",
       "      <td>0.535</td>\n",
       "      <td>0.099</td>\n",
       "      <td>1996-97</td>\n",
       "    </tr>\n",
       "    <tr>\n",
       "      <th>3</th>\n",
       "      <td>3</td>\n",
       "      <td>Marty Conlon</td>\n",
       "      <td>BOS</td>\n",
       "      <td>29</td>\n",
       "      <td>210.82</td>\n",
       "      <td>111.13004</td>\n",
       "      <td>Providence</td>\n",
       "      <td>USA</td>\n",
       "      <td>NaN</td>\n",
       "      <td>NaN</td>\n",
       "      <td>...</td>\n",
       "      <td>7.8</td>\n",
       "      <td>4.4</td>\n",
       "      <td>NaN</td>\n",
       "      <td>-9.0</td>\n",
       "      <td>0.083</td>\n",
       "      <td>NaN</td>\n",
       "      <td>0.167</td>\n",
       "      <td>NaN</td>\n",
       "      <td>0.101</td>\n",
       "      <td>1996-97</td>\n",
       "    </tr>\n",
       "    <tr>\n",
       "      <th>4</th>\n",
       "      <td>4</td>\n",
       "      <td>Martin Muursepp</td>\n",
       "      <td>DAL</td>\n",
       "      <td>22</td>\n",
       "      <td>205.74</td>\n",
       "      <td>106.59412</td>\n",
       "      <td>None</td>\n",
       "      <td>USA</td>\n",
       "      <td>1996.0</td>\n",
       "      <td>1.0</td>\n",
       "      <td>...</td>\n",
       "      <td>3.7</td>\n",
       "      <td>1.6</td>\n",
       "      <td>0.5</td>\n",
       "      <td>-14.5</td>\n",
       "      <td>0.109</td>\n",
       "      <td>0.118</td>\n",
       "      <td>0.233</td>\n",
       "      <td>0.482</td>\n",
       "      <td>0.114</td>\n",
       "      <td>1996-97</td>\n",
       "    </tr>\n",
       "  </tbody>\n",
       "</table>\n",
       "<p>5 rows × 22 columns</p>\n",
       "</div>"
      ],
      "text/plain": [
       "   Unnamed: 0      player_name team_abbreviation  age  player_height  \\\n",
       "0           0    Travis Knight               LAL   22         213.36   \n",
       "1           1        Matt Fish               MIA   27         210.82   \n",
       "2           2     Matt Bullard               HOU   30         208.28   \n",
       "3           3     Marty Conlon               BOS   29         210.82   \n",
       "4           4  Martin Muursepp               DAL   22         205.74   \n",
       "\n",
       "   player_weight                    college country  draft_year  draft_round  \\\n",
       "0      106.59412                Connecticut     USA      1996.0          1.0   \n",
       "1      106.59412  North Carolina-Wilmington     USA      1992.0          2.0   \n",
       "2      106.59412                       Iowa     USA         NaN          NaN   \n",
       "3      111.13004                 Providence     USA         NaN          NaN   \n",
       "4      106.59412                       None     USA      1996.0          1.0   \n",
       "\n",
       "   ...  pts  reb  ast  net_rating  oreb_pct  dreb_pct  usg_pct  ts_pct  \\\n",
       "0  ...  4.8  4.5  0.5         6.2     0.127     0.182    0.142   0.536   \n",
       "1  ...  0.3  0.8  0.0       -15.1     0.143     0.267    0.265   0.333   \n",
       "2  ...  4.5  1.6  0.9         0.9     0.016     0.115    0.151   0.535   \n",
       "3  ...  7.8  4.4  NaN        -9.0     0.083       NaN    0.167     NaN   \n",
       "4  ...  3.7  1.6  0.5       -14.5     0.109     0.118    0.233   0.482   \n",
       "\n",
       "   ast_pct   season  \n",
       "0    0.052  1996-97  \n",
       "1    0.000  1996-97  \n",
       "2    0.099  1996-97  \n",
       "3    0.101  1996-97  \n",
       "4    0.114  1996-97  \n",
       "\n",
       "[5 rows x 22 columns]"
      ]
     },
     "execution_count": 61,
     "metadata": {},
     "output_type": "execute_result"
    }
   ],
   "source": [
    "df_nba.head()"
   ]
  },
  {
   "cell_type": "code",
   "execution_count": 62,
   "id": "c2f0961c-36f4-4817-a28e-cbf80be06c4c",
   "metadata": {},
   "outputs": [
    {
     "data": {
      "text/plain": [
       "Index(['Unnamed: 0', 'player_name', 'team_abbreviation', 'age',\n",
       "       'player_height', 'player_weight', 'college', 'country', 'draft_year',\n",
       "       'draft_round', 'draft_number', 'gp', 'pts', 'reb', 'ast', 'net_rating',\n",
       "       'oreb_pct', 'dreb_pct', 'usg_pct', 'ts_pct', 'ast_pct', 'season'],\n",
       "      dtype='object')"
      ]
     },
     "execution_count": 62,
     "metadata": {},
     "output_type": "execute_result"
    }
   ],
   "source": [
    "df_nba.columns"
   ]
  },
  {
   "cell_type": "code",
   "execution_count": 63,
   "id": "4d1245c3-2ddf-4d32-9aab-e9487d4de6fc",
   "metadata": {},
   "outputs": [
    {
     "data": {
      "text/plain": [
       "0              Travis Knight\n",
       "1                  Matt Fish\n",
       "2               Matt Bullard\n",
       "3               Marty Conlon\n",
       "4            Martin Muursepp\n",
       "                ...         \n",
       "11695    Matthew Dellavedova\n",
       "11696       Maurice Harkless\n",
       "11697              Max Strus\n",
       "11698      Marcus Morris Sr.\n",
       "11699           Aaron Gordon\n",
       "Name: player_name, Length: 11700, dtype: object"
      ]
     },
     "execution_count": 63,
     "metadata": {},
     "output_type": "execute_result"
    }
   ],
   "source": [
    "df_nba.player_name"
   ]
  },
  {
   "cell_type": "markdown",
   "id": "1c6db360-e419-46e9-a847-fe64e777aa90",
   "metadata": {},
   "source": [
    "La serie con index `player_name` contiene variables del tipo **categórico** y **nominal**."
   ]
  },
  {
   "cell_type": "code",
   "execution_count": 64,
   "id": "1e78a55b-c7ae-46df-bb75-43d6e8150bd7",
   "metadata": {},
   "outputs": [
    {
     "data": {
      "text/plain": [
       "0        LAL\n",
       "1        MIA\n",
       "2        HOU\n",
       "3        BOS\n",
       "4        DAL\n",
       "        ... \n",
       "11695    CLE\n",
       "11696    SAC\n",
       "11697    MIA\n",
       "11698    LAC\n",
       "11699    DEN\n",
       "Name: team_abbreviation, Length: 11700, dtype: object"
      ]
     },
     "execution_count": 64,
     "metadata": {},
     "output_type": "execute_result"
    }
   ],
   "source": [
    "df_nba.team_abbreviation"
   ]
  },
  {
   "cell_type": "markdown",
   "id": "7ca1167c-bd23-4f11-bd59-358a164f1811",
   "metadata": {},
   "source": [
    "La serie con index `team_abbreviation` contiene variables del tipo **categórico** y **nominal**."
   ]
  },
  {
   "cell_type": "code",
   "execution_count": 65,
   "id": "d6c766b3-e906-41b3-8f79-7e755c2d69e5",
   "metadata": {},
   "outputs": [
    {
     "data": {
      "text/plain": [
       "0        22\n",
       "1        27\n",
       "2        30\n",
       "3        29\n",
       "4        22\n",
       "         ..\n",
       "11695    30\n",
       "11696    28\n",
       "11697    25\n",
       "11698    31\n",
       "11699    25\n",
       "Name: age, Length: 11700, dtype: int64"
      ]
     },
     "execution_count": 65,
     "metadata": {},
     "output_type": "execute_result"
    }
   ],
   "source": [
    "df_nba.age"
   ]
  },
  {
   "cell_type": "markdown",
   "id": "64e0e6d5-6ffc-4168-8566-7f7761555588",
   "metadata": {},
   "source": [
    "La serie con index `age` contiene variables del tipo **numérico** y **entero**."
   ]
  },
  {
   "cell_type": "code",
   "execution_count": 36,
   "id": "a3aa7c69-976e-4409-98aa-029cb9c22fea",
   "metadata": {},
   "outputs": [
    {
     "data": {
      "text/plain": [
       "0       213.36\n",
       "1       210.82\n",
       "2       208.28\n",
       "3       210.82\n",
       "4       205.74\n",
       "         ...  \n",
       "2726    208.28\n",
       "2727    198.12\n",
       "2728    213.36\n",
       "2729    200.66\n",
       "2730    208.28\n",
       "Name: player_height, Length: 2731, dtype: float64"
      ]
     },
     "execution_count": 36,
     "metadata": {},
     "output_type": "execute_result"
    }
   ],
   "source": [
    "df_nba.player_height"
   ]
  },
  {
   "cell_type": "markdown",
   "id": "c7979c34-a56e-4182-9d44-771e68c27fe0",
   "metadata": {},
   "source": [
    "La serie con index `player_height` contiene variables del tipo **numérico** y **flotante**."
   ]
  },
  {
   "cell_type": "code",
   "execution_count": 37,
   "id": "9cd426c8-a0d1-44fa-b9f1-7870d63f81e7",
   "metadata": {},
   "outputs": [
    {
     "data": {
      "text/plain": [
       "0       106.59412\n",
       "1       106.59412\n",
       "2       106.59412\n",
       "3       111.13004\n",
       "4       106.59412\n",
       "          ...    \n",
       "2726    122.46984\n",
       "2727     95.25432\n",
       "2728    115.66596\n",
       "2729    115.66596\n",
       "2730    115.66596\n",
       "Name: player_weight, Length: 2731, dtype: float64"
      ]
     },
     "execution_count": 37,
     "metadata": {},
     "output_type": "execute_result"
    }
   ],
   "source": [
    "df_nba.player_weight"
   ]
  },
  {
   "cell_type": "markdown",
   "id": "18583e8a-0bfb-4199-812e-eb15898310b8",
   "metadata": {},
   "source": [
    "La serie con index `player_weigth` contiene variables del tipo"
   ]
  },
  {
   "cell_type": "code",
   "execution_count": 38,
   "id": "46b090d8-2899-40a6-9804-9b38c358b6e4",
   "metadata": {},
   "outputs": [
    {
     "data": {
      "text/plain": [
       "0                     Connecticut\n",
       "1       North Carolina-Wilmington\n",
       "2                            Iowa\n",
       "3                      Providence\n",
       "4                            None\n",
       "                  ...            \n",
       "2726                       Temple\n",
       "2727                         None\n",
       "2728                       Auburn\n",
       "2729                       Drexel\n",
       "2730                    Villanova\n",
       "Name: college, Length: 2731, dtype: object"
      ]
     },
     "execution_count": 38,
     "metadata": {},
     "output_type": "execute_result"
    }
   ],
   "source": [
    "df_nba.college"
   ]
  },
  {
   "cell_type": "markdown",
   "id": "50bf8d6a-280f-4077-8403-f6c58e1d7dc2",
   "metadata": {},
   "source": [
    "La serie con index `college` contiene variables del tipo"
   ]
  },
  {
   "cell_type": "code",
   "execution_count": 40,
   "id": "50fc466f-42f2-491e-ae7f-a30688c6af8a",
   "metadata": {},
   "outputs": [
    {
     "data": {
      "text/plain": [
       "0             USA\n",
       "1             USA\n",
       "2             USA\n",
       "3             USA\n",
       "4             USA\n",
       "          ...    \n",
       "2726          USA\n",
       "2727    Argentina\n",
       "2728      Senegal\n",
       "2729          USA\n",
       "2730          USA\n",
       "Name: country, Length: 2731, dtype: object"
      ]
     },
     "execution_count": 40,
     "metadata": {},
     "output_type": "execute_result"
    }
   ],
   "source": [
    "df_nba.country"
   ]
  },
  {
   "cell_type": "markdown",
   "id": "3da9c814-713f-41ac-93bb-72c746aaae96",
   "metadata": {},
   "source": [
    "La serie con index `country` contiene variables del tipo"
   ]
  },
  {
   "cell_type": "code",
   "execution_count": 41,
   "id": "50a1931f-6be7-4a7e-afe9-94406c5163ae",
   "metadata": {},
   "outputs": [
    {
     "data": {
      "text/plain": [
       "0            1996\n",
       "1            1992\n",
       "2       Undrafted\n",
       "3       Undrafted\n",
       "4            1996\n",
       "          ...    \n",
       "2726         1997\n",
       "2727         1999\n",
       "2728         2000\n",
       "2729         1996\n",
       "2730    Undrafted\n",
       "Name: draft_year, Length: 2731, dtype: object"
      ]
     },
     "execution_count": 41,
     "metadata": {},
     "output_type": "execute_result"
    }
   ],
   "source": [
    "df_nba.draft_year"
   ]
  },
  {
   "cell_type": "markdown",
   "id": "96645080-e2a9-44b4-900f-9e706a59973a",
   "metadata": {},
   "source": [
    "La serie con index `draft_year` contiene variables del tipo"
   ]
  },
  {
   "cell_type": "code",
   "execution_count": 43,
   "id": "11db3f57-2390-4b26-858e-53dc9ac5a02b",
   "metadata": {},
   "outputs": [
    {
     "data": {
      "text/plain": [
       "0               1\n",
       "1               2\n",
       "2       Undrafted\n",
       "3       Undrafted\n",
       "4               1\n",
       "          ...    \n",
       "2726            2\n",
       "2727            2\n",
       "2728            1\n",
       "2729            2\n",
       "2730    Undrafted\n",
       "Name: draft_round, Length: 2731, dtype: object"
      ]
     },
     "execution_count": 43,
     "metadata": {},
     "output_type": "execute_result"
    }
   ],
   "source": [
    "df_nba.draft_round"
   ]
  },
  {
   "cell_type": "markdown",
   "id": "7b7dceab-bac3-4910-b905-b657b6ffd17a",
   "metadata": {},
   "source": [
    "La serie con index `draft_round` contiene variables del tipo"
   ]
  },
  {
   "cell_type": "code",
   "execution_count": 45,
   "id": "51d87058-6c92-4b94-8d9f-c6f7ef76bdbf",
   "metadata": {},
   "outputs": [
    {
     "data": {
      "text/plain": [
       "0              29\n",
       "1              50\n",
       "2       Undrafted\n",
       "3       Undrafted\n",
       "4              25\n",
       "          ...    \n",
       "2726           37\n",
       "2727           57\n",
       "2728           26\n",
       "2729           44\n",
       "2730    Undrafted\n",
       "Name: draft_number, Length: 2731, dtype: object"
      ]
     },
     "execution_count": 45,
     "metadata": {},
     "output_type": "execute_result"
    }
   ],
   "source": [
    "df_nba.draft_number"
   ]
  },
  {
   "cell_type": "markdown",
   "id": "a5e2d69e-e69c-4c1d-a39d-bbb2f4d041bb",
   "metadata": {},
   "source": [
    "La serie con index `drraft_number` contiene variables del tipo"
   ]
  },
  {
   "cell_type": "code",
   "execution_count": 59,
   "id": "caddbef9-b65b-45b0-805f-2794a9e3c9e5",
   "metadata": {},
   "outputs": [
    {
     "data": {
      "text/plain": [
       "0       71\n",
       "1        6\n",
       "2       71\n",
       "3       74\n",
       "4       42\n",
       "        ..\n",
       "2726    77\n",
       "2727    69\n",
       "2728    22\n",
       "2729    79\n",
       "2730    80\n",
       "Name: gp, Length: 2731, dtype: int64"
      ]
     },
     "execution_count": 59,
     "metadata": {},
     "output_type": "execute_result"
    }
   ],
   "source": [
    "df_nba.gp"
   ]
  },
  {
   "cell_type": "markdown",
   "id": "e1616ba4-ac58-4fa0-ae5d-fc38034137fa",
   "metadata": {},
   "source": [
    "> gp: games played.  \n",
    "\n",
    "La serie con index `gp` contiene variables del tipo"
   ]
  },
  {
   "cell_type": "code",
   "execution_count": 47,
   "id": "723e4bea-d6c9-4ec4-8159-1fa0611e2519",
   "metadata": {},
   "outputs": [
    {
     "data": {
      "text/plain": [
       "0        4.8\n",
       "1        0.3\n",
       "2        4.5\n",
       "3        7.8\n",
       "4        3.7\n",
       "        ... \n",
       "2726     5.5\n",
       "2727     7.6\n",
       "2728     5.5\n",
       "2729    10.4\n",
       "2730     9.6\n",
       "Name: pts, Length: 2731, dtype: float64"
      ]
     },
     "execution_count": 47,
     "metadata": {},
     "output_type": "execute_result"
    }
   ],
   "source": [
    "df_nba.pts"
   ]
  },
  {
   "cell_type": "markdown",
   "id": "e4de7004-2211-4b25-afc2-8eb2acae74dd",
   "metadata": {},
   "source": [
    "> pts: points.  \n",
    "\n",
    "La serie con index `pts` contiene variables del tipo"
   ]
  },
  {
   "cell_type": "code",
   "execution_count": 48,
   "id": "bea9b5f2-251f-410a-bbda-1e27e7425e10",
   "metadata": {},
   "outputs": [
    {
     "data": {
      "text/plain": [
       "0       4.5\n",
       "1       0.8\n",
       "2       1.6\n",
       "3       4.4\n",
       "4       1.6\n",
       "       ... \n",
       "2726    2.9\n",
       "2727    2.3\n",
       "2728    3.7\n",
       "2729    6.4\n",
       "2730    5.3\n",
       "Name: reb, Length: 2731, dtype: float64"
      ]
     },
     "execution_count": 48,
     "metadata": {},
     "output_type": "execute_result"
    }
   ],
   "source": [
    "df_nba.reb"
   ]
  },
  {
   "cell_type": "markdown",
   "id": "754495e3-f4e0-4787-99b7-5042979485d0",
   "metadata": {},
   "source": [
    "> rb: rebounds.  \n",
    "\n",
    "La serie con index `reb` contiene variables del tipo"
   ]
  },
  {
   "cell_type": "code",
   "execution_count": 49,
   "id": "51c4ec08-3184-4a10-84bc-09f8f1b98ef1",
   "metadata": {},
   "outputs": [
    {
     "data": {
      "text/plain": [
       "0       0.5\n",
       "1       0.0\n",
       "2       0.9\n",
       "3       1.4\n",
       "4       0.5\n",
       "       ... \n",
       "2726    0.5\n",
       "2727    2.0\n",
       "2728    0.3\n",
       "2729    1.6\n",
       "2730    0.7\n",
       "Name: ast, Length: 2731, dtype: float64"
      ]
     },
     "execution_count": 49,
     "metadata": {},
     "output_type": "execute_result"
    }
   ],
   "source": [
    "df_nba.ast"
   ]
  },
  {
   "cell_type": "markdown",
   "id": "6f3d12f7-ebf0-4da9-8882-0c0e632898b8",
   "metadata": {},
   "source": [
    "> ast: assist.  \n",
    "\n",
    "La serie con index `ast` contiene variables del tipo"
   ]
  },
  {
   "cell_type": "code",
   "execution_count": 50,
   "id": "2f3c8447-124a-499b-9672-74052d5680bb",
   "metadata": {},
   "outputs": [
    {
     "data": {
      "text/plain": [
       "0        6.2\n",
       "1      -15.1\n",
       "2        0.9\n",
       "3       -9.0\n",
       "4      -14.5\n",
       "        ... \n",
       "2726     2.9\n",
       "2727     6.8\n",
       "2728    -3.2\n",
       "2729     6.3\n",
       "2730    -8.3\n",
       "Name: net_rating, Length: 2731, dtype: float64"
      ]
     },
     "execution_count": 50,
     "metadata": {},
     "output_type": "execute_result"
    }
   ],
   "source": [
    "df_nba.net_rating"
   ]
  },
  {
   "cell_type": "markdown",
   "id": "a3057acb-ccf1-4327-b27f-cdc43c949db4",
   "metadata": {},
   "source": [
    "> NBA's efficiency rating: (PTS + REB + AST + STL + BLK − ((FGA − FGM) + (FTA − FTM) + TO)).\n",
    "\n",
    "La serie con index `net_rating` contiene variables del tipo"
   ]
  },
  {
   "cell_type": "code",
   "execution_count": 51,
   "id": "091c4362-70d2-4d0a-9468-d74c8b0d9d5b",
   "metadata": {},
   "outputs": [
    {
     "data": {
      "text/plain": [
       "0       0.127\n",
       "1       0.143\n",
       "2       0.016\n",
       "3       0.083\n",
       "4       0.109\n",
       "        ...  \n",
       "2726    0.099\n",
       "2727    0.039\n",
       "2728    0.084\n",
       "2729    0.095\n",
       "2730    0.065\n",
       "Name: oreb_pct, Length: 2731, dtype: float64"
      ]
     },
     "execution_count": 51,
     "metadata": {},
     "output_type": "execute_result"
    }
   ],
   "source": [
    "df_nba.oreb_pct"
   ]
  },
  {
   "cell_type": "markdown",
   "id": "c747d548-e97f-41dc-8837-74dfe57aca80",
   "metadata": {},
   "source": [
    "> oreb: offensive rebounds.  \n",
    "\n",
    "La serie con index `oreb_pct` contiene variables del tipo"
   ]
  },
  {
   "cell_type": "code",
   "execution_count": 52,
   "id": "7aab9513-ff7d-4af8-8426-2e2bfd2dd8ce",
   "metadata": {},
   "outputs": [
    {
     "data": {
      "text/plain": [
       "0       0.182\n",
       "1       0.267\n",
       "2       0.115\n",
       "3       0.152\n",
       "4       0.118\n",
       "        ...  \n",
       "2726    0.151\n",
       "2727    0.091\n",
       "2728    0.167\n",
       "2729    0.210\n",
       "2730    0.151\n",
       "Name: dreb_pct, Length: 2731, dtype: float64"
      ]
     },
     "execution_count": 52,
     "metadata": {},
     "output_type": "execute_result"
    }
   ],
   "source": [
    "df_nba.dreb_pct"
   ]
  },
  {
   "cell_type": "markdown",
   "id": "9f12d8ef-908d-41c2-8d2a-97749e3891db",
   "metadata": {},
   "source": [
    "> dreb: deffensive rebounds.  \n",
    "\n",
    "La serie con index `dreb_pct` contiene variables del tipo"
   ]
  },
  {
   "cell_type": "code",
   "execution_count": 53,
   "id": "226dae7a-0adf-46a3-abd6-b523e5431c3b",
   "metadata": {},
   "outputs": [
    {
     "data": {
      "text/plain": [
       "0       0.142\n",
       "1       0.265\n",
       "2       0.151\n",
       "3       0.167\n",
       "4       0.233\n",
       "        ...  \n",
       "2726    0.209\n",
       "2727    0.182\n",
       "2728    0.164\n",
       "2729    0.223\n",
       "2730    0.198\n",
       "Name: usg_pct, Length: 2731, dtype: float64"
      ]
     },
     "execution_count": 53,
     "metadata": {},
     "output_type": "execute_result"
    }
   ],
   "source": [
    "df_nba.usg_pct"
   ]
  },
  {
   "cell_type": "markdown",
   "id": "98f48c4b-152d-4b37-8b7a-f4d413246a17",
   "metadata": {},
   "source": [
    "> Usage Percentage (available since the 1977-78 season in the NBA); the formula is 100 * ((FGA + 0.44 * FTA + TOV) * (Tm MP / 5)) / (MP * (Tm FGA + 0.44 * Tm FTA + Tm TOV)). Usage percentage is an estimate of the percentage of team plays used by a player while he was on the floor.\n",
    "\n",
    "La serie con index `usg_pct` contiene variables del tipo"
   ]
  },
  {
   "cell_type": "code",
   "execution_count": 54,
   "id": "d5004684-2009-42ac-be75-c4ed52f0c548",
   "metadata": {},
   "outputs": [
    {
     "data": {
      "text/plain": [
       "0       0.536\n",
       "1       0.333\n",
       "2       0.535\n",
       "3       0.542\n",
       "4       0.482\n",
       "        ...  \n",
       "2726    0.508\n",
       "2727    0.556\n",
       "2728    0.514\n",
       "2729    0.538\n",
       "2730    0.455\n",
       "Name: ts_pct, Length: 2731, dtype: float64"
      ]
     },
     "execution_count": 54,
     "metadata": {},
     "output_type": "execute_result"
    }
   ],
   "source": [
    "df_nba.ts_pct"
   ]
  },
  {
   "cell_type": "markdown",
   "id": "bdaf44ef-4215-4301-9479-ac074583577e",
   "metadata": {},
   "source": [
    "> ts_pct True shooting percentage.\n",
    "\n",
    "La serie con index `ts_pct` contiene variables del tipo"
   ]
  },
  {
   "cell_type": "code",
   "execution_count": 55,
   "id": "d55c8ab8-c91b-47e6-a4e0-a537d27da8a3",
   "metadata": {},
   "outputs": [
    {
     "data": {
      "text/plain": [
       "0       0.052\n",
       "1       0.000\n",
       "2       0.099\n",
       "3       0.101\n",
       "4       0.114\n",
       "        ...  \n",
       "2726    0.058\n",
       "2727    0.163\n",
       "2728    0.031\n",
       "2729    0.112\n",
       "2730    0.042\n",
       "Name: ast_pct, Length: 2731, dtype: float64"
      ]
     },
     "execution_count": 55,
     "metadata": {},
     "output_type": "execute_result"
    }
   ],
   "source": [
    "df_nba.ast_pct"
   ]
  },
  {
   "cell_type": "markdown",
   "id": "7244bbc4-db79-4674-87a0-216dc3b784fd",
   "metadata": {},
   "source": [
    "> assistance percentage.\n",
    "\n",
    "La serie con index `ast_pct` contiene variables del tipo"
   ]
  },
  {
   "cell_type": "code",
   "execution_count": 56,
   "id": "e7dc182d-2f0f-4c67-b7fd-a01a3d7055b4",
   "metadata": {},
   "outputs": [
    {
     "data": {
      "text/plain": [
       "0       1996-97\n",
       "1       1996-97\n",
       "2       1996-97\n",
       "3       1996-97\n",
       "4       1996-97\n",
       "         ...   \n",
       "2726    2002-03\n",
       "2727    2002-03\n",
       "2728    2002-03\n",
       "2729    2002-03\n",
       "2730    2002-03\n",
       "Name: season, Length: 2731, dtype: object"
      ]
     },
     "execution_count": 56,
     "metadata": {},
     "output_type": "execute_result"
    }
   ],
   "source": [
    "df_nba.season"
   ]
  },
  {
   "cell_type": "markdown",
   "id": "0ce2bdd2-28ab-482c-94a6-98925617958c",
   "metadata": {},
   "source": [
    "La serie con index `season` contiene variables del tipo"
   ]
  }
 ],
 "metadata": {
  "kernelspec": {
   "display_name": "Python 3 (ipykernel)",
   "language": "python",
   "name": "python3"
  },
  "language_info": {
   "codemirror_mode": {
    "name": "ipython",
    "version": 3
   },
   "file_extension": ".py",
   "mimetype": "text/x-python",
   "name": "python",
   "nbconvert_exporter": "python",
   "pygments_lexer": "ipython3",
   "version": "3.9.5"
  }
 },
 "nbformat": 4,
 "nbformat_minor": 5
}
