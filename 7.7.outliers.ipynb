{
 "cells": [
  {
   "cell_type": "markdown",
   "id": "5ed00630-da1f-4a43-9c95-9b83319e3678",
   "metadata": {},
   "source": [
    "# Outliers\n",
    "\n",
    "Valores *extremos* e inválidos que caen por fuera de los esperados."
   ]
  },
  {
   "cell_type": "code",
   "execution_count": null,
   "id": "ca78e637-0d32-4be4-bcdc-1a90959ee443",
   "metadata": {},
   "outputs": [],
   "source": [
    "import pandas as pd"
   ]
  },
  {
   "cell_type": "code",
   "execution_count": null,
   "id": "f040446b-fa24-4b3a-afd8-f1ced9e9398e",
   "metadata": {},
   "outputs": [],
   "source": [
    "df = pd.read_csv('datasets/nba_players.csv')"
   ]
  },
  {
   "cell_type": "code",
   "execution_count": null,
   "id": "dc514b91-b03d-47ab-963a-bb1fa7ec4370",
   "metadata": {},
   "outputs": [],
   "source": [
    "df.head()"
   ]
  },
  {
   "cell_type": "code",
   "execution_count": null,
   "id": "783edcb0-88cd-47f2-8011-3eda328b5c42",
   "metadata": {},
   "outputs": [],
   "source": [
    "! pip install matplotlib"
   ]
  },
  {
   "cell_type": "markdown",
   "id": "6196e56c-0f32-4b80-afb4-d322a92e0aaa",
   "metadata": {},
   "source": [
    "## Gráfico de dispersión"
   ]
  },
  {
   "cell_type": "code",
   "execution_count": null,
   "id": "50d47632-9978-4978-8a66-1748e583967f",
   "metadata": {},
   "outputs": [],
   "source": [
    "df.plot.scatter(x='age', y='player_height')"
   ]
  },
  {
   "cell_type": "markdown",
   "id": "2d73fe83-1b24-40e6-a9dd-2b9fff275742",
   "metadata": {},
   "source": [
    "## Histograma"
   ]
  },
  {
   "cell_type": "code",
   "execution_count": null,
   "id": "80fb8c58-de4d-471a-b71d-69b2bce66526",
   "metadata": {},
   "outputs": [],
   "source": [
    "df.age.hist(bins=50)"
   ]
  },
  {
   "cell_type": "markdown",
   "id": "60f8adcb-76b1-4191-bf6e-483936f2c43c",
   "metadata": {},
   "source": [
    "## Distribución normal\n",
    "\n",
    "![](https://upload.wikimedia.org/wikipedia/commons/thumb/3/3a/Standard_deviation_diagram_micro.svg/488px-Standard_deviation_diagram_micro.svg.png)"
   ]
  },
  {
   "cell_type": "code",
   "execution_count": null,
   "id": "91068ba2-9712-4274-8f1f-c5c1136e86ee",
   "metadata": {},
   "outputs": [],
   "source": [
    "df.age.mean()"
   ]
  },
  {
   "cell_type": "code",
   "execution_count": null,
   "id": "84555881-8ea3-4823-8b3c-ab892a188b5b",
   "metadata": {},
   "outputs": [],
   "source": [
    "df.age.std()"
   ]
  },
  {
   "cell_type": "markdown",
   "id": "b8d4a024-89da-4394-8038-18d7bda2cdfe",
   "metadata": {},
   "source": [
    "### 3 desviaciones estandar"
   ]
  },
  {
   "cell_type": "code",
   "execution_count": null,
   "id": "935ee0dc-019f-4fc2-b20e-25c9e90bc7c8",
   "metadata": {},
   "outputs": [],
   "source": [
    "lower_limit = df.age.mean() - 3 * df.age.std()\n",
    "upper_limit = df.age.mean() + 3 * df.age.std()\n",
    "lower_limit, upper_limit"
   ]
  },
  {
   "cell_type": "code",
   "execution_count": null,
   "id": "3857987b-3db2-4c27-a7c1-55eb2af5e11b",
   "metadata": {},
   "outputs": [],
   "source": [
    "df[df.age < lower_limit]"
   ]
  },
  {
   "cell_type": "code",
   "execution_count": null,
   "id": "c667e9be-1f2a-42e9-8270-97c483dea659",
   "metadata": {},
   "outputs": [],
   "source": [
    "df[df.age > upper_limit] = int(df.age.mean())"
   ]
  },
  {
   "cell_type": "code",
   "execution_count": null,
   "id": "4cf341de-17c8-42be-be9e-c9dd56d8970a",
   "metadata": {},
   "outputs": [],
   "source": [
    "df"
   ]
  },
  {
   "cell_type": "markdown",
   "id": "e15f0d87-b286-4b0e-8748-1ed99f96f266",
   "metadata": {},
   "source": [
    "## Ejercicios\n",
    "\n",
    "### Asincrónicos"
   ]
  },
  {
   "cell_type": "markdown",
   "id": "3413b7ee-271d-4839-8538-3d7cc1fc4fe6",
   "metadata": {},
   "source": [
    "* Dados los siguientes DataFrames, reemplazar aquellos valores sin sentido físico y que caigan fuera del rango recomendado, estableciendo un criterio para ello"
   ]
  },
  {
   "cell_type": "code",
   "execution_count": null,
   "id": "4295ef75-6032-4e6c-85ad-a5055d568374",
   "metadata": {},
   "outputs": [],
   "source": [
    "import pandas as pd"
   ]
  },
  {
   "cell_type": "code",
   "execution_count": null,
   "id": "3b90d703-d17c-40c9-b1b7-5afee9fd8eb0",
   "metadata": {
    "tags": []
   },
   "outputs": [],
   "source": [
    "dogs_visits = {\n",
    "    \"date\": {\n",
    "        0: \"2018-09-02\",\n",
    "        1: \"2019-03-13\",\n",
    "        2: \"2019-03-19\",\n",
    "        3: \"2018-10-02\",\n",
    "        4: \"2018-01-17\",\n",
    "        5: \"2019-10-19\",\n",
    "        6: \"2019-05-01\",\n",
    "        7: \"2019-06-07\",\n",
    "        8: \"2019-03-30\",\n",
    "        9: \"2019-01-04\",\n",
    "        10: \"2019-04-22\",\n",
    "        11: \"2018-08-17\",\n",
    "        12: \"2019-08-19\",\n",
    "        13: \"2019-09-30\",\n",
    "        14: \"2019-11-29\",\n",
    "    },\n",
    "    \"name\": {\n",
    "        0: \"Bella\",\n",
    "        1: \"Max\",\n",
    "        2: \"Charlie\",\n",
    "        3: \"Bella\",\n",
    "        4: \"Stella\",\n",
    "        5: \"Lucy\",\n",
    "        6: \"Max\",\n",
    "        7: \"Max\",\n",
    "        8: \"Cooper\",\n",
    "        9: \"Bernie\",\n",
    "        10: \"Charlie\",\n",
    "        11: \"Stella\",\n",
    "        12: \"Charlie\",\n",
    "        13: \"Cooper\",\n",
    "        14: \"Lucy\",\n",
    "    },\n",
    "    \"breed\": {\n",
    "        0: \"Labrador\",\n",
    "        1: \"Chow Chow\",\n",
    "        2: \"Poodle\",\n",
    "        3: \"Labrador\",\n",
    "        4: \"Chihuahua\",\n",
    "        5: \"Chow Chow\",\n",
    "        6: \"Chow Chow\",\n",
    "        7: \"Labrador\",\n",
    "        8: \"Schnauzer\",\n",
    "        9: \"St. Bernard\",\n",
    "        10: \"Poodle\",\n",
    "        11: \"Labrador\",\n",
    "        12: \"Chihuahua\",\n",
    "        13: \"Chow Chow\",\n",
    "        14: \"Chow Chow\",\n",
    "    },\n",
    "    \"weight_kg\": {\n",
    "        0: 24.87,\n",
    "        1: 24.13,\n",
    "        2: 24.95,\n",
    "        3: 33.72,\n",
    "        4: 1.51,\n",
    "        5: 324.07,\n",
    "        6: 31.25,\n",
    "        7: 28.35,\n",
    "        8: 16.91,\n",
    "        9: 74.98,\n",
    "        10: 25.37,\n",
    "        11: 23.55,\n",
    "        12: 2.95,\n",
    "        13: -22.16,\n",
    "        14: 24.19,\n",
    "    },\n",
    "}\n",
    "df = pd.DataFrame(dogs_visits)\n",
    "\n",
    "df"
   ]
  },
  {
   "cell_type": "code",
   "execution_count": null,
   "id": "0944b383-3f1c-4b72-9960-5dd454d33907",
   "metadata": {},
   "outputs": [],
   "source": []
  },
  {
   "cell_type": "code",
   "execution_count": null,
   "id": "61c3215b-4440-4c85-a9f9-422895ab33a8",
   "metadata": {},
   "outputs": [],
   "source": [
    "pizza_menu = {\n",
    "    \"Food Name\": {\n",
    "        1: \"Hand Tossed\",\n",
    "        2: \"Hand Tossed\",\n",
    "        3: \"Hand Tossed\",\n",
    "        4: \"Handmade Pan\",\n",
    "        5: \"Crunchy Thin Crust\",\n",
    "        6: \"Crunchy Thin Crust\",\n",
    "        7: \"Crunchy Thin Crust\",\n",
    "        8: \"Brooklyn Style\",\n",
    "        9: \"Brooklyn Style\",\n",
    "        10: \"Gluten Free Crust\",\n",
    "        12: \"Spinach & Feta (Hand Tossed or Thin Crust)\",\n",
    "        13: \"Spinach & Feta (Hand Tossed, Handmade Pan or Thin Crust)\",\n",
    "        14: \"Spinach & Feta (Hand Tossed, Thin Crust or Brooklyn Style)\",\n",
    "        15: \"Spinach & Feta (Brooklyn Style)\",\n",
    "        16: \"Spinach & Feta (Gluten Free Crust)\",\n",
    "        17: \"Wisconsin 6 Cheese (Hand Tossed or Thin Crust)\",\n",
    "        18: \"Wisconsin 6 Cheese (Hand Tossed, Handmade Pan or Thin Crust)\",\n",
    "        19: \"Wisconsin 6 Cheese (Hand Tossed, Thin Crust or Brooklyn Style)\",\n",
    "        20: \"Wisconsin 6 Cheese (Brooklyn Style)\",\n",
    "        21: \"Wisconsin 6 Cheese (Gluten Free Crust)\",\n",
    "    },\n",
    "    \"Size\": {\n",
    "        1: 'Small (10\")',\n",
    "        2: 'Medium (12\")',\n",
    "        3: 'Large (14\")',\n",
    "        4: 'Medium (12\")',\n",
    "        5: 'Small (10\")',\n",
    "        6: 'Medium (12\")',\n",
    "        7: 'Large (14\")',\n",
    "        8: 'Large (14\")',\n",
    "        9: 'X-Large (16\")',\n",
    "        10: 'Small (10\")',\n",
    "        12: 'Small (10\")',\n",
    "        13: 'Medium (12\")',\n",
    "        14: 'Large (14\")',\n",
    "        15: 'X-Large (16\")',\n",
    "        16: 'Small (10\")',\n",
    "        17: 'Small (10\")',\n",
    "        18: 'Medium (12\")',\n",
    "        19: 'Large (14\")',\n",
    "        20: 'X-Large (16\")',\n",
    "        21: 'Small (10\")',\n",
    "    },\n",
    "    \"Price\": {\n",
    "        1: 5.99,\n",
    "        2: 7.99,\n",
    "        3: 9.99,\n",
    "        4: 7.99,\n",
    "        5: 5.99,\n",
    "        6: -77.99,\n",
    "        7: 9.99,\n",
    "        8: 9.99,\n",
    "        9: -11.99,\n",
    "        10: 8.99,\n",
    "        12: 11.99,\n",
    "        13: 13.99,\n",
    "        14: 15.99,\n",
    "        15: 17.99,\n",
    "        16: 114.99,\n",
    "        17: 11.99,\n",
    "        18: 13.99,\n",
    "        19: 15.99,\n",
    "        20: 117.99,\n",
    "        21: 14.99,\n",
    "    },\n",
    "}\n",
    "\n",
    "df = pd.DataFrame(pizza_menu)\n",
    "\n",
    "df"
   ]
  },
  {
   "cell_type": "code",
   "execution_count": null,
   "id": "637847db-7927-4312-b3b9-c7be38b3a80b",
   "metadata": {},
   "outputs": [],
   "source": []
  },
  {
   "cell_type": "code",
   "execution_count": null,
   "id": "d39f7ddd-fcb5-410b-828c-cd10977af533",
   "metadata": {},
   "outputs": [],
   "source": []
  }
 ],
 "metadata": {
  "kernelspec": {
   "display_name": "Python 3 (ipykernel)",
   "language": "python",
   "name": "python3"
  },
  "language_info": {
   "codemirror_mode": {
    "name": "ipython",
    "version": 3
   },
   "file_extension": ".py",
   "mimetype": "text/x-python",
   "name": "python",
   "nbconvert_exporter": "python",
   "pygments_lexer": "ipython3",
   "version": "3.9.11"
  }
 },
 "nbformat": 4,
 "nbformat_minor": 5
}
