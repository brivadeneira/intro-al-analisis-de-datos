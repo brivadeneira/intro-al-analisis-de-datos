{
 "cells": [
  {
   "cell_type": "markdown",
   "id": "6b261bf6-2a8f-483c-b5f6-bf3f60bdc1aa",
   "metadata": {},
   "source": [
    "# Data filtering"
   ]
  },
  {
   "cell_type": "code",
   "execution_count": 5,
   "id": "e2ab86cd-f26d-45c0-b94c-771b44392fee",
   "metadata": {},
   "outputs": [],
   "source": [
    "import pandas as pd"
   ]
  },
  {
   "cell_type": "code",
   "execution_count": 30,
   "id": "c551a74a-c37f-4f65-9a40-769495f1acbe",
   "metadata": {},
   "outputs": [],
   "source": [
    "df = pd.read_csv('datasets/nba_players.csv', index_col=['player_name'], usecols=[i for i in range(1, 21)])"
   ]
  },
  {
   "cell_type": "code",
   "execution_count": 31,
   "id": "ec80ed1f-289a-4fbd-9648-559f673df124",
   "metadata": {},
   "outputs": [
    {
     "data": {
      "text/html": [
       "<div>\n",
       "<style scoped>\n",
       "    .dataframe tbody tr th:only-of-type {\n",
       "        vertical-align: middle;\n",
       "    }\n",
       "\n",
       "    .dataframe tbody tr th {\n",
       "        vertical-align: top;\n",
       "    }\n",
       "\n",
       "    .dataframe thead th {\n",
       "        text-align: right;\n",
       "    }\n",
       "</style>\n",
       "<table border=\"1\" class=\"dataframe\">\n",
       "  <thead>\n",
       "    <tr style=\"text-align: right;\">\n",
       "      <th></th>\n",
       "      <th>team_abbreviation</th>\n",
       "      <th>age</th>\n",
       "      <th>player_height</th>\n",
       "      <th>player_weight</th>\n",
       "      <th>college</th>\n",
       "      <th>country</th>\n",
       "      <th>draft_year</th>\n",
       "      <th>draft_round</th>\n",
       "      <th>draft_number</th>\n",
       "      <th>gp</th>\n",
       "      <th>pts</th>\n",
       "      <th>reb</th>\n",
       "      <th>ast</th>\n",
       "      <th>net_rating</th>\n",
       "      <th>oreb_pct</th>\n",
       "      <th>dreb_pct</th>\n",
       "      <th>usg_pct</th>\n",
       "      <th>ts_pct</th>\n",
       "      <th>ast_pct</th>\n",
       "    </tr>\n",
       "    <tr>\n",
       "      <th>player_name</th>\n",
       "      <th></th>\n",
       "      <th></th>\n",
       "      <th></th>\n",
       "      <th></th>\n",
       "      <th></th>\n",
       "      <th></th>\n",
       "      <th></th>\n",
       "      <th></th>\n",
       "      <th></th>\n",
       "      <th></th>\n",
       "      <th></th>\n",
       "      <th></th>\n",
       "      <th></th>\n",
       "      <th></th>\n",
       "      <th></th>\n",
       "      <th></th>\n",
       "      <th></th>\n",
       "      <th></th>\n",
       "      <th></th>\n",
       "    </tr>\n",
       "  </thead>\n",
       "  <tbody>\n",
       "    <tr>\n",
       "      <th>Travis Knight</th>\n",
       "      <td>LAL</td>\n",
       "      <td>22</td>\n",
       "      <td>213.36</td>\n",
       "      <td>106.594120</td>\n",
       "      <td>Connecticut</td>\n",
       "      <td>USA</td>\n",
       "      <td>1996.0</td>\n",
       "      <td>1.0</td>\n",
       "      <td>29.0</td>\n",
       "      <td>71.0</td>\n",
       "      <td>4.8</td>\n",
       "      <td>4.5</td>\n",
       "      <td>0.5</td>\n",
       "      <td>6.2</td>\n",
       "      <td>0.127</td>\n",
       "      <td>0.182</td>\n",
       "      <td>0.142</td>\n",
       "      <td>0.536</td>\n",
       "      <td>0.052</td>\n",
       "    </tr>\n",
       "    <tr>\n",
       "      <th>Matt Fish</th>\n",
       "      <td>MIA</td>\n",
       "      <td>27</td>\n",
       "      <td>210.82</td>\n",
       "      <td>106.594120</td>\n",
       "      <td>North Carolina-Wilmington</td>\n",
       "      <td>USA</td>\n",
       "      <td>1992.0</td>\n",
       "      <td>2.0</td>\n",
       "      <td>50.0</td>\n",
       "      <td>6.0</td>\n",
       "      <td>0.3</td>\n",
       "      <td>0.8</td>\n",
       "      <td>0.0</td>\n",
       "      <td>-15.1</td>\n",
       "      <td>0.143</td>\n",
       "      <td>0.267</td>\n",
       "      <td>0.265</td>\n",
       "      <td>0.333</td>\n",
       "      <td>0.000</td>\n",
       "    </tr>\n",
       "    <tr>\n",
       "      <th>Matt Bullard</th>\n",
       "      <td>HOU</td>\n",
       "      <td>30</td>\n",
       "      <td>208.28</td>\n",
       "      <td>106.594120</td>\n",
       "      <td>Iowa</td>\n",
       "      <td>USA</td>\n",
       "      <td>NaN</td>\n",
       "      <td>NaN</td>\n",
       "      <td>NaN</td>\n",
       "      <td>71.0</td>\n",
       "      <td>4.5</td>\n",
       "      <td>1.6</td>\n",
       "      <td>0.9</td>\n",
       "      <td>0.9</td>\n",
       "      <td>0.016</td>\n",
       "      <td>0.115</td>\n",
       "      <td>0.151</td>\n",
       "      <td>0.535</td>\n",
       "      <td>0.099</td>\n",
       "    </tr>\n",
       "    <tr>\n",
       "      <th>Marty Conlon</th>\n",
       "      <td>BOS</td>\n",
       "      <td>29</td>\n",
       "      <td>210.82</td>\n",
       "      <td>111.130040</td>\n",
       "      <td>Providence</td>\n",
       "      <td>USA</td>\n",
       "      <td>NaN</td>\n",
       "      <td>NaN</td>\n",
       "      <td>NaN</td>\n",
       "      <td>74.0</td>\n",
       "      <td>7.8</td>\n",
       "      <td>4.4</td>\n",
       "      <td>NaN</td>\n",
       "      <td>-9.0</td>\n",
       "      <td>0.083</td>\n",
       "      <td>NaN</td>\n",
       "      <td>0.167</td>\n",
       "      <td>NaN</td>\n",
       "      <td>0.101</td>\n",
       "    </tr>\n",
       "    <tr>\n",
       "      <th>Martin Muursepp</th>\n",
       "      <td>DAL</td>\n",
       "      <td>22</td>\n",
       "      <td>205.74</td>\n",
       "      <td>106.594120</td>\n",
       "      <td>None</td>\n",
       "      <td>USA</td>\n",
       "      <td>1996.0</td>\n",
       "      <td>1.0</td>\n",
       "      <td>25.0</td>\n",
       "      <td>42.0</td>\n",
       "      <td>3.7</td>\n",
       "      <td>1.6</td>\n",
       "      <td>0.5</td>\n",
       "      <td>-14.5</td>\n",
       "      <td>0.109</td>\n",
       "      <td>0.118</td>\n",
       "      <td>0.233</td>\n",
       "      <td>0.482</td>\n",
       "      <td>0.114</td>\n",
       "    </tr>\n",
       "    <tr>\n",
       "      <th>...</th>\n",
       "      <td>...</td>\n",
       "      <td>...</td>\n",
       "      <td>...</td>\n",
       "      <td>...</td>\n",
       "      <td>...</td>\n",
       "      <td>...</td>\n",
       "      <td>...</td>\n",
       "      <td>...</td>\n",
       "      <td>...</td>\n",
       "      <td>...</td>\n",
       "      <td>...</td>\n",
       "      <td>...</td>\n",
       "      <td>...</td>\n",
       "      <td>...</td>\n",
       "      <td>...</td>\n",
       "      <td>...</td>\n",
       "      <td>...</td>\n",
       "      <td>...</td>\n",
       "      <td>...</td>\n",
       "    </tr>\n",
       "    <tr>\n",
       "      <th>Matthew Dellavedova</th>\n",
       "      <td>CLE</td>\n",
       "      <td>30</td>\n",
       "      <td>190.50</td>\n",
       "      <td>90.718400</td>\n",
       "      <td>St.Mary's College of California</td>\n",
       "      <td>Australia</td>\n",
       "      <td>NaN</td>\n",
       "      <td>NaN</td>\n",
       "      <td>NaN</td>\n",
       "      <td>13.0</td>\n",
       "      <td>2.8</td>\n",
       "      <td>1.8</td>\n",
       "      <td>4.5</td>\n",
       "      <td>-3.1</td>\n",
       "      <td>0.029</td>\n",
       "      <td>0.085</td>\n",
       "      <td>0.125</td>\n",
       "      <td>0.312</td>\n",
       "      <td>0.337</td>\n",
       "    </tr>\n",
       "    <tr>\n",
       "      <th>Maurice Harkless</th>\n",
       "      <td>SAC</td>\n",
       "      <td>28</td>\n",
       "      <td>200.66</td>\n",
       "      <td>99.790240</td>\n",
       "      <td>St. John's</td>\n",
       "      <td>USA</td>\n",
       "      <td>2012.0</td>\n",
       "      <td>1.0</td>\n",
       "      <td>15.0</td>\n",
       "      <td>37.0</td>\n",
       "      <td>5.2</td>\n",
       "      <td>2.4</td>\n",
       "      <td>1.2</td>\n",
       "      <td>-2.9</td>\n",
       "      <td>0.017</td>\n",
       "      <td>0.097</td>\n",
       "      <td>0.114</td>\n",
       "      <td>0.527</td>\n",
       "      <td>0.071</td>\n",
       "    </tr>\n",
       "    <tr>\n",
       "      <th>Max Strus</th>\n",
       "      <td>MIA</td>\n",
       "      <td>25</td>\n",
       "      <td>195.58</td>\n",
       "      <td>97.522280</td>\n",
       "      <td>DePaul</td>\n",
       "      <td>USA</td>\n",
       "      <td>NaN</td>\n",
       "      <td>NaN</td>\n",
       "      <td>NaN</td>\n",
       "      <td>39.0</td>\n",
       "      <td>6.1</td>\n",
       "      <td>1.1</td>\n",
       "      <td>0.6</td>\n",
       "      <td>-4.2</td>\n",
       "      <td>0.011</td>\n",
       "      <td>0.073</td>\n",
       "      <td>0.179</td>\n",
       "      <td>0.597</td>\n",
       "      <td>0.074</td>\n",
       "    </tr>\n",
       "    <tr>\n",
       "      <th>Marcus Morris Sr.</th>\n",
       "      <td>LAC</td>\n",
       "      <td>31</td>\n",
       "      <td>203.20</td>\n",
       "      <td>98.883056</td>\n",
       "      <td>Kansas</td>\n",
       "      <td>USA</td>\n",
       "      <td>2011.0</td>\n",
       "      <td>1.0</td>\n",
       "      <td>14.0</td>\n",
       "      <td>57.0</td>\n",
       "      <td>13.4</td>\n",
       "      <td>4.1</td>\n",
       "      <td>1.0</td>\n",
       "      <td>4.2</td>\n",
       "      <td>0.025</td>\n",
       "      <td>0.133</td>\n",
       "      <td>0.194</td>\n",
       "      <td>0.614</td>\n",
       "      <td>0.056</td>\n",
       "    </tr>\n",
       "    <tr>\n",
       "      <th>Aaron Gordon</th>\n",
       "      <td>DEN</td>\n",
       "      <td>25</td>\n",
       "      <td>203.20</td>\n",
       "      <td>106.594120</td>\n",
       "      <td>Arizona</td>\n",
       "      <td>USA</td>\n",
       "      <td>2014.0</td>\n",
       "      <td>1.0</td>\n",
       "      <td>4.0</td>\n",
       "      <td>50.0</td>\n",
       "      <td>12.4</td>\n",
       "      <td>5.7</td>\n",
       "      <td>3.2</td>\n",
       "      <td>2.1</td>\n",
       "      <td>0.055</td>\n",
       "      <td>0.150</td>\n",
       "      <td>0.204</td>\n",
       "      <td>0.547</td>\n",
       "      <td>0.165</td>\n",
       "    </tr>\n",
       "  </tbody>\n",
       "</table>\n",
       "<p>11700 rows × 19 columns</p>\n",
       "</div>"
      ],
      "text/plain": [
       "                    team_abbreviation  age  player_height  player_weight  \\\n",
       "player_name                                                                \n",
       "Travis Knight                     LAL   22         213.36     106.594120   \n",
       "Matt Fish                         MIA   27         210.82     106.594120   \n",
       "Matt Bullard                      HOU   30         208.28     106.594120   \n",
       "Marty Conlon                      BOS   29         210.82     111.130040   \n",
       "Martin Muursepp                   DAL   22         205.74     106.594120   \n",
       "...                               ...  ...            ...            ...   \n",
       "Matthew Dellavedova               CLE   30         190.50      90.718400   \n",
       "Maurice Harkless                  SAC   28         200.66      99.790240   \n",
       "Max Strus                         MIA   25         195.58      97.522280   \n",
       "Marcus Morris Sr.                 LAC   31         203.20      98.883056   \n",
       "Aaron Gordon                      DEN   25         203.20     106.594120   \n",
       "\n",
       "                                             college    country  draft_year  \\\n",
       "player_name                                                                   \n",
       "Travis Knight                            Connecticut        USA      1996.0   \n",
       "Matt Fish                  North Carolina-Wilmington        USA      1992.0   \n",
       "Matt Bullard                                    Iowa        USA         NaN   \n",
       "Marty Conlon                              Providence        USA         NaN   \n",
       "Martin Muursepp                                 None        USA      1996.0   \n",
       "...                                              ...        ...         ...   \n",
       "Matthew Dellavedova  St.Mary's College of California  Australia         NaN   \n",
       "Maurice Harkless                          St. John's        USA      2012.0   \n",
       "Max Strus                                     DePaul        USA         NaN   \n",
       "Marcus Morris Sr.                             Kansas        USA      2011.0   \n",
       "Aaron Gordon                                 Arizona        USA      2014.0   \n",
       "\n",
       "                     draft_round  draft_number    gp   pts  reb  ast  \\\n",
       "player_name                                                            \n",
       "Travis Knight                1.0          29.0  71.0   4.8  4.5  0.5   \n",
       "Matt Fish                    2.0          50.0   6.0   0.3  0.8  0.0   \n",
       "Matt Bullard                 NaN           NaN  71.0   4.5  1.6  0.9   \n",
       "Marty Conlon                 NaN           NaN  74.0   7.8  4.4  NaN   \n",
       "Martin Muursepp              1.0          25.0  42.0   3.7  1.6  0.5   \n",
       "...                          ...           ...   ...   ...  ...  ...   \n",
       "Matthew Dellavedova          NaN           NaN  13.0   2.8  1.8  4.5   \n",
       "Maurice Harkless             1.0          15.0  37.0   5.2  2.4  1.2   \n",
       "Max Strus                    NaN           NaN  39.0   6.1  1.1  0.6   \n",
       "Marcus Morris Sr.            1.0          14.0  57.0  13.4  4.1  1.0   \n",
       "Aaron Gordon                 1.0           4.0  50.0  12.4  5.7  3.2   \n",
       "\n",
       "                     net_rating  oreb_pct  dreb_pct  usg_pct  ts_pct  ast_pct  \n",
       "player_name                                                                    \n",
       "Travis Knight               6.2     0.127     0.182    0.142   0.536    0.052  \n",
       "Matt Fish                 -15.1     0.143     0.267    0.265   0.333    0.000  \n",
       "Matt Bullard                0.9     0.016     0.115    0.151   0.535    0.099  \n",
       "Marty Conlon               -9.0     0.083       NaN    0.167     NaN    0.101  \n",
       "Martin Muursepp           -14.5     0.109     0.118    0.233   0.482    0.114  \n",
       "...                         ...       ...       ...      ...     ...      ...  \n",
       "Matthew Dellavedova        -3.1     0.029     0.085    0.125   0.312    0.337  \n",
       "Maurice Harkless           -2.9     0.017     0.097    0.114   0.527    0.071  \n",
       "Max Strus                  -4.2     0.011     0.073    0.179   0.597    0.074  \n",
       "Marcus Morris Sr.           4.2     0.025     0.133    0.194   0.614    0.056  \n",
       "Aaron Gordon                2.1     0.055     0.150    0.204   0.547    0.165  \n",
       "\n",
       "[11700 rows x 19 columns]"
      ]
     },
     "execution_count": 31,
     "metadata": {},
     "output_type": "execute_result"
    }
   ],
   "source": [
    "df"
   ]
  },
  {
   "cell_type": "markdown",
   "id": "54494048-2c22-4cf6-9faa-9c3bcd35d8e5",
   "metadata": {},
   "source": [
    "## filter()"
   ]
  },
  {
   "cell_type": "markdown",
   "id": "ff92c840-75e8-4995-b69c-940a39dbf185",
   "metadata": {},
   "source": [
    "* **items** : `list` de nombres exactos de columnas a filtrar.\n",
    "* **like** : `str` palabra clave para filtrar en nombres de columnas.\n",
    "* **regex**: `str` expresión regular para filtrar en nombres de columnas.\n",
    "* **axis**: `int` o `str` 0/index 1/column."
   ]
  },
  {
   "cell_type": "code",
   "execution_count": null,
   "id": "8003c739-7fde-4f72-962a-881268c00641",
   "metadata": {},
   "outputs": [],
   "source": [
    "df.filter(['player_name', 'age'])"
   ]
  },
  {
   "cell_type": "code",
   "execution_count": null,
   "id": "a1cce9b4-ea6b-4d39-afc4-b5d54bcbdb75",
   "metadata": {},
   "outputs": [],
   "source": [
    "df.filter(like='player')"
   ]
  },
  {
   "cell_type": "code",
   "execution_count": null,
   "id": "8e7b48bb-ea77-47c5-b9fe-edfa4020333e",
   "metadata": {},
   "outputs": [],
   "source": [
    "df.filter([0,1,2], axis=0)"
   ]
  },
  {
   "cell_type": "markdown",
   "id": "021c2826-9d88-4300-99d8-57be981adf02",
   "metadata": {},
   "source": [
    "## slicing"
   ]
  },
  {
   "cell_type": "code",
   "execution_count": null,
   "id": "7d2f6df6-aee7-4067-b43e-8f95509c383b",
   "metadata": {},
   "outputs": [],
   "source": [
    "df[0:3]"
   ]
  },
  {
   "cell_type": "markdown",
   "id": "e698e287-5752-431a-adbf-d7818164f5ac",
   "metadata": {},
   "source": [
    "## conditional filter"
   ]
  },
  {
   "cell_type": "markdown",
   "id": "917e483b-3473-486e-b3ea-be07078f391b",
   "metadata": {},
   "source": [
    "### coincidencia exacta"
   ]
  },
  {
   "cell_type": "code",
   "execution_count": null,
   "id": "42ac968d-c946-4363-8c90-b40b9b900593",
   "metadata": {},
   "outputs": [],
   "source": [
    "df[df.country=='Argentina']"
   ]
  },
  {
   "cell_type": "markdown",
   "id": "1cb73b09-81c0-4a51-812b-e4b012cba94f",
   "metadata": {},
   "source": [
    "### operadores booleanos"
   ]
  },
  {
   "cell_type": "code",
   "execution_count": null,
   "id": "3c625751-31ba-49e4-9f6c-67e625141151",
   "metadata": {},
   "outputs": [],
   "source": [
    "df[df.age < 20]"
   ]
  },
  {
   "cell_type": "code",
   "execution_count": null,
   "id": "1e5995ea-5e03-42c1-903d-93e8fd6a2dba",
   "metadata": {},
   "outputs": [],
   "source": [
    "df[(df.age <= 20) & (df.team_abbreviation=='CHI')]"
   ]
  },
  {
   "cell_type": "markdown",
   "id": "cdd51def-2c38-404b-9550-f35255a44401",
   "metadata": {},
   "source": [
    "### isin"
   ]
  },
  {
   "cell_type": "code",
   "execution_count": null,
   "id": "639ee1ca-20e1-4063-8cc6-fbe198a3b39d",
   "metadata": {},
   "outputs": [],
   "source": [
    "df[df.player_name.isin(['Michael Jordan', 'Kobe Bryant'])]"
   ]
  },
  {
   "cell_type": "code",
   "execution_count": null,
   "id": "db828b39-77fb-46a2-aaae-b7a352808759",
   "metadata": {},
   "outputs": [],
   "source": []
  },
  {
   "cell_type": "markdown",
   "id": "8fdf2814-8470-4837-9df0-a14897922115",
   "metadata": {},
   "source": [
    "## Ejercicios"
   ]
  },
  {
   "cell_type": "markdown",
   "id": "b4688978-deb5-4409-9793-91a4bb9de673",
   "metadata": {},
   "source": [
    "* Obtener la Serie que almacena las edades de los jugadores"
   ]
  },
  {
   "cell_type": "code",
   "execution_count": null,
   "id": "9fc09807-b392-42b1-b4d3-1a85c6bc08c0",
   "metadata": {},
   "outputs": [],
   "source": []
  },
  {
   "cell_type": "markdown",
   "id": "fa24bccf-b93c-4e26-8edf-1ce087baec19",
   "metadata": {},
   "source": [
    "* Filtrar el registro correspondiente a **Manu Ginóbili** ❤️"
   ]
  },
  {
   "cell_type": "code",
   "execution_count": null,
   "id": "8156212a-6e49-4a5c-98ab-7a5cb519362f",
   "metadata": {},
   "outputs": [],
   "source": []
  },
  {
   "cell_type": "markdown",
   "id": "a5d3cff5-b98e-4b79-bcc0-c9fbcc047838",
   "metadata": {},
   "source": [
    "* Obtener una Serie con los jugadores que *midan más de 2m*"
   ]
  },
  {
   "cell_type": "code",
   "execution_count": null,
   "id": "7690daa6-f40d-4d37-9448-49e58ee4af2a",
   "metadata": {},
   "outputs": [],
   "source": []
  },
  {
   "cell_type": "markdown",
   "id": "b3997dc9-0d42-4102-baa9-8117751a3489",
   "metadata": {},
   "source": [
    "* Obtener una Serie con los jugadores que pesen *más de 200kg*"
   ]
  },
  {
   "cell_type": "code",
   "execution_count": null,
   "id": "e40ad3b2-219d-429c-9bcc-fe758c9c8fce",
   "metadata": {},
   "outputs": [],
   "source": []
  },
  {
   "cell_type": "markdown",
   "id": "1e305291-2402-43e1-95a3-386986ae59e5",
   "metadata": {},
   "source": [
    "* Obtener una Serie con los jugadores que midan más de 2m y pesen más de 200kg"
   ]
  },
  {
   "cell_type": "code",
   "execution_count": null,
   "id": "45789070-9822-460e-9576-0dbf51d41fa4",
   "metadata": {},
   "outputs": [],
   "source": []
  },
  {
   "cell_type": "markdown",
   "id": "318c22a6-69fc-4868-97ce-1f051671bd79",
   "metadata": {},
   "source": [
    "* ¿Cuál es el equipo con promedio de altura más alto?"
   ]
  },
  {
   "cell_type": "code",
   "execution_count": null,
   "id": "4d88f31e-f93c-4e8c-9666-761bdc5c4ff1",
   "metadata": {},
   "outputs": [],
   "source": []
  },
  {
   "cell_type": "markdown",
   "id": "8fe084e0-96d1-49e2-816e-44a4120721ed",
   "metadata": {},
   "source": [
    "### Sincrónicos"
   ]
  },
  {
   "cell_type": "markdown",
   "id": "991bde7c-276c-43dc-897d-a0be75d320fe",
   "metadata": {},
   "source": [
    "* ¿Cuál es la edad promedio de jugadores *por equipo*?"
   ]
  },
  {
   "cell_type": "code",
   "execution_count": null,
   "id": "bd29e732-be41-47d2-9ef3-d78f8cb3e3d0",
   "metadata": {},
   "outputs": [],
   "source": []
  },
  {
   "cell_type": "markdown",
   "id": "c4ce3dc7-38e0-4502-9131-1b9b77325ea8",
   "metadata": {},
   "source": [
    "* ¿Qué equipo tiene mayor cantidad de jugadores con edad por debajo del promedio?"
   ]
  },
  {
   "cell_type": "code",
   "execution_count": null,
   "id": "2cc3894b-77c1-476b-b064-3cfb1e26d956",
   "metadata": {},
   "outputs": [],
   "source": []
  },
  {
   "cell_type": "markdown",
   "id": "04b3b23b-5af2-4ff5-b97e-abe5f6fd8f25",
   "metadata": {},
   "source": [
    "* ¿Qué equipo tiene mayor cantidad de jugadores con edad por arriba del promedio?"
   ]
  },
  {
   "cell_type": "markdown",
   "id": "2424228e-c38c-4c0c-ada7-30f46fa70f05",
   "metadata": {},
   "source": [
    "### Asincrónicos"
   ]
  },
  {
   "cell_type": "markdown",
   "id": "e0c01a56-0a9e-4726-9463-2fdb605d2639",
   "metadata": {},
   "source": [
    "> “Is Michael Jordan the GOAT (Greatest Of All Time)?”"
   ]
  },
  {
   "cell_type": "code",
   "execution_count": null,
   "id": "549fd378-f2ae-4e6f-9fed-f0f554e3db6d",
   "metadata": {},
   "outputs": [],
   "source": []
  },
  {
   "cell_type": "markdown",
   "id": "cc67117e-1525-4f4e-b4d0-daf2466784bd",
   "metadata": {},
   "source": [
    "* ¿Quién *\"le sigue\"*?"
   ]
  },
  {
   "cell_type": "code",
   "execution_count": null,
   "id": "2c17877c-ec27-49be-9da4-2e9d1e5a017a",
   "metadata": {},
   "outputs": [],
   "source": []
  },
  {
   "cell_type": "markdown",
   "id": "69b75f32-59cc-44d1-8457-937a5a577287",
   "metadata": {},
   "source": [
    "<blockquote class=\"twitter-tweet\"><p lang=\"es\" dir=\"ltr\">Che, <a href=\"https://twitter.com/InfoManu?ref_src=twsrc%5Etfw\">@InfoManu</a>... Manu es el jugador con mejor porcentaje de juegos ganados entre los jugadores que jugaron al menos 1000 partidos en la NBA?</p>&mdash; Seba Albesa (@AlbesaSeba) <a href=\"https://twitter.com/AlbesaSeba/status/1502507840849813505?ref_src=twsrc%5Etfw\">March 12, 2022</a></blockquote> <script async src=\"https://platform.twitter.com/widgets.js\" charset=\"utf-8\"></script>\n",
    "\n",
    "[Go to tweet](https://twitter.com/AlbesaSeba/status/1502507840849813505?s=20&t=o07JgBsbJLdQA6leoqmaAw)"
   ]
  },
  {
   "cell_type": "code",
   "execution_count": null,
   "id": "e686a311-83f0-466a-9aad-55b45d773d8f",
   "metadata": {},
   "outputs": [],
   "source": []
  }
 ],
 "metadata": {
  "kernelspec": {
   "display_name": "Python 3 (ipykernel)",
   "language": "python",
   "name": "python3"
  },
  "language_info": {
   "codemirror_mode": {
    "name": "ipython",
    "version": 3
   },
   "file_extension": ".py",
   "mimetype": "text/x-python",
   "name": "python",
   "nbconvert_exporter": "python",
   "pygments_lexer": "ipython3",
   "version": "3.8.13"
  }
 },
 "nbformat": 4,
 "nbformat_minor": 5
}
