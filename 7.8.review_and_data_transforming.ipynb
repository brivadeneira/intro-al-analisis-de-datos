{
 "cells": [
  {
   "cell_type": "markdown",
   "id": "f20e661a-3a08-48ef-b7c5-1abd08edfe41",
   "metadata": {},
   "source": [
    "# Data transforming"
   ]
  },
  {
   "cell_type": "markdown",
   "id": "88d6cab7-7f9e-486e-8620-79719733fe1a",
   "metadata": {},
   "source": [
    "## Sales analysis"
   ]
  },
  {
   "cell_type": "markdown",
   "id": "7414f324-7a76-4784-9b2e-d0a33b58ec4e",
   "metadata": {},
   "source": [
    "En base a los datos en `datasets/sales` responder:\n",
    "\n",
    "¿Cuál es el mes que reporta la mayor cantidad de productos?   \n",
    "¿Qué ganancia reporta dicho mes?  \n",
    "¿Qué ciudad reportó la mayor cantidad de ventas?  \n",
    "Determinar productos que se venden juntos.  "
   ]
  },
  {
   "cell_type": "code",
   "execution_count": null,
   "id": "6e20faf5-1f45-4e5e-b03b-5261b607683c",
   "metadata": {},
   "outputs": [],
   "source": [
    "import os"
   ]
  },
  {
   "cell_type": "code",
   "execution_count": null,
   "id": "afcdc81b-8a77-4591-b671-f4ee46c76dca",
   "metadata": {},
   "outputs": [],
   "source": [
    "os.listdir('./datasets/sales')"
   ]
  },
  {
   "cell_type": "markdown",
   "id": "16cb332f-e17c-4064-9575-3b646c0cb92e",
   "metadata": {},
   "source": [
    "----------------------------------------------------------"
   ]
  },
  {
   "cell_type": "markdown",
   "id": "07e29fdc-2b99-4957-9de1-9bef8a591346",
   "metadata": {},
   "source": [
    "## read\n",
    "\n",
    "```python\n",
    "pd.read_clipboard()\n",
    "pd.read_csv()\n",
    "pd.read_excel()\n",
    "pd.read_html()\n",
    "pd.read_json()\n",
    "pd.read_sql()\n",
    "pd.read_sql_query()\n",
    "pd.read_sql_table()\n",
    "```"
   ]
  },
  {
   "cell_type": "markdown",
   "id": "a6b36b68-7355-483d-9c1c-e2df6558a9a3",
   "metadata": {},
   "source": [
    "### read_csv params"
   ]
  },
  {
   "cell_type": "markdown",
   "id": "fae6e113-b0b4-4887-8fba-c3a3260b737a",
   "metadata": {},
   "source": [
    "* **filepath_or_bufferstr**: `str`, ruta al archivo .csv, puede ser una URL.\n",
    "> Pandas permite importar un archivo con extensión `csv` a partir de un `zip`, *siempre que el único contenido de ese zip sea UN archivo csv*.\n",
    "* **sep**, default `‘,’`: `str` criterio de separación.\n",
    "* **header**: `list of int` índices de las filas que conforman el *header*\n",
    "* **index_col**: mismo concepto que *header* pero con índices (columna/s a la izquierda del DataFrame)\n",
    "* **usecols**: `list of ints or list of str` se espefician los índices o nombres de columnas a usar\n",
    "* **names**: `list of str` nombres de las columnas a usar\n",
    "* **thousands**: `str` separador de *miles*\n",
    "* **decimal**: `str` separador de decimales"
   ]
  },
  {
   "cell_type": "markdown",
   "id": "25e72625-8c85-45aa-8cfa-6af412bddf5b",
   "metadata": {},
   "source": [
    "¡La documentación es tu amiga! [read_csv](https://pandas.pydata.org/docs/reference/api/pandas.read_csv.html)"
   ]
  },
  {
   "cell_type": "markdown",
   "id": "888b3207-ea0e-422d-8624-8d4a015874e1",
   "metadata": {},
   "source": [
    "> Por convención se nombra de manera genérica a un dataframe como `df`."
   ]
  },
  {
   "cell_type": "markdown",
   "id": "23f5d16f-f1be-49b9-840a-731427b8cc33",
   "metadata": {},
   "source": [
    "----------------------------------------------------------"
   ]
  },
  {
   "cell_type": "markdown",
   "id": "534c7d7d-d005-4f88-9b14-d976b943f564",
   "metadata": {},
   "source": [
    "👇🏽 importar ventas de Agosto"
   ]
  },
  {
   "cell_type": "code",
   "execution_count": null,
   "id": "5b78df9c-bd9e-45cd-8e76-df57e1619225",
   "metadata": {},
   "outputs": [],
   "source": [
    "import pandas as pd"
   ]
  },
  {
   "cell_type": "code",
   "execution_count": null,
   "id": "66aefbc7-dc28-4a89-883e-71283be1d946",
   "metadata": {},
   "outputs": [],
   "source": [
    "pd.read_csv('./datasets/sales/sales_08.csv')"
   ]
  },
  {
   "cell_type": "markdown",
   "id": "bd206204-e4eb-4503-bac7-f9cfb0cb1db4",
   "metadata": {},
   "source": [
    "❓ ¿Cómo queda definida la data? ¿El index? ¿Qué columnas son de interés y cuáles no?"
   ]
  },
  {
   "cell_type": "code",
   "execution_count": null,
   "id": "9af915f8-6577-4e7c-a481-bbc0ef84b212",
   "metadata": {},
   "outputs": [],
   "source": []
  },
  {
   "cell_type": "markdown",
   "id": "73e3f483-97b0-4fc1-a4d4-75a3cc59a259",
   "metadata": {},
   "source": [
    "----------------------------------------------------------"
   ]
  },
  {
   "cell_type": "markdown",
   "id": "30be8764-874c-40ad-9c73-1c2477d68b6f",
   "metadata": {},
   "source": [
    "## 🆕 pd.concat() "
   ]
  },
  {
   "cell_type": "markdown",
   "id": "a52e5365-6660-41f0-9e7c-b3b672aa26f3",
   "metadata": {},
   "source": [
    "¡La documentación es tu amiga! [pandas.concat](https://pandas.pydata.org/docs/reference/api/pandas.concat.html)"
   ]
  },
  {
   "cell_type": "code",
   "execution_count": null,
   "id": "95905d32-8a7a-408d-9338-2bba8f4c3b3c",
   "metadata": {},
   "outputs": [],
   "source": [
    "import pandas as pd"
   ]
  },
  {
   "cell_type": "code",
   "execution_count": null,
   "id": "52a41bcc-6112-4c74-9435-434140998b86",
   "metadata": {},
   "outputs": [],
   "source": [
    "s1 = pd.Series(['a', 'b'])\n",
    "s2 = pd.Series(['c', 'd'])"
   ]
  },
  {
   "cell_type": "code",
   "execution_count": null,
   "id": "bd5913b9-a1c3-4cf3-b311-c98f7b7d4c09",
   "metadata": {},
   "outputs": [],
   "source": [
    "s1"
   ]
  },
  {
   "cell_type": "code",
   "execution_count": null,
   "id": "13c8a443-2f7e-486f-be52-3cf252f7af55",
   "metadata": {},
   "outputs": [],
   "source": [
    "s2"
   ]
  },
  {
   "cell_type": "markdown",
   "id": "ac508557-d686-40ea-977f-07a23397f42f",
   "metadata": {},
   "source": [
    "❓ ¿Qué tipos de objeto son `s1` y `s2`?"
   ]
  },
  {
   "cell_type": "code",
   "execution_count": null,
   "id": "92eab409-6bab-4496-a0a2-46eb3913872d",
   "metadata": {},
   "outputs": [],
   "source": [
    "pd.concat([s1, s2])"
   ]
  },
  {
   "cell_type": "code",
   "execution_count": null,
   "id": "80698b04-8718-4c5c-9381-9776ffb039b9",
   "metadata": {},
   "outputs": [],
   "source": [
    "pd.concat([s1, s2], ignore_index=True)"
   ]
  },
  {
   "cell_type": "markdown",
   "id": "18e0325e-5823-4138-9283-414921ed2cc4",
   "metadata": {},
   "source": [
    "❓ ¿Qué tipo de dato recibe como parámetro el médoto `concat()`?"
   ]
  },
  {
   "cell_type": "code",
   "execution_count": null,
   "id": "8675f2c2-97b8-4b3c-9d34-f8bc42272558",
   "metadata": {},
   "outputs": [],
   "source": [
    "df1 = pd.DataFrame([['a', 1], ['b', 2]],\n",
    "                   columns=['letter', 'number'])\n",
    "df1"
   ]
  },
  {
   "cell_type": "code",
   "execution_count": null,
   "id": "7f15b43c-1c4f-4b35-b6c3-db06e58080fc",
   "metadata": {},
   "outputs": [],
   "source": [
    "df2 = pd.DataFrame([['c', 3], ['d', 4]],\n",
    "                   columns=['letter', 'number'])\n",
    "df2"
   ]
  },
  {
   "cell_type": "code",
   "execution_count": null,
   "id": "31d4f44c-ee65-419d-ac9d-d876fbef18e3",
   "metadata": {},
   "outputs": [],
   "source": [
    "pd.concat([df1, df2])"
   ]
  },
  {
   "cell_type": "markdown",
   "id": "3818b1a0-58d8-4d01-b77a-ea6b43803129",
   "metadata": {},
   "source": [
    "🔎 para investigar: ¿Cómo evitar index duplicados?"
   ]
  },
  {
   "cell_type": "code",
   "execution_count": null,
   "id": "0004e8f1-6060-4470-9cd7-e60486754776",
   "metadata": {},
   "outputs": [],
   "source": [
    "df = pd.DataFrame()"
   ]
  },
  {
   "cell_type": "code",
   "execution_count": null,
   "id": "35908590-1483-4fbf-8fb6-9610ff980c03",
   "metadata": {},
   "outputs": [],
   "source": [
    "pd.concat([df, df2])"
   ]
  },
  {
   "cell_type": "markdown",
   "id": "b34f956f-3ab9-4853-b1b4-41bb2f2ed973",
   "metadata": {},
   "source": [
    "----------------------------------------------------------"
   ]
  },
  {
   "cell_type": "code",
   "execution_count": null,
   "id": "e44b2c00-a9ab-4af7-85f3-0e5e89f7e36c",
   "metadata": {},
   "outputs": [],
   "source": [
    "os.listdir('./datasets/sales')"
   ]
  },
  {
   "cell_type": "markdown",
   "id": "c6311cc7-a8d7-4eba-8079-e16299c08895",
   "metadata": {},
   "source": [
    "👇🏽 Generar *un único DataFrame* llamado `sales_df`:"
   ]
  },
  {
   "cell_type": "raw",
   "id": "c04d2548-6508-46fa-8963-37e4f844e283",
   "metadata": {},
   "source": [
    "# borrar\n",
    "sales_path = './datasets/sales'\n",
    "\n",
    "sales_df = pd.DataFrame()\n",
    "\n",
    "for file in os.listdir(sales_path):\n",
    "    df = pd.read_csv(f\"{sales_path}/{file}\")\n",
    "    sales_df = pd.concat([sales_df, df])"
   ]
  },
  {
   "cell_type": "code",
   "execution_count": null,
   "id": "6d9f0265-a830-4e68-8e51-214141b36984",
   "metadata": {},
   "outputs": [],
   "source": [
    "sales_path = './datasets/sales'\n",
    "\n",
    "sales_df = pd.DataFrame()\n",
    "\n",
    "for file in os.listdir(sales_path):\n",
    "    try:\n",
    "        df = pd.read_csv(f\"{sales_path}/{file}\")\n",
    "        sales_df = pd.concat([sales_df, df])\n",
    "    except IsADirectoryError:\n",
    "        pass"
   ]
  },
  {
   "cell_type": "code",
   "execution_count": null,
   "id": "ab0d1297-84fb-4b71-bae4-ec09a324e67e",
   "metadata": {},
   "outputs": [],
   "source": [
    "sales_df"
   ]
  },
  {
   "cell_type": "code",
   "execution_count": null,
   "id": "7d004013-d3c4-48a5-8642-d3ad996961a7",
   "metadata": {},
   "outputs": [],
   "source": [
    "sales_df.columns"
   ]
  },
  {
   "cell_type": "markdown",
   "id": "085e3470-912e-4bb6-ba85-ef4f70d3e6a0",
   "metadata": {},
   "source": [
    "----------------------------------------------------------"
   ]
  },
  {
   "cell_type": "markdown",
   "id": "1acb4220-e05d-483f-afa6-f0b80b3b15e2",
   "metadata": {},
   "source": [
    "## 🆕 pd.drop()\n",
    "\n",
    "¡La documentación es tu amiga! [pandas.DataFrame.drop](https://pandas.pydata.org/docs/reference/api/pandas.DataFrame.drop.html)"
   ]
  },
  {
   "cell_type": "code",
   "execution_count": null,
   "id": "772218b5-8f0e-4c0e-97d2-5b2b79e9fcfd",
   "metadata": {},
   "outputs": [],
   "source": [
    "! pip install numpy"
   ]
  },
  {
   "cell_type": "code",
   "execution_count": null,
   "id": "509bbaf7-5418-40ae-93a3-69df80736104",
   "metadata": {},
   "outputs": [],
   "source": [
    "import numpy as np\n",
    "\n",
    "df = pd.DataFrame(np.arange(12).reshape(3, 4),\n",
    "                  columns=['A', 'B', 'C', 'D'])\n",
    "df"
   ]
  },
  {
   "cell_type": "code",
   "execution_count": null,
   "id": "0cabc7f5-195f-4e0f-90c8-6be29cbda6da",
   "metadata": {},
   "outputs": [],
   "source": [
    "df.drop(['B', 'C'], axis=1)"
   ]
  },
  {
   "cell_type": "markdown",
   "id": "3d7de764-7099-4833-b0ae-92f34cc1af99",
   "metadata": {},
   "source": [
    "----------------------------------------------------------"
   ]
  },
  {
   "cell_type": "markdown",
   "id": "7762c260-720e-4678-babc-b288b8ba468c",
   "metadata": {},
   "source": [
    "👇🏽 *\"Dropear\"* las columnas que no son de interés:"
   ]
  },
  {
   "cell_type": "code",
   "execution_count": null,
   "id": "cf872f38-c9ce-4206-b1f9-994307b28227",
   "metadata": {},
   "outputs": [],
   "source": [
    "sales_df = sales_df.drop(['Unnamed: 0'], axis=1)"
   ]
  },
  {
   "cell_type": "code",
   "execution_count": null,
   "id": "8237ba4c-7e26-4a3d-b6b2-2bc28c5b1d67",
   "metadata": {},
   "outputs": [],
   "source": [
    "sales_df.columns"
   ]
  },
  {
   "cell_type": "markdown",
   "id": "9eacaa22-3417-46f2-8a7d-f2f04e5804f3",
   "metadata": {},
   "source": [
    "----------------------------------------------------------"
   ]
  },
  {
   "attachments": {
    "1b8f2092-8a69-4a5a-90fa-b48c644cc12f.png": {
     "image/png": "[encoded data removed]"
    },
    "e01c9706-f2d2-45f4-8f8e-a680186b6a65.png": {
     "image/png": "[encoded data removed]"
    }
   },
   "cell_type": "markdown",
   "id": "aec1ddc7-32f9-40df-90bc-07ce6fa5b958",
   "metadata": {},
   "source": [
    "![image.png](attachment:e01c9706-f2d2-45f4-8f8e-a680186b6a65.png)![image.png](attachment:1b8f2092-8a69-4a5a-90fa-b48c644cc12f.png)"
   ]
  },
  {
   "cell_type": "markdown",
   "id": "7436faa7-5738-498e-aa26-73fa4f515623",
   "metadata": {},
   "source": [
    "> En general *se tiende* a usar `snake case` dado que coincide con la convención recomendada en la PEP8, y es sencillo acceder a las columnas como si fueran atributos del DataFrame. "
   ]
  },
  {
   "cell_type": "markdown",
   "id": "1f417be8-5ea9-45f7-95bc-7d10b67a18f0",
   "metadata": {
    "tags": []
   },
   "source": [
    "## rename()"
   ]
  },
  {
   "cell_type": "code",
   "execution_count": null,
   "id": "5f179973-de5a-4dfc-b9fd-926b49b1656c",
   "metadata": {},
   "outputs": [],
   "source": [
    "df = pd.DataFrame({\"A\": [1, 2, 3], \"B\": [4, 5, 6]})\n",
    "df"
   ]
  },
  {
   "cell_type": "code",
   "execution_count": null,
   "id": "c1806e2e-f77a-4a3a-895f-4b086c9524d3",
   "metadata": {},
   "outputs": [],
   "source": [
    "df.rename(columns={\"A\": \"a\", \"B\": \"c\"})"
   ]
  },
  {
   "cell_type": "markdown",
   "id": "2038d128-85b5-4830-bb1c-da22b068f1cf",
   "metadata": {},
   "source": [
    "¡La documentación es tu amiga! [rename](https://pandas.pydata.org/docs/reference/api/pandas.DataFrame.rename.html)"
   ]
  },
  {
   "cell_type": "markdown",
   "id": "03d925d4-ffdd-4bfc-9af5-a03cd7070afc",
   "metadata": {},
   "source": [
    "----------------------------------------------------------"
   ]
  },
  {
   "cell_type": "markdown",
   "id": "88491f44-3c1c-4d8b-b3e6-de745d506364",
   "metadata": {},
   "source": [
    "👇🏽 Renombrar las columnas que así lo requieran:\n",
    "> Construir una función que produzca un diccionario apto para pasar como parámetro al método `rename()`"
   ]
  },
  {
   "cell_type": "code",
   "execution_count": null,
   "id": "6f7c5e44-e829-4be6-a52b-045b27cc1284",
   "metadata": {},
   "outputs": [],
   "source": [
    "sales_df.columns"
   ]
  },
  {
   "cell_type": "markdown",
   "id": "d71da184-340d-42c4-82a0-2a5e05d03be3",
   "metadata": {},
   "source": [
    "----------------------------------------------------------"
   ]
  },
  {
   "cell_type": "markdown",
   "id": "b4b3dc32-8e52-4d3d-82a5-c120eacece30",
   "metadata": {},
   "source": [
    "## Functiones\n",
    "\n",
    "* syntax:\n",
    "\n",
    "```python\n",
    "def function_name(parameter1, parameter2, ...):\n",
    "    \"\"\"\n",
    "    docstring\n",
    "    \"\"\"\n",
    "    \n",
    "    # code\n",
    "    return <var>  # (opc)\n",
    "```\n",
    "\n",
    "\n",
    "![](https://www.informit.com/content/images/chap2_9780134076430/elementLinks/p0215_01.jpg)"
   ]
  },
  {
   "cell_type": "markdown",
   "id": "944e9c72-df0f-4173-b18e-70bee883bc5b",
   "metadata": {},
   "source": [
    "----------------------------------------------------------"
   ]
  },
  {
   "cell_type": "code",
   "execution_count": null,
   "id": "61aa2851-1c41-4579-ae86-78758250d73e",
   "metadata": {},
   "outputs": [],
   "source": [
    "def label_to_snake_case(label):\n",
    "    return label.lower().replace(' ', '_')"
   ]
  },
  {
   "cell_type": "code",
   "execution_count": null,
   "id": "79033a83-1aa1-45e1-a752-56ba451d10fc",
   "metadata": {},
   "outputs": [],
   "source": [
    "label_to_snake_case('Order ID')"
   ]
  },
  {
   "cell_type": "code",
   "execution_count": null,
   "id": "23ece826-e235-439f-967b-fad31f38efd4",
   "metadata": {},
   "outputs": [],
   "source": [
    "rename_dict = {}\n",
    "\n",
    "for label in sales_df.columns:\n",
    "    rename_dict[label] = label_to_snake_case(label)\n",
    "    \n",
    "rename_dict"
   ]
  },
  {
   "cell_type": "code",
   "execution_count": null,
   "id": "67a0dc49-6362-44ee-9b4b-aadd0edf612d",
   "metadata": {},
   "outputs": [],
   "source": [
    "sales_df.rename(columns=rename_dict)"
   ]
  },
  {
   "cell_type": "code",
   "execution_count": null,
   "id": "9738b920-cfbf-4f4d-97f7-8c92b4744ee4",
   "metadata": {},
   "outputs": [],
   "source": [
    "sales_df = sales_df.rename(columns=rename_dict)"
   ]
  },
  {
   "cell_type": "markdown",
   "id": "c1e54cb3-4fe7-4c2b-949e-173e663201f8",
   "metadata": {},
   "source": [
    "----------------------------------------------------------"
   ]
  },
  {
   "cell_type": "code",
   "execution_count": null,
   "id": "b16b80cd-c02f-41f3-a43a-efec90b90baa",
   "metadata": {},
   "outputs": [],
   "source": [
    "sales_df.info()"
   ]
  },
  {
   "cell_type": "code",
   "execution_count": null,
   "id": "03ba52fb-8323-4c6b-9430-f49fe8305474",
   "metadata": {},
   "outputs": [],
   "source": [
    "sales_df.shape"
   ]
  },
  {
   "cell_type": "code",
   "execution_count": null,
   "id": "ced26577-ad84-443c-b77f-fb6274c219f9",
   "metadata": {},
   "outputs": [],
   "source": [
    "sales_df.describe()"
   ]
  },
  {
   "cell_type": "markdown",
   "id": "9fea7a66-b065-43a1-b2c5-3a280eb6a9c5",
   "metadata": {},
   "source": [
    "❓ ¿Qué información relevante puede extraerse de lo anterior? (de cara a la descripción de los datos y contexto)"
   ]
  },
  {
   "cell_type": "markdown",
   "id": "ffb15f07-5af4-4301-bcea-26c816f1aed9",
   "metadata": {},
   "source": [
    "👁 ¿Qué columnas requieren limpieza?"
   ]
  },
  {
   "cell_type": "markdown",
   "id": "36363835-9928-42f0-af2c-78b537ac6870",
   "metadata": {},
   "source": []
  },
  {
   "cell_type": "markdown",
   "id": "bf2d0241-c983-4864-a3bc-1739ecd2bc19",
   "metadata": {},
   "source": [
    "----------------------------------------------------------"
   ]
  },
  {
   "cell_type": "markdown",
   "id": "0633f5a4-bf1b-4132-b52a-7ee88d46b785",
   "metadata": {
    "id": "KGCxolYvoGPl"
   },
   "source": [
    "## Tipos de datos\n",
    "\n",
    "* **Número**  \n",
    "    * **Int** (entero), `3`, `598`, `1655`  \n",
    "    * **Float** (de punto flotante), `1.5`, `2.0`  \n",
    "    * **Complex** (complejo), `1 + 2j`, `29 + 56j`  \n",
    "* **String** (cadenas de texto), `'hola'`, `\"A\"`  \n",
    "* **Bool**, `True`, `False`  \n",
    "\n",
    "## Estructuras de datos\n",
    "\n",
    "* **list**: `[3, 2.0, 'eggs', [True, False]]`\n",
    "* **tuple**: `(598, 1655)`, `([1.5, True], [2.0, False])` \n",
    "* **dict**: `{'spam': 'eggs', 'eggs': 'spam'}`\n",
    "* **set**: `nums = {1, 2, 2, 3, 4, 4, 5, 5} -> {1, 2, 3, 4, 5}`"
   ]
  },
  {
   "cell_type": "markdown",
   "id": "a5a18c53-84b4-4f6f-96ec-9a52299d0dcc",
   "metadata": {},
   "source": [
    "![](https://machinelearningmastery.com/wp-content/uploads/2020/06/Overview-of-Data-Variable-Types2.png)"
   ]
  },
  {
   "cell_type": "markdown",
   "id": "6d963eab-6d12-484b-86d9-769072051004",
   "metadata": {},
   "source": [
    "## Numéricos\n",
    "\n",
    "Este tipo de datos permite calcular de manera directa algunos indicadores de interés general como promedios, máximos, mínimos, media, mediana, etc.\n",
    "\n",
    "* **entero**: *discreto*\n",
    "    * Cantidad de hijos\n",
    "    * Edad\n",
    "* **flotante**: *continuo*\n",
    "    * Temperatura\n",
    "    * Salario\n",
    "    * Nivel de pH"
   ]
  },
  {
   "cell_type": "markdown",
   "id": "3a81e6af-93e8-4290-95bd-19f4fa500943",
   "metadata": {
    "tags": []
   },
   "source": [
    "## Categórico\n",
    "\n",
    "Este tipo de variable se puede agrupar, formando *categorías*.\n",
    "\n",
    "* **nominal**: No se puede ordenar.\n",
    "    * Ocupación\n",
    "    * Industria\n",
    "    * Universidad\n",
    "    * Ciudad\n",
    "* **ordinal**: Se puede ordenar.\n",
    "    * Nivel de satisfacción (0-10)\n",
    "    * Estrellas (1-5)\n",
    "    * Talles de prendas como 'S', 'M', 'L', XL'\n",
    "* **booleano**: Sólo dos posibles valores.\n",
    "    * Yes/No\n",
    "    * Female/Male\n",
    "    * Alive/Dead"
   ]
  },
  {
   "cell_type": "markdown",
   "id": "274a9179-f50b-4944-a3d8-322d0a2d85a3",
   "metadata": {},
   "source": [
    "----------------------------------------------------------"
   ]
  },
  {
   "cell_type": "markdown",
   "id": "c918da0f-e477-4c33-8a39-de44aea03d3d",
   "metadata": {},
   "source": [
    "👇🏽 Clasificar los datos en la siguiente tabla:"
   ]
  },
  {
   "cell_type": "markdown",
   "id": "2e21f47f-cc01-4188-9c95-5958ce40d585",
   "metadata": {},
   "source": [
    "| Column           \t| Python Object class \t| Data type                   \t| OBS \t|\n",
    "|------------------\t|---------------------\t|-----------------------------\t|-----\t|\n",
    "|         Order ID \t| `ìnt`               \t| numérico, discreto o entero \t|     \t|\n",
    "| Product          \t|                     \t|                             \t|     \t|\n",
    "| Quantity Ordered \t|                     \t|                             \t|     \t|\n",
    "| Price Each       \t|                     \t|                             \t|     \t|\n",
    "|       Order Date \t|                     \t|                             \t|     \t|\n",
    "| Purchase Address \t|                     \t|                             \t|     \t|"
   ]
  },
  {
   "cell_type": "markdown",
   "id": "fba8c397-16ce-4ea7-8681-1ac9caeecf7d",
   "metadata": {},
   "source": [
    "👁 ¿`Order ID` es **única** para cada registro?"
   ]
  },
  {
   "cell_type": "markdown",
   "id": "259ce3fa-0d74-49a7-949f-e79227e70939",
   "metadata": {},
   "source": [
    "----------------------------------------------------------"
   ]
  },
  {
   "cell_type": "markdown",
   "id": "f28b98d4-49a4-4a9b-867f-bb330164eadb",
   "metadata": {},
   "source": [
    "🆕 `pandas.Series.is_unique`"
   ]
  },
  {
   "cell_type": "code",
   "execution_count": null,
   "id": "a45a76ea-4305-47dd-981e-42c000a011a9",
   "metadata": {},
   "outputs": [],
   "source": [
    "s1 = pd.Series(['a', 'b', 'c'])\n",
    "s1"
   ]
  },
  {
   "cell_type": "code",
   "execution_count": null,
   "id": "a341b6b4-a673-405c-9733-cd26f5d56f3c",
   "metadata": {},
   "outputs": [],
   "source": [
    "s1.is_unique"
   ]
  },
  {
   "cell_type": "code",
   "execution_count": null,
   "id": "3d939cbc-18be-4b65-8d4b-b34ce72c497c",
   "metadata": {},
   "outputs": [],
   "source": [
    "s2 = pd.Series(['a', 'b', 'c', 'a'])\n",
    "s2"
   ]
  },
  {
   "cell_type": "code",
   "execution_count": null,
   "id": "6ad6eeff-b7b2-48e1-a455-6a7b8a1ba632",
   "metadata": {},
   "outputs": [],
   "source": [
    "s2.is_unique"
   ]
  },
  {
   "cell_type": "markdown",
   "id": "4967a675-7ba5-4cfd-8b36-78da5f4e5bea",
   "metadata": {},
   "source": [
    "`pandas.Series.unique`"
   ]
  },
  {
   "cell_type": "code",
   "execution_count": null,
   "id": "93fa655c-c9a9-4840-a106-737052aa67c1",
   "metadata": {},
   "outputs": [],
   "source": [
    "s2.unique"
   ]
  },
  {
   "cell_type": "markdown",
   "id": "60dc36c5-ad16-4abc-b870-3cf8ff6f90eb",
   "metadata": {},
   "source": [
    "----------------------------------------------------------"
   ]
  },
  {
   "cell_type": "markdown",
   "id": "dd4cf2a9-9c52-4ed6-9480-dad6d7ddc354",
   "metadata": {},
   "source": [
    "## drop_duplicates()\n",
    "\n",
    "¡La documentación es tu amiga! [drop_duplicates](https://pandas.pydata.org/docs/reference/api/pandas.DataFrame.drop_duplicates.html)"
   ]
  },
  {
   "cell_type": "code",
   "execution_count": null,
   "id": "3d97c7b2-625d-484d-85cb-09f622ad6822",
   "metadata": {},
   "outputs": [],
   "source": [
    "df = pd.DataFrame({\n",
    "    'brand': ['Yum Yum', 'Yum Yum', 'Indomie', 'Indomie', 'Indomie'],\n",
    "    'style': ['cup', 'cup', 'cup', 'pack', 'pack'],\n",
    "    'rating': [4, 4, 3.5, 15, 5]\n",
    "})\n",
    "df"
   ]
  },
  {
   "cell_type": "markdown",
   "id": "d0e38334-5787-4f76-b7ce-0416ab283fc6",
   "metadata": {},
   "source": [
    "## 🆕 duplicated()\n",
    "\n",
    "Genera una Serie booleana"
   ]
  },
  {
   "cell_type": "code",
   "execution_count": null,
   "id": "e953b453-f7d0-4d5f-bc8b-b304a3919fbc",
   "metadata": {},
   "outputs": [],
   "source": [
    "df.duplicated()"
   ]
  },
  {
   "cell_type": "markdown",
   "id": "5deb0ee7-0866-425f-a3e6-a00534476d62",
   "metadata": {},
   "source": [
    "## filter\n",
    "\n",
    "`df[mask]`, donde `mask` es una Serie o DataFrame compuesto por booleanos"
   ]
  },
  {
   "cell_type": "code",
   "execution_count": null,
   "id": "e78762f9-8589-4d8c-be65-6f2f70577b71",
   "metadata": {},
   "outputs": [],
   "source": [
    "df[df.duplicated()]"
   ]
  },
  {
   "cell_type": "markdown",
   "id": "85fd166a-407f-4b58-95b8-d40c345666e6",
   "metadata": {},
   "source": [
    "## drop_duplicates()\n",
    "\n",
    "* `subset`: list, label/s a tener en cuenta para remover duplicados. Por defecto tiene en cuenta TODAS.\n",
    "* `keep`: {'first', 'last', False}, default 'first'"
   ]
  },
  {
   "cell_type": "code",
   "execution_count": null,
   "id": "c76d9a68-183f-48a5-a74b-c5953704297c",
   "metadata": {},
   "outputs": [],
   "source": [
    "df.drop_duplicates()"
   ]
  },
  {
   "cell_type": "code",
   "execution_count": null,
   "id": "77624ce9-1eeb-4af3-bb80-3059f73dbf4b",
   "metadata": {},
   "outputs": [],
   "source": [
    "df"
   ]
  },
  {
   "cell_type": "code",
   "execution_count": null,
   "id": "9a09098a-a853-4d5e-b526-0f2a93d4c9e4",
   "metadata": {},
   "outputs": [],
   "source": [
    "df = df.drop_duplicates()\n",
    "df"
   ]
  },
  {
   "cell_type": "markdown",
   "id": "62160dad-f04e-4928-9c36-4fe7ed23b551",
   "metadata": {},
   "source": [
    "----------------------------------------------------------"
   ]
  },
  {
   "cell_type": "code",
   "execution_count": null,
   "id": "1244216a-c6f0-462c-967d-89599ef2e9ab",
   "metadata": {},
   "outputs": [],
   "source": [
    "sales_df.duplicated()"
   ]
  },
  {
   "cell_type": "code",
   "execution_count": null,
   "id": "3b40866a-fefd-4a3a-a3ab-3933de29db38",
   "metadata": {},
   "outputs": [],
   "source": [
    "sales_df[sales_df.duplicated()]"
   ]
  },
  {
   "cell_type": "code",
   "execution_count": null,
   "id": "db88b1ce-e2f9-4c42-9ee6-4fd547f03a0d",
   "metadata": {},
   "outputs": [],
   "source": [
    "sales_df.duplicated().sum()"
   ]
  },
  {
   "cell_type": "markdown",
   "id": "14628168-34ca-4f2f-a223-1609d66ead9b",
   "metadata": {},
   "source": [
    "👇🏽 Eliminar duplicados"
   ]
  },
  {
   "cell_type": "code",
   "execution_count": null,
   "id": "53e4fff9-1dd4-444a-8c9e-fafc702f7285",
   "metadata": {},
   "outputs": [],
   "source": [
    "sales_df.drop_duplicates()"
   ]
  },
  {
   "cell_type": "code",
   "execution_count": null,
   "id": "411b6fdd-3681-4f9d-a286-ea1605aec8c6",
   "metadata": {},
   "outputs": [],
   "source": [
    "sales_df = sales_df.drop_duplicates()\n",
    "sales_df"
   ]
  },
  {
   "cell_type": "markdown",
   "id": "50abcb99-b7a0-4a4e-a45b-4fe001f361d6",
   "metadata": {
    "tags": []
   },
   "source": [
    "----------------------------------------------------------"
   ]
  },
  {
   "cell_type": "markdown",
   "id": "cac1e7e5-c216-401f-871a-4579e42ab376",
   "metadata": {},
   "source": [
    "## Missing values"
   ]
  },
  {
   "cell_type": "markdown",
   "id": "9e2a0389-39b7-42b2-9204-042d04e02572",
   "metadata": {},
   "source": [
    "## NaN\n",
    "\n",
    "*Not a Number*. Cuando pandas no puede determinar un *valor numérico* para asignar a una entrada, le asigna `NaN`. Generalmente estos **NO AFECTAN** operaciones aritméticas.\n"
   ]
  },
  {
   "cell_type": "markdown",
   "id": "c7717ecf-7644-478e-b94c-9013d057e9ea",
   "metadata": {},
   "source": [
    "> Nótese que dype es `float64` ya que este tipo de dato admite NaN, no así `int64`."
   ]
  },
  {
   "cell_type": "markdown",
   "id": "0b3c935b-dc6b-48cb-b01c-83f74944da57",
   "metadata": {},
   "source": [
    "## is_na()\n",
    "\n",
    "Detecta NaN en el DatFrame y devuelve un objeto similar con booleanos, donde `True` indica que en ese lugar hay un NaN."
   ]
  },
  {
   "cell_type": "markdown",
   "id": "ce1a6e01-fc98-44d1-9042-5abc04b6c0a8",
   "metadata": {},
   "source": [
    "## dropna()\n",
    "\n",
    "Elimina NaN.\n",
    "\n",
    "¡OJO! \n",
    "\n",
    "Hay que asegurarse de que es correcto \"dropear\" la data que contiene NaN."
   ]
  },
  {
   "cell_type": "markdown",
   "id": "43f42aee-be23-4940-88c9-32bafdc327e1",
   "metadata": {
    "tags": []
   },
   "source": [
    "----------------------------------------------------------"
   ]
  },
  {
   "cell_type": "code",
   "execution_count": null,
   "id": "0316d515-2a5c-4da4-b583-269d1ba7495e",
   "metadata": {},
   "outputs": [],
   "source": [
    "sales_df.isna()"
   ]
  },
  {
   "cell_type": "code",
   "execution_count": null,
   "id": "635c8ed7-2bc9-48d4-a952-7c899f2f459f",
   "metadata": {},
   "outputs": [],
   "source": [
    "for label in sales_df.columns:\n",
    "    print(label)\n",
    "    print(sales_df[sales_df[label].isna()])\n",
    "    print()\n",
    "    print()"
   ]
  },
  {
   "cell_type": "code",
   "execution_count": null,
   "id": "8e859c0d-42db-433b-ab58-b04559fd4d21",
   "metadata": {},
   "outputs": [],
   "source": [
    "sales_df = sales_df.dropna()"
   ]
  },
  {
   "cell_type": "markdown",
   "id": "58b92b71-9bf1-4f6a-a6fa-4458b4d4a402",
   "metadata": {
    "tags": []
   },
   "source": [
    "----------------------------------------------------------"
   ]
  },
  {
   "cell_type": "markdown",
   "id": "55f39340-0bbb-4862-95f0-0e8badffa3bb",
   "metadata": {},
   "source": [
    "## Plot"
   ]
  },
  {
   "cell_type": "markdown",
   "id": "eff049a0-db06-4eae-ba5c-05aef4f15565",
   "metadata": {},
   "source": [
    "‘line’ : line plot (default)  \n",
    "‘bar’ : vertical bar plot  \n",
    "‘barh’ : horizontal bar plot  \n",
    "‘hist’ : histogram  \n",
    "‘box’ : boxplot  \n",
    "‘kde’ : Kernel Density Estimation plot  \n",
    "‘density’ : same as ‘kde’  \n",
    "‘area’ : area plot  \n",
    "‘pie’ : pie plot  \n",
    "‘scatter’ : scatter plot (DataFrame only)  \n",
    "‘hexbin’ : hexbin plot (DataFrame only)  "
   ]
  },
  {
   "cell_type": "markdown",
   "id": "3e03c91c-8e9f-4c2f-8ab2-17b0e748fb14",
   "metadata": {},
   "source": [
    "¡La documentación es tu amiga! [pandas.DataFrame.plot](https://pandas.pydata.org/docs/reference/api/pandas.DataFrame.plot.html)"
   ]
  },
  {
   "cell_type": "markdown",
   "id": "ecce4765-2dc8-4f0e-b5cd-ca3e5b544429",
   "metadata": {},
   "source": [
    "## Gráfico de dispersión"
   ]
  },
  {
   "cell_type": "markdown",
   "id": "15f0c888-e783-4eb2-b7de-0a2c2bff55cd",
   "metadata": {},
   "source": [
    "¡La documentación es tu amiga! [pandas.DataFrame.plot.scatter](https://pandas.pydata.org/docs/reference/api/pandas.DataFrame.plot.scatter.html)"
   ]
  },
  {
   "cell_type": "code",
   "execution_count": null,
   "id": "34192f28-dd49-4be9-8b87-9ea54235c8bd",
   "metadata": {},
   "outputs": [],
   "source": [
    "df = pd.DataFrame([[5.1, 3.5, 0], [4.9, 3.0, 0], [7.0, 3.2, 1],\n",
    "                   [6.4, 3.2, 1], [5.9, 3.0, 2]],\n",
    "                  columns=['length', 'width', 'species'])\n",
    "ax1 = df.plot.scatter(x='length',\n",
    "                      y='width',\n",
    "                      c='DarkBlue')"
   ]
  },
  {
   "cell_type": "markdown",
   "id": "36c98835-edee-4861-b11e-20df70f0618e",
   "metadata": {},
   "source": [
    "## outliers"
   ]
  },
  {
   "cell_type": "markdown",
   "id": "4ad89a4c-2a1d-4a14-affd-f806096b6c35",
   "metadata": {},
   "source": [
    "## Distribución normal\n",
    "\n",
    "![](https://upload.wikimedia.org/wikipedia/commons/thumb/3/3a/Standard_deviation_diagram_micro.svg/488px-Standard_deviation_diagram_micro.svg.png)"
   ]
  },
  {
   "cell_type": "code",
   "execution_count": null,
   "id": "829d52e7-ae81-4199-b05e-9bb2258fc7b5",
   "metadata": {},
   "outputs": [],
   "source": [
    "df = pd.DataFrame(np.random.randn(100, 3), columns=['A', 'B', 'C'])\n",
    "df"
   ]
  },
  {
   "cell_type": "code",
   "execution_count": null,
   "id": "c3084b28-e41e-42c4-894e-1a77fc04a77a",
   "metadata": {},
   "outputs": [],
   "source": [
    "df.A.hist(bins=50)"
   ]
  },
  {
   "cell_type": "code",
   "execution_count": null,
   "id": "91068ba2-9712-4274-8f1f-c5c1136e86ee",
   "metadata": {},
   "outputs": [],
   "source": [
    "df.A.mean()"
   ]
  },
  {
   "cell_type": "code",
   "execution_count": null,
   "id": "84555881-8ea3-4823-8b3c-ab892a188b5b",
   "metadata": {
    "tags": []
   },
   "outputs": [],
   "source": [
    "df.A.std()"
   ]
  },
  {
   "cell_type": "markdown",
   "id": "5782b0da-a95a-4c28-899b-030e9e66c19a",
   "metadata": {
    "tags": []
   },
   "source": [
    "### 3 desviaciones estandar"
   ]
  },
  {
   "cell_type": "code",
   "execution_count": null,
   "id": "935ee0dc-019f-4fc2-b20e-25c9e90bc7c8",
   "metadata": {},
   "outputs": [],
   "source": [
    "lower_limit = df.A.mean() - 3*df.A.std()\n",
    "upper_limit = df.A.mean() + 3*df.A.std()\n",
    "lower_limit, upper_limit"
   ]
  },
  {
   "cell_type": "code",
   "execution_count": null,
   "id": "b90174dc-98cf-4657-b548-75dacc83350c",
   "metadata": {},
   "outputs": [],
   "source": [
    "df[df.A > upper_limit].A"
   ]
  },
  {
   "cell_type": "code",
   "execution_count": null,
   "id": "909c0ab4-bb69-49b6-8671-00f18d24098d",
   "metadata": {},
   "outputs": [],
   "source": [
    "df[df.A < lower_limit].A"
   ]
  },
  {
   "cell_type": "markdown",
   "id": "84696877-9f93-4870-bce8-ffe7763b8c41",
   "metadata": {
    "tags": []
   },
   "source": [
    "----------------------------------------------------------"
   ]
  },
  {
   "cell_type": "code",
   "execution_count": null,
   "id": "5a2031a2-b18a-4b8f-9604-242cd3a8b501",
   "metadata": {},
   "outputs": [],
   "source": [
    "sales_df.columns"
   ]
  },
  {
   "cell_type": "code",
   "execution_count": null,
   "id": "6c384357-daaf-4813-b64d-fe4e73c8cecf",
   "metadata": {},
   "outputs": [],
   "source": [
    "sales_df.price_each, sales_df.quantity_ordered"
   ]
  },
  {
   "cell_type": "code",
   "execution_count": null,
   "id": "8bb5be3c-c183-4c0c-beb1-f3fc0e2bf61b",
   "metadata": {},
   "outputs": [],
   "source": [
    "sales_df.plot.scatter(x='price_each', y='quantity_ordered')"
   ]
  },
  {
   "cell_type": "markdown",
   "id": "736d97f5-38bb-4368-a79c-8f2515731310",
   "metadata": {},
   "source": [
    "🤔 `'Quantity Ordered'` > 600?  \n",
    "🤔 `'Price Each'` < 0?"
   ]
  },
  {
   "cell_type": "code",
   "execution_count": null,
   "id": "130e7ff5-dd62-4879-af94-2b892f2bbc79",
   "metadata": {
    "tags": []
   },
   "outputs": [],
   "source": [
    "sales_df.quantity_ordered.mean()"
   ]
  },
  {
   "cell_type": "code",
   "execution_count": null,
   "id": "cd68ecf5-07fe-4543-9839-909073b91ab8",
   "metadata": {
    "tags": []
   },
   "outputs": [],
   "source": [
    "sales_df[sales_df.quantity_ordered < 0]"
   ]
  },
  {
   "cell_type": "code",
   "execution_count": null,
   "id": "e1a05c51-3a0e-4b42-b293-a19e62872c79",
   "metadata": {},
   "outputs": [],
   "source": [
    "sales_df[sales_df.quantity_ordered > sales_df['quantity_ordered'].mean()]  #, 3, 10"
   ]
  },
  {
   "cell_type": "markdown",
   "id": "a31e2078-f857-4ba0-8463-8fe7fbe36df5",
   "metadata": {
    "tags": []
   },
   "source": [
    "----------------------------------------------------------"
   ]
  },
  {
   "cell_type": "markdown",
   "id": "b89aabb6-1294-45a6-b692-7eeee2a2c0b4",
   "metadata": {},
   "source": [
    "## 📢🆕 apply \n",
    "\n",
    "*Aplica* una operación a *toda* la Serie o DataFrame\n",
    "\n",
    "> ¡PROHIBIDO ITERAR CON FOR!"
   ]
  },
  {
   "cell_type": "code",
   "execution_count": null,
   "id": "2a6c85af-2fa4-4a1e-9d80-e5586cc20f00",
   "metadata": {},
   "outputs": [],
   "source": [
    "df = pd.DataFrame([[4, 9]] * 3, columns=['A', 'B'])\n",
    "df"
   ]
  },
  {
   "cell_type": "code",
   "execution_count": null,
   "id": "b9550b73-9f17-4920-8ef9-19c841b8c539",
   "metadata": {},
   "outputs": [],
   "source": [
    "import numpy as np"
   ]
  },
  {
   "cell_type": "code",
   "execution_count": null,
   "id": "574b3bf0-b7f5-480a-b7ef-021766a9872e",
   "metadata": {},
   "outputs": [],
   "source": [
    "df.apply(np.sqrt)"
   ]
  },
  {
   "cell_type": "code",
   "execution_count": null,
   "id": "24baa656-d6d9-4733-ab62-61204a0a28bd",
   "metadata": {},
   "outputs": [],
   "source": [
    "df.apply(np.sum, axis=0)"
   ]
  },
  {
   "cell_type": "code",
   "execution_count": null,
   "id": "e4d81872-25f4-48e7-9a1d-2be3f0329751",
   "metadata": {},
   "outputs": [],
   "source": [
    "df.apply(np.sum, axis=1)"
   ]
  },
  {
   "cell_type": "markdown",
   "id": "e191c3ba-7527-46b1-b623-ba41982ba553",
   "metadata": {},
   "source": [
    "¡La documentación es tu amiga! [pandas.DataFrame.apply](https://pandas.pydata.org/docs/reference/api/pandas.DataFrame.apply.html)"
   ]
  },
  {
   "cell_type": "markdown",
   "id": "1e2ac91d-46c3-414e-a237-f29ad840d463",
   "metadata": {
    "tags": []
   },
   "source": [
    "----------------------------------------------------------"
   ]
  },
  {
   "cell_type": "markdown",
   "id": "7d9d6d68-9229-409d-8067-b6959186cf29",
   "metadata": {},
   "source": [
    "## 👁 lambda functions\n",
    "\n",
    "o funciones *en una línea*"
   ]
  },
  {
   "cell_type": "markdown",
   "id": "fdb7f9b1-3fb7-4387-9c5c-047fddaef711",
   "metadata": {},
   "source": [
    "![](https://lh6.googleusercontent.com/80HaCBlu12XeBhtbiOZ2yX7QI0cIlgfaS7UYwMrlYNbYQYqaniUYTDscZAW0_S48i_Li5WNVgFTZ0rag5roGyIHYBMhCsbbuEc-Dj2xJ8Kj7g8-fIlqQMqCH_kWIGqSO_xilMaOK=s0)"
   ]
  },
  {
   "cell_type": "code",
   "execution_count": null,
   "id": "094d498d-e871-4a73-8025-1b87eaa8c52a",
   "metadata": {},
   "outputs": [],
   "source": [
    "short_version = lambda x, y, z: x * y + z\n",
    "short_version"
   ]
  },
  {
   "cell_type": "code",
   "execution_count": null,
   "id": "d21abe4c-5a48-4617-a961-d176f09d11ff",
   "metadata": {},
   "outputs": [],
   "source": [
    "short_version(1, 2, 3)"
   ]
  },
  {
   "cell_type": "code",
   "execution_count": null,
   "id": "d1c44150-03c4-474e-96cc-4e371452f220",
   "metadata": {},
   "outputs": [],
   "source": [
    "def long_version(x, y, z):\n",
    "    return x * y + z"
   ]
  },
  {
   "cell_type": "code",
   "execution_count": null,
   "id": "545744f3-4c9d-4ad0-83e2-20f544717c7e",
   "metadata": {},
   "outputs": [],
   "source": [
    "long_version(1, 2, 3)"
   ]
  },
  {
   "cell_type": "markdown",
   "id": "690ce078-3a74-42c4-9aa8-a2bad909ef73",
   "metadata": {
    "tags": []
   },
   "source": [
    "----------------------------------------------------------"
   ]
  },
  {
   "cell_type": "code",
   "execution_count": null,
   "id": "9fe183f7-b051-4d0e-ba57-91c898f3b542",
   "metadata": {},
   "outputs": [],
   "source": [
    "df = pd.DataFrame([[4, 9]] * 3, columns=['A', 'B'])\n",
    "df"
   ]
  },
  {
   "cell_type": "code",
   "execution_count": null,
   "id": "4399be4f-55b3-47df-b0b3-d37ad257ed75",
   "metadata": {},
   "outputs": [],
   "source": [
    "df.A.apply(lambda x: x**2)"
   ]
  },
  {
   "cell_type": "code",
   "execution_count": null,
   "id": "2b3b910e-6d15-4b1f-b976-450cafe6b35c",
   "metadata": {},
   "outputs": [],
   "source": [
    "df.B.apply(lambda x: str(x))"
   ]
  },
  {
   "cell_type": "code",
   "execution_count": null,
   "id": "81db6609-1704-4c20-8595-90dd0ebe9d43",
   "metadata": {},
   "outputs": [],
   "source": [
    "df.B = df.B.apply(lambda x: str(x))"
   ]
  },
  {
   "cell_type": "code",
   "execution_count": null,
   "id": "e4dd2c62-0c7e-4295-8560-0bb45a8e2844",
   "metadata": {},
   "outputs": [],
   "source": [
    "df.iloc[0].B"
   ]
  },
  {
   "cell_type": "code",
   "execution_count": null,
   "id": "bdbcb86d-377f-4221-8f75-9eea2374eb38",
   "metadata": {},
   "outputs": [],
   "source": [
    "type(df.iloc[0].B)"
   ]
  },
  {
   "cell_type": "markdown",
   "id": "ca379910-7734-46bd-ad81-4f3bbb239a56",
   "metadata": {
    "tags": []
   },
   "source": [
    "----------------------------------------------------------"
   ]
  },
  {
   "cell_type": "markdown",
   "id": "72734456-2a13-4ba8-a3bb-6939b6128cd1",
   "metadata": {},
   "source": [
    "🤔 `'Quantity Ordered'` > 600?  \n",
    "🤔 `'Price Each'` < 0?"
   ]
  },
  {
   "cell_type": "code",
   "execution_count": null,
   "id": "76cdc395-5bcd-4d86-bf9d-fd388e65d3c5",
   "metadata": {},
   "outputs": [],
   "source": [
    "sales_df.quantity_ordered.hist(bins=50)"
   ]
  },
  {
   "cell_type": "code",
   "execution_count": null,
   "id": "8180a521-67d1-4783-97bc-fb4d03093674",
   "metadata": {},
   "outputs": [],
   "source": [
    "lower_limit = sales_df.quantity_ordered.mean() - 3 * sales_df.quantity_ordered.std()\n",
    "upper_limit = sales_df.quantity_ordered.mean() + 3 * sales_df.quantity_ordered.std()\n",
    "lower_limit, upper_limit"
   ]
  },
  {
   "cell_type": "code",
   "execution_count": null,
   "id": "55c2a405-e4e8-419d-a7cc-515c5173366a",
   "metadata": {},
   "outputs": [],
   "source": [
    "sales_df[sales_df.quantity_ordered < lower_limit]"
   ]
  },
  {
   "cell_type": "code",
   "execution_count": null,
   "id": "eebb2182-3e52-4373-97bb-b8d936b16256",
   "metadata": {},
   "outputs": [],
   "source": [
    "sales_df[(sales_df.quantity_ordered < 0) | (sales_df.quantity_ordered < 1)]"
   ]
  },
  {
   "cell_type": "markdown",
   "id": "354b7c12-559f-4c97-a8eb-2934edb84ec1",
   "metadata": {},
   "source": [
    "¡Se puede obtener el dato con Order ID!"
   ]
  },
  {
   "cell_type": "code",
   "execution_count": null,
   "id": "1655da41-34c4-4803-b893-4fdfe0c098ec",
   "metadata": {},
   "outputs": [],
   "source": [
    "sales_df[(sales_df.quantity_ordered < 0) | (sales_df.quantity_ordered < 1)].order_id"
   ]
  },
  {
   "cell_type": "code",
   "execution_count": null,
   "id": "121abf81-f7c6-4f4e-8bc4-bb7c802aa8b6",
   "metadata": {},
   "outputs": [],
   "source": [
    "order_id = 193036.0"
   ]
  },
  {
   "cell_type": "code",
   "execution_count": null,
   "id": "f3a94fe3-fdfe-4da6-9f87-f9dd795d2c97",
   "metadata": {},
   "outputs": [],
   "source": [
    "sales_df[sales_df.order_id == order_id]"
   ]
  },
  {
   "cell_type": "markdown",
   "id": "98dd55c7-f9ce-47d3-a19d-e47705458e76",
   "metadata": {},
   "source": [
    "Hay sólo *un producto* con dicho order_id"
   ]
  },
  {
   "cell_type": "code",
   "execution_count": null,
   "id": "7eb9d79d-b7ff-43ae-9383-2e6743465297",
   "metadata": {},
   "outputs": [],
   "source": [
    "sales_df"
   ]
  },
  {
   "cell_type": "code",
   "execution_count": null,
   "id": "c32a5f9e-7a82-4045-92a4-85f30e759ffa",
   "metadata": {},
   "outputs": [],
   "source": [
    "sales_df[sales_df.quantity_ordered < 1]"
   ]
  },
  {
   "cell_type": "code",
   "execution_count": null,
   "id": "83395ce9-0fa9-433b-8918-fbe86add9775",
   "metadata": {},
   "outputs": [],
   "source": [
    "sales_df[sales_df.quantity_ordered < 1].quantity_ordered"
   ]
  },
  {
   "cell_type": "code",
   "execution_count": null,
   "id": "a5be062f-6ef2-4075-b5c3-a146965cd785",
   "metadata": {},
   "outputs": [],
   "source": [
    "sales_df.quantity_ordered = sales_df.quantity_ordered.apply(lambda x: 1 if x < 0 else x)"
   ]
  },
  {
   "cell_type": "code",
   "execution_count": null,
   "id": "18bbc5fe-7bc8-4618-bb93-92ca6993b0d8",
   "metadata": {},
   "outputs": [],
   "source": [
    "sales_df[sales_df.quantity_ordered < 1]"
   ]
  },
  {
   "cell_type": "code",
   "execution_count": null,
   "id": "67bc5278-525c-465c-9a4e-b99ebdb918b9",
   "metadata": {},
   "outputs": [],
   "source": [
    "sales_df[(sales_df.quantity_ordered < 0) | (sales_df.quantity_ordered < 1)]"
   ]
  },
  {
   "cell_type": "code",
   "execution_count": null,
   "id": "6fd8864d-6c12-4556-aabf-f0fb2176fbfb",
   "metadata": {},
   "outputs": [],
   "source": [
    "sales_df.columns"
   ]
  },
  {
   "cell_type": "markdown",
   "id": "a8c629e0-72a7-4bb2-b097-f3309879d7bc",
   "metadata": {},
   "source": [
    "----------------------------------------------------------"
   ]
  },
  {
   "cell_type": "markdown",
   "id": "9d318fbc-0075-4c89-aab3-8c5436113ed7",
   "metadata": {},
   "source": [
    "| Column           \t| Python Object class \t| Data type                   \t| OBS \t|\n",
    "|------------------\t|---------------------\t|-----------------------------\t|-----\t|\n",
    "|         Order ID \t| `ìnt`               \t| numérico, discreto o entero \t|     \t|\n",
    "| Product          \t|                     \t|                             \t|     \t|\n",
    "| Quantity Ordered \t|                     \t|                             \t|     \t|\n",
    "| Price Each       \t|                     \t|                             \t|     \t|\n",
    "|       Order Date \t|                     \t|                             \t|     \t|\n",
    "| Purchase Address \t|                     \t|                             \t|     \t|"
   ]
  },
  {
   "cell_type": "code",
   "execution_count": null,
   "id": "e1f4a261-af60-4651-b795-426a8426d481",
   "metadata": {},
   "outputs": [],
   "source": [
    "sales_df.head()"
   ]
  },
  {
   "cell_type": "markdown",
   "id": "500fc7f9-00d9-4d09-93e4-f583b9571fb2",
   "metadata": {},
   "source": [
    "❓ ¿De qué tipo de dato debería ser `order_id`?"
   ]
  },
  {
   "cell_type": "markdown",
   "id": "2a65269b-ac80-4b4b-b8fc-9d20dfc41a73",
   "metadata": {},
   "source": [
    "* `'Order ID'` *debería* ser un `int`"
   ]
  },
  {
   "cell_type": "markdown",
   "id": "28e994ee-2fb1-45b9-a22a-77dfb05b4bb2",
   "metadata": {
    "tags": []
   },
   "source": [
    "----------------------------------------------------------"
   ]
  },
  {
   "cell_type": "markdown",
   "id": "e122b8c3-ff9e-4fb6-b46c-89e6b35ab94f",
   "metadata": {},
   "source": [
    "## 📢🆕 astype\n",
    "\n",
    "Castea una Serie a un tipo de dato dado"
   ]
  },
  {
   "cell_type": "markdown",
   "id": "5a1810c7-142d-49d2-a50f-f03e51bf0ef5",
   "metadata": {},
   "source": [
    "> to_datetime   \n",
    "> to_timedelta  \n",
    "> to_numeric  "
   ]
  },
  {
   "cell_type": "code",
   "execution_count": null,
   "id": "e410ac89-6467-4299-850b-eb50db090392",
   "metadata": {},
   "outputs": [],
   "source": [
    "ser = pd.Series([1, 2], dtype='int32')\n",
    "ser"
   ]
  },
  {
   "cell_type": "code",
   "execution_count": null,
   "id": "37b352cd-031d-45cf-9b12-b268eaab2afa",
   "metadata": {},
   "outputs": [],
   "source": [
    "ser.astype('int64')"
   ]
  },
  {
   "cell_type": "code",
   "execution_count": null,
   "id": "73667b3e-70b3-4878-9cd1-a5b6aaedbc3e",
   "metadata": {},
   "outputs": [],
   "source": [
    "ser = pd.Series([1.0, 2.0], dtype='float64')\n",
    "ser"
   ]
  },
  {
   "cell_type": "code",
   "execution_count": null,
   "id": "3644142c-f014-4cd9-b160-acf36cdd582a",
   "metadata": {},
   "outputs": [],
   "source": [
    "ser.astype('int64')"
   ]
  },
  {
   "cell_type": "markdown",
   "id": "cec463c6-4d23-45fd-a031-d2c1d8148ee4",
   "metadata": {},
   "source": [
    "### params\n",
    "\n",
    "errors : {'raise', 'ignore'}, default 'raise'  \n",
    "    - ``raise`` : Se detiene y muestra el error  \n",
    "    - ``ignore`` : Cuando encuentra un error al convertir el dato, retorna el valor original  "
   ]
  },
  {
   "cell_type": "code",
   "execution_count": null,
   "id": "658053d4-4c0b-419d-8029-239889c55854",
   "metadata": {},
   "outputs": [],
   "source": [
    "people_df = pd.DataFrame({\n",
    "    'name': ['Dung', 'Hang', 'Linh', 'Hung'],\n",
    "    'gender': ['male', 'female', 'female', 'male']\n",
    "})\n",
    "people_df"
   ]
  },
  {
   "cell_type": "code",
   "execution_count": null,
   "id": "efb47db2-e8ee-4244-908f-ae8c8eddd8a8",
   "metadata": {},
   "outputs": [],
   "source": [
    "people_df.gender.astype('category')"
   ]
  },
  {
   "cell_type": "markdown",
   "id": "610513d1-4620-49e9-8794-1e9651fcaf39",
   "metadata": {},
   "source": [
    "¡La documentación es tu amiga! [pandas.Series.astype](https://pandas.pydata.org/pandas-docs/version/0.23/generated/pandas.Series.astype.html)"
   ]
  },
  {
   "cell_type": "markdown",
   "id": "23775879-94f8-4d02-96c8-78f40fb6f6a2",
   "metadata": {
    "tags": []
   },
   "source": [
    "----------------------------------------------------------"
   ]
  },
  {
   "cell_type": "markdown",
   "id": "93ffda41-d7a6-4ac5-8465-1ed438f29150",
   "metadata": {},
   "source": [
    "❓ ¿De qué tipo de dato debería ser `quantity_ordered`?"
   ]
  },
  {
   "cell_type": "markdown",
   "id": "1ffc366b-8ba8-4c05-b22c-2938d1fd46a1",
   "metadata": {},
   "source": [
    "❓ ¿Qué formato tiene `price_each`? ¿En qué moneda está expresado?"
   ]
  },
  {
   "cell_type": "markdown",
   "id": "f4676832-0c25-4fe8-8ff8-443435f994c6",
   "metadata": {},
   "source": [
    "❓ ¿Qué formato tiene `order_date`? ¿Qué información puede extraerse de esta Serie?"
   ]
  },
  {
   "cell_type": "markdown",
   "id": "2d67b267-4b03-47e4-af45-cb5f8718efb6",
   "metadata": {},
   "source": [
    "❓ ¿Qué formato tiene `purchase_address`? ¿Qué información puede extraerse de esta Serie?"
   ]
  },
  {
   "cell_type": "code",
   "execution_count": null,
   "id": "869438d8-bec2-4cc9-ae83-8015953f38f1",
   "metadata": {},
   "outputs": [],
   "source": [
    "sales_df.columns"
   ]
  },
  {
   "cell_type": "code",
   "execution_count": null,
   "id": "8db337d6-82c2-4721-9734-5b4d3a71ca13",
   "metadata": {},
   "outputs": [],
   "source": [
    "sales_df.order_id.apply(lambda x: int(x))"
   ]
  },
  {
   "cell_type": "code",
   "execution_count": null,
   "id": "24a37588-87b0-4fbc-90d6-9e80f22b4de6",
   "metadata": {},
   "outputs": [],
   "source": [
    "sales_df.order_id = sales_df.order_id.apply(lambda x: int(x))"
   ]
  },
  {
   "cell_type": "code",
   "execution_count": null,
   "id": "1467fd2f-3063-4b5b-aaf0-e4dfab943e05",
   "metadata": {},
   "outputs": [],
   "source": [
    "sales_df.quantity_ordered = sales_df.quantity_ordered.apply(lambda x: int(x))"
   ]
  },
  {
   "cell_type": "code",
   "execution_count": null,
   "id": "07c0bc92-0b0b-40d5-8692-38c69f422106",
   "metadata": {},
   "outputs": [],
   "source": [
    "sales_df.quantity_ordered"
   ]
  },
  {
   "cell_type": "markdown",
   "id": "f279855c-1870-4038-aac4-d4084f727c13",
   "metadata": {
    "tags": []
   },
   "source": [
    "----------------------------------------------------------"
   ]
  },
  {
   "cell_type": "markdown",
   "id": "e7c2f022-13b3-4003-bd53-476c40769bf1",
   "metadata": {
    "tags": []
   },
   "source": [
    "## exportar DataFrame"
   ]
  },
  {
   "cell_type": "markdown",
   "id": "1bf2e0e1-ef7f-410c-9b81-8ceac5563eff",
   "metadata": {},
   "source": [
    "```python\n",
    "df.to_clipboard()\n",
    "df.to_csv()\n",
    "df.to_dict()\n",
    "df.to_excel()\n",
    "df.to_hdf()\n",
    "df.to_html()\n",
    "df.to_json()\n",
    "```"
   ]
  },
  {
   "cell_type": "markdown",
   "id": "98b6a690-5067-4078-99f0-14d632b68107",
   "metadata": {},
   "source": [
    "### to_csv params\n",
    "\n",
    "* **path_or_buf**: `str` ruta del archivo destino.\n",
    "* **sep**: default `','`, `str` criterio de separación\n",
    "* **na_rep**: default `''`, `str` caracter/es con los cuales reemplazar `NaN`. \n",
    "* **columns**: `iterable` columnas a escribir.\n",
    "* **header**: default `True`, `bool` or `list of str` exportar o no los nombres de columnas, si se especifica una lista, se consideran \"aliases\" de los nombres existentes.\n",
    "* **index**: default `True`, `bool` exportar los índices o no.\n",
    "* **mode**: default `'w'`, `str`.\n",
    "* **date_format**: `str` formato de fecha a exportar. \n",
    "* **decimal**: default `'.'`, `str` criterio de separación decimal."
   ]
  },
  {
   "cell_type": "markdown",
   "id": "5368a71a-5f1f-493e-b40f-c0f725b95388",
   "metadata": {},
   "source": [
    "----------------------------------------------------------"
   ]
  },
  {
   "cell_type": "markdown",
   "id": "d7812cbc-100b-4ce5-bad0-204043c95099",
   "metadata": {},
   "source": [
    "👇🏽 Exportar el DataFrame en el que convergen las ventas de todos los meses"
   ]
  },
  {
   "cell_type": "code",
   "execution_count": null,
   "id": "2489761c-f4b7-4bec-aad8-568d55d0847b",
   "metadata": {},
   "outputs": [],
   "source": [
    "sales_df.to_csv('all_months_sales.csv', index=False)"
   ]
  },
  {
   "cell_type": "markdown",
   "id": "1f29a0dc-bc49-42fd-bb2b-12b96ae97af0",
   "metadata": {},
   "source": [
    "----------------------------------------------------------"
   ]
  },
  {
   "cell_type": "markdown",
   "id": "3867f72d-c571-4b8e-ae5a-0826c9d82238",
   "metadata": {},
   "source": [
    "1) ¿Cuál es el mes que reporta la mayor cantidad de productos? "
   ]
  },
  {
   "cell_type": "code",
   "execution_count": null,
   "id": "fe251c35-1ed1-46f4-8fcd-1d8203a18518",
   "metadata": {},
   "outputs": [],
   "source": [
    "sales_df.order_date"
   ]
  },
  {
   "cell_type": "code",
   "execution_count": null,
   "id": "456c8525-de8e-4963-9653-20a6574f4745",
   "metadata": {},
   "outputs": [],
   "source": [
    "def get_month(date):\n",
    "    return date.split('/')[0]"
   ]
  },
  {
   "cell_type": "code",
   "execution_count": null,
   "id": "c13ba967-2044-411a-88cf-c0d4cf1d42e8",
   "metadata": {},
   "outputs": [],
   "source": [
    "get_month('08/31/19 22:21')"
   ]
  },
  {
   "cell_type": "code",
   "execution_count": null,
   "id": "4820a452-8a91-418b-9f44-afe4c66f61b9",
   "metadata": {},
   "outputs": [],
   "source": [
    "def get_month(date):\n",
    "    return int(date.split('/')[0])"
   ]
  },
  {
   "cell_type": "code",
   "execution_count": null,
   "id": "b377ebf9-29ed-4cae-b5ee-6a553df49cb9",
   "metadata": {},
   "outputs": [],
   "source": [
    "get_month('08/31/19 22:21')"
   ]
  },
  {
   "cell_type": "code",
   "execution_count": null,
   "id": "a83436e3-6b44-4b3f-8c66-fe3038c8f23f",
   "metadata": {},
   "outputs": [],
   "source": [
    "sales_df.order_date.apply(get_month)"
   ]
  },
  {
   "cell_type": "code",
   "execution_count": null,
   "id": "d9aa3aa3-cf1a-43dc-b2e1-2a4d1315b079",
   "metadata": {},
   "outputs": [],
   "source": [
    "sales_df['month'] = sales_df.order_date.apply(get_month)"
   ]
  },
  {
   "cell_type": "code",
   "execution_count": null,
   "id": "d6d67813-0997-4f61-912f-e2187192b35b",
   "metadata": {},
   "outputs": [],
   "source": [
    "sales_df"
   ]
  },
  {
   "cell_type": "code",
   "execution_count": null,
   "id": "35e90b7f-9546-4bfd-aa86-4b24e99cfc05",
   "metadata": {},
   "outputs": [],
   "source": [
    "sales_df['sale'] = sales_df.price_each * sales_df.quantity_ordered\n",
    "sales_df['sale']"
   ]
  },
  {
   "cell_type": "code",
   "execution_count": null,
   "id": "fc11dab5-86b0-405d-882d-4c9fbc9c19b7",
   "metadata": {},
   "outputs": [],
   "source": [
    "sales_df"
   ]
  },
  {
   "cell_type": "markdown",
   "id": "e34a5908-feff-4bca-a1b8-c1d68d86495e",
   "metadata": {
    "tags": []
   },
   "source": [
    "----------------------------------------------------------"
   ]
  },
  {
   "cell_type": "markdown",
   "id": "e72aeab1-1148-47c5-ac8c-7a44268386cc",
   "metadata": {},
   "source": [
    "## 📢🆕 groupby\n",
    "\n",
    "Agrupa los datos del DataFrame en función de un label dado"
   ]
  },
  {
   "cell_type": "markdown",
   "id": "7e5c81e3-6d35-420b-bf6e-d7c31b7bdb87",
   "metadata": {},
   "source": [
    "¡La documentación es tu amiga! [pandas.DataFrame.groupby](https://pandas.pydata.org/docs/reference/api/pandas.DataFrame.groupby.html)"
   ]
  },
  {
   "cell_type": "code",
   "execution_count": null,
   "id": "2a6f2b41-4a40-4006-9964-936964be5a49",
   "metadata": {},
   "outputs": [],
   "source": [
    "df = pd.DataFrame({'Animal': ['Falcon', 'Falcon',\n",
    "                              'Parrot', 'Parrot'],\n",
    "                   'Max Speed': [380., 370., 24., 26.]})\n",
    "df"
   ]
  },
  {
   "cell_type": "code",
   "execution_count": null,
   "id": "164a63bb-3cb3-49bc-b9b9-fae111718d04",
   "metadata": {},
   "outputs": [],
   "source": [
    "df.groupby(['Animal']).mean()"
   ]
  },
  {
   "cell_type": "markdown",
   "id": "c7835b28-6152-4ba0-b78c-26d99a5f82ca",
   "metadata": {},
   "source": [
    "----------------------------------------------------------"
   ]
  },
  {
   "cell_type": "code",
   "execution_count": null,
   "id": "6516da11-2ab8-4abc-9125-593ebe334fec",
   "metadata": {},
   "outputs": [],
   "source": [
    "sales_df.groupby('month').sum()"
   ]
  },
  {
   "cell_type": "code",
   "execution_count": null,
   "id": "77e44d10-0b93-4931-b09b-862fa1028cf2",
   "metadata": {},
   "outputs": [],
   "source": [
    "sales_by_month = sales_df.groupby('month').sum()\n",
    "sales_by_month.price_each.max()"
   ]
  },
  {
   "cell_type": "code",
   "execution_count": null,
   "id": "9a2b8355-f9be-4892-9260-bb3bac6ec36b",
   "metadata": {},
   "outputs": [],
   "source": [
    "sales_by_month.columns"
   ]
  },
  {
   "cell_type": "code",
   "execution_count": null,
   "id": "11022981-7b84-4f2f-98af-677c2f39aeff",
   "metadata": {},
   "outputs": [],
   "source": [
    "sales_by_month.plot.bar(y='sale')"
   ]
  },
  {
   "cell_type": "markdown",
   "id": "b684125b-29a1-40fd-9bc4-dbb82771396b",
   "metadata": {},
   "source": [
    "----------------------------------------------------------"
   ]
  },
  {
   "cell_type": "markdown",
   "id": "2f31c305-b96a-42ae-a8c3-a5da96a43958",
   "metadata": {},
   "source": [
    "4) ¿Qué ciudad reportó la mayor cantidad de ventas?"
   ]
  },
  {
   "cell_type": "code",
   "execution_count": null,
   "id": "1aa2bae0-62c9-45fa-b602-d8ace1a61a85",
   "metadata": {},
   "outputs": [],
   "source": [
    "sales_df.purchase_address"
   ]
  },
  {
   "cell_type": "code",
   "execution_count": null,
   "id": "d9e7844c-02ce-464e-bce2-69b4ef2981e5",
   "metadata": {},
   "outputs": [],
   "source": [
    "'359 Spruce St, Seattle, WA 98101'.split(',')[1].replace(' ', '')"
   ]
  },
  {
   "cell_type": "code",
   "execution_count": null,
   "id": "9d016e16-39e7-4760-b7ff-42949f328d50",
   "metadata": {},
   "outputs": [],
   "source": [
    "def get_city(address):\n",
    "    return address.split(',')[1].replace(' ', '')"
   ]
  },
  {
   "cell_type": "code",
   "execution_count": null,
   "id": "66c43548-3ce7-4450-81d6-7b14593c1444",
   "metadata": {},
   "outputs": [],
   "source": [
    "sales_df['city'] = sales_df.purchase_address.apply(get_city)\n",
    "sales_df['city']"
   ]
  },
  {
   "cell_type": "code",
   "execution_count": null,
   "id": "3a07a958-5993-49dc-9360-70242ed96b4a",
   "metadata": {},
   "outputs": [],
   "source": [
    "sales_df"
   ]
  },
  {
   "cell_type": "code",
   "execution_count": null,
   "id": "cd2e7ba2-7f16-4184-b643-fbcef144df90",
   "metadata": {},
   "outputs": [],
   "source": [
    "sales_by_month = sales_df.groupby('city').sum()\n",
    "sales_by_month.price_each.max()"
   ]
  },
  {
   "cell_type": "code",
   "execution_count": null,
   "id": "22bd1533-8f9d-410b-8d16-ae98274e324c",
   "metadata": {},
   "outputs": [],
   "source": [
    "sales_by_month.plot.bar(y='sale')"
   ]
  },
  {
   "cell_type": "markdown",
   "id": "7b9adac8-a747-4491-8e01-3a11ca9a87bd",
   "metadata": {},
   "source": [
    "----------------------------------------------------------"
   ]
  },
  {
   "cell_type": "markdown",
   "id": "3154ad71-5e92-4ff3-8e37-53b6a0fb1505",
   "metadata": {},
   "source": [
    "Determinar productos que se venden juntos.\n",
    "¿Cuál es la relación entre el precio del producto más vendido y el del menos vendido?"
   ]
  },
  {
   "cell_type": "code",
   "execution_count": null,
   "id": "b9851b47-e6e8-445e-b1eb-0d70191b7662",
   "metadata": {},
   "outputs": [],
   "source": [
    "sales_df_duplicated = sales_df[sales_df.order_id.duplicated(keep=False)]\n",
    "sales_df_duplicated"
   ]
  },
  {
   "cell_type": "code",
   "execution_count": null,
   "id": "5d934299-93ef-4e59-9090-28ebdcdbef72",
   "metadata": {},
   "outputs": [],
   "source": [
    "sales_df_duplicated.groupby('order_id').product.transform(lambda x: ', '.join(x))"
   ]
  },
  {
   "cell_type": "code",
   "execution_count": null,
   "id": "d9c6bddc-c6fa-435b-9498-b6813c865767",
   "metadata": {},
   "outputs": [],
   "source": [
    "sales_df_duplicated['bundle_products'] = sales_df_duplicated.groupby('order_id').product.transform(lambda x: ', '.join(x))\n",
    "sales_df_duplicated"
   ]
  },
  {
   "cell_type": "code",
   "execution_count": null,
   "id": "23d59e57-736d-4609-9cc2-afb68d060e94",
   "metadata": {},
   "outputs": [],
   "source": [
    "sales_df_duplicated[['order_id', 'bundle_products']]"
   ]
  },
  {
   "cell_type": "markdown",
   "id": "943c12dc-86ae-40ec-817b-82062c5145cd",
   "metadata": {},
   "source": [
    "----------------------------------------------------------"
   ]
  },
  {
   "cell_type": "markdown",
   "id": "59fd3849-b763-47c5-8e21-fb59d9757602",
   "metadata": {},
   "source": [
    "## 📢🆕 crosstab\n",
    "\n",
    "Esta utilidad de pandas retorna una tabla de datos cruzados que muestran la frecuencia de apareción de ciertos grupos de datos."
   ]
  },
  {
   "cell_type": "code",
   "execution_count": null,
   "id": "e62741ad-f14f-4e84-b698-6493b3ee0b8f",
   "metadata": {},
   "outputs": [],
   "source": [
    "a = np.array([\"foo\", \"foo\", \"foo\", \"foo\", \"bar\", \"bar\",\n",
    "              \"bar\", \"bar\", \"foo\", \"foo\", \"foo\"], dtype=object)\n",
    "b = np.array([\"one\", \"one\", \"one\", \"two\", \"one\", \"one\",\n",
    "              \"one\", \"two\", \"two\", \"two\", \"one\"], dtype=object)\n",
    "c = np.array([\"dull\", \"dull\", \"shiny\", \"dull\", \"dull\", \"shiny\",\n",
    "              \"shiny\", \"dull\", \"shiny\", \"shiny\", \"shiny\"],\n",
    "             dtype=object)\n",
    "\n",
    "pd.crosstab(a, [b, c], rownames=['a'], colnames=['b', 'c'])"
   ]
  },
  {
   "cell_type": "markdown",
   "id": "62e5dd9c-4564-43ae-bd5d-6ca962362e17",
   "metadata": {},
   "source": [
    "----------------------------------------------------------"
   ]
  }
 ],
 "metadata": {
  "kernelspec": {
   "display_name": "Python 3 (ipykernel)",
   "language": "python",
   "name": "python3"
  },
  "language_info": {
   "codemirror_mode": {
    "name": "ipython",
    "version": 3
   },
   "file_extension": ".py",
   "mimetype": "text/x-python",
   "name": "python",
   "nbconvert_exporter": "python",
   "pygments_lexer": "ipython3",
   "version": "3.9.11"
  }
 },
 "nbformat": 4,
 "nbformat_minor": 5
}
