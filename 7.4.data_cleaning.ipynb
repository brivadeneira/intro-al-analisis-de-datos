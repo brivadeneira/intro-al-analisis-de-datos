{
 "cells": [
  {
   "cell_type": "markdown",
   "id": "060f6a95-9198-4e09-b9a0-f4e071e5e9fe",
   "metadata": {},
   "source": [
    "# Data cleaning"
   ]
  },
  {
   "cell_type": "code",
   "execution_count": null,
   "id": "541ca8bc-88f5-431f-9079-25c58a56dc6d",
   "metadata": {},
   "outputs": [],
   "source": [
    "import pandas as pd"
   ]
  },
  {
   "cell_type": "code",
   "execution_count": null,
   "id": "524db572-9d00-4981-abfc-a495ebc683d8",
   "metadata": {},
   "outputs": [],
   "source": [
    "df = pd.read_csv('datasets/nba_players.csv', index_col=0)\n",
    "df.head()"
   ]
  },
  {
   "cell_type": "code",
   "execution_count": null,
   "id": "9f246653-4cbc-4f78-9e8b-f9ad2368eb48",
   "metadata": {},
   "outputs": [],
   "source": [
    "df.head()"
   ]
  },
  {
   "cell_type": "code",
   "execution_count": null,
   "id": "db98efbe-2dac-4c89-a031-396a4818472d",
   "metadata": {},
   "outputs": [],
   "source": [
    "df.rename(columns={'team_abbreviation': 'team', 'pts': 'points'})"
   ]
  },
  {
   "cell_type": "markdown",
   "id": "1328e101-9a73-4c79-b7fe-82ee4d239ad3",
   "metadata": {},
   "source": [
    "## rename()"
   ]
  },
  {
   "cell_type": "markdown",
   "id": "4c2b58b6-7570-44d3-a592-8dfa0e18a23e",
   "metadata": {},
   "source": [
    "¡La documentación es tu amiga! [rename](https://pandas.pydata.org/docs/reference/api/pandas.DataFrame.rename.html)"
   ]
  },
  {
   "cell_type": "code",
   "execution_count": null,
   "id": "d6774e16-4775-4640-8a80-7753551668f9",
   "metadata": {},
   "outputs": [],
   "source": [
    "songs = pd.DataFrame({\n",
    "    'data': [145, 142, 38, 13],\n",
    "    'name': 'counts'\n",
    "})\n",
    "\n",
    "songs"
   ]
  },
  {
   "cell_type": "markdown",
   "id": "fc4a7815-ed4c-444f-8f0b-48ef08d5a225",
   "metadata": {},
   "source": [
    "❓ ¿Cómo renombrar los `index` con los siguientes `str`?"
   ]
  },
  {
   "cell_type": "code",
   "execution_count": null,
   "id": "d7cb9cd3-8b28-4420-b1c9-0e6efdc5d980",
   "metadata": {},
   "outputs": [],
   "source": [
    "names = ['Paul', 'John', 'George', 'Ringo']"
   ]
  },
  {
   "cell_type": "code",
   "execution_count": null,
   "id": "fb1be509-b05f-4fb3-a2e8-ba8b8d4c4f58",
   "metadata": {},
   "outputs": [],
   "source": []
  },
  {
   "cell_type": "markdown",
   "id": "c945227c-3c08-444f-abd9-a59cd55966c6",
   "metadata": {},
   "source": [
    "❓¿La *posición* de los index cambió?"
   ]
  },
  {
   "cell_type": "code",
   "execution_count": null,
   "id": "0d7fae13-c618-46da-8504-5d4cb0aac6a9",
   "metadata": {},
   "outputs": [],
   "source": []
  },
  {
   "cell_type": "markdown",
   "id": "d28b297c-8a00-46b5-9dc0-ee974c814652",
   "metadata": {},
   "source": [
    "## drop_duplicates()\n",
    "\n",
    "¡La documentación es tu amiga! [drop_duplicates](https://pandas.pydata.org/docs/reference/api/pandas.DataFrame.drop_duplicates.html)"
   ]
  },
  {
   "cell_type": "code",
   "execution_count": null,
   "id": "f597f694-cb85-4be0-b401-e1a467d3082b",
   "metadata": {},
   "outputs": [],
   "source": [
    "df_duplicates = pd.concat([df.head(10), df.head()])\n",
    "df_duplicates"
   ]
  },
  {
   "cell_type": "code",
   "execution_count": null,
   "id": "6d0b7f5e-d648-435f-ad9b-19a53ab8566d",
   "metadata": {},
   "outputs": [],
   "source": [
    "df_duplicates.size"
   ]
  },
  {
   "cell_type": "code",
   "execution_count": null,
   "id": "c9ce681b-84d4-41a4-9e0f-0df06f7c6904",
   "metadata": {},
   "outputs": [],
   "source": [
    "df_duplicates.drop_duplicates()"
   ]
  },
  {
   "cell_type": "code",
   "execution_count": null,
   "id": "d10b52c5-c087-4571-836d-bc3a5618da6e",
   "metadata": {},
   "outputs": [],
   "source": [
    "df_duplicates.drop_duplicates().size"
   ]
  },
  {
   "cell_type": "markdown",
   "id": "bdaa09e8-57c8-4f8d-94b5-fc48eeb545d9",
   "metadata": {},
   "source": [
    "❓¿Cómo eliminar valores duplicados teniendo en cuénta sólo una columna?"
   ]
  },
  {
   "cell_type": "code",
   "execution_count": null,
   "id": "7d48de2a-01e0-4580-99ee-444822ad6455",
   "metadata": {},
   "outputs": [],
   "source": []
  },
  {
   "cell_type": "code",
   "execution_count": null,
   "id": "6327477b-c686-4b3f-a134-aacd78c360d0",
   "metadata": {},
   "outputs": [],
   "source": [
    "presidents = {\n",
    "    'President':[\n",
    "        'George Washington', 'John Adams', \n",
    "        'Thomas Jefferson', 'James Madison', \n",
    "        'James Monroe', 'George H . W . Bush', \n",
    "        'Bill Clinton ', 'George W. Bush', \n",
    "        'Barack Obama', 'Donald Trump'\n",
    "    ],\n",
    "    'Party': [\n",
    "        'Independent', 'Federalist', \n",
    "        'Democratic-Republican', 'Democratic-Republican', \n",
    "        'Democratic-Republican', 'Republican', 'Democratic', \n",
    "        'Republican', 'Democratic', 'Republican'\n",
    "    ],\n",
    "    'Average_rank': [\n",
    "        1, 13, 5, 7, 8, 21, 16, 33, 17, 42\n",
    "    ]\n",
    "}\n",
    "\n",
    "df_presidents = pd.DataFrame(presidents)"
   ]
  },
  {
   "cell_type": "code",
   "execution_count": null,
   "id": "f21d8861-fade-4b3e-9e74-054569c580c1",
   "metadata": {},
   "outputs": [],
   "source": [
    "df_presidents"
   ]
  },
  {
   "cell_type": "code",
   "execution_count": null,
   "id": "8e588f0f-ccba-4b38-a713-7baac7bb50e9",
   "metadata": {},
   "outputs": [],
   "source": [
    "presidents_df.drop_duplicates(subset='Party')"
   ]
  },
  {
   "cell_type": "code",
   "execution_count": null,
   "id": "3e8773ce-e617-4506-8400-97bb0b79de00",
   "metadata": {},
   "outputs": [],
   "source": [
    "presidents_df.drop_duplicates(subset='Party', keep='last')"
   ]
  },
  {
   "cell_type": "code",
   "execution_count": null,
   "id": "d6234913-c2fa-40a2-8b3c-add7838c90eb",
   "metadata": {},
   "outputs": [],
   "source": [
    "presidents_df.drop_duplicates(subset='Party', keep=False)"
   ]
  },
  {
   "cell_type": "markdown",
   "id": "8f3ed1ea-07b4-45b8-95c9-00cab521d9d1",
   "metadata": {},
   "source": [
    "## is_null()\n",
    "\n",
    "Detecta datos faltantes en el DatFrame y devuelve un objeto similar con booleanos, donde `True` indica que en ese lugar hay un dato faltante."
   ]
  },
  {
   "cell_type": "code",
   "execution_count": null,
   "id": "83c6bdfb-03f0-4488-954f-b660c73b80be",
   "metadata": {},
   "outputs": [],
   "source": [
    "df.isnull().head()"
   ]
  },
  {
   "cell_type": "markdown",
   "id": "21d4250e-17d5-4e96-a3d9-31d56a8562d3",
   "metadata": {},
   "source": [
    "## NaN\n",
    "\n",
    "*Not a Number*. Cuando pandas no puede determinar un *valor numérico* para asignar a una entrada, le asigna `NaN`. Generalmente estos **NO AFECTAN** operaciones aritméticas.\n"
   ]
  },
  {
   "cell_type": "code",
   "execution_count": null,
   "id": "d862c7cb-77bb-48c5-83ae-839dfd5c390b",
   "metadata": {},
   "outputs": [],
   "source": [
    "! pip install numpy"
   ]
  },
  {
   "cell_type": "code",
   "execution_count": null,
   "id": "75602636-5ab3-4836-b1a4-9da7a53a2753",
   "metadata": {},
   "outputs": [],
   "source": [
    "import numpy as np\n",
    "\n",
    "nan_series = pd.Series(\n",
    "    [2 , np.nan ],\n",
    "    index =['Ono' , 'Clapton']\n",
    ")\n",
    "\n",
    "nan_series "
   ]
  },
  {
   "cell_type": "markdown",
   "id": "66a31041-870d-4fdb-8f9b-31dd411ab3aa",
   "metadata": {},
   "source": [
    "> Nótese que dype es `float64` ya que este tipo de dato admite NaN, no así `int64`."
   ]
  },
  {
   "cell_type": "code",
   "execution_count": null,
   "id": "850b6afe-9fea-430f-96ee-c900c6a9472c",
   "metadata": {},
   "outputs": [],
   "source": [
    "nan_series.count()"
   ]
  },
  {
   "cell_type": "code",
   "execution_count": null,
   "id": "6fd1ad40-5abb-45e9-a198-25cc4e0f1faf",
   "metadata": {},
   "outputs": [],
   "source": [
    "nan_series.size"
   ]
  },
  {
   "cell_type": "markdown",
   "id": "84074891-4426-452f-b31d-69220d1b839f",
   "metadata": {},
   "source": [
    "## is_na()\n",
    "\n",
    "Detecta NaN en el DatFrame y devuelve un objeto similar con booleanos, donde `True` indica que en ese lugar hay un NaN."
   ]
  },
  {
   "cell_type": "code",
   "execution_count": null,
   "id": "08f16fe7-a7df-41a2-b490-78f6ee1303f1",
   "metadata": {},
   "outputs": [],
   "source": [
    "df.isna()"
   ]
  },
  {
   "cell_type": "markdown",
   "id": "71bc4288-0b38-48a7-8f2a-95fa18fc8de2",
   "metadata": {},
   "source": [
    "## dropna()\n",
    "\n",
    "Elimina NaN.\n",
    "\n",
    "¡OJO! \n",
    "\n",
    "Hay que asegurarse de que es correcto \"dropear\" la data que contiene NaN."
   ]
  },
  {
   "cell_type": "code",
   "execution_count": null,
   "id": "6b755eae-0ea3-463c-9a37-c2c36cecd6b1",
   "metadata": {},
   "outputs": [],
   "source": [
    "df.head()"
   ]
  },
  {
   "cell_type": "code",
   "execution_count": null,
   "id": "f108ef9f-f02c-4b39-877b-2db02771e82d",
   "metadata": {},
   "outputs": [],
   "source": [
    "df.dropna().head()"
   ]
  },
  {
   "cell_type": "code",
   "execution_count": null,
   "id": "5ddd0145-d52f-4a5d-8975-1a4758b9873a",
   "metadata": {},
   "outputs": [],
   "source": [
    "df.size, df.dropna().size"
   ]
  },
  {
   "cell_type": "markdown",
   "id": "879491f3-d6a0-46d6-b413-97e6b3491ba9",
   "metadata": {},
   "source": [
    "### any\n",
    "\n",
    "Elimina aquellas filas en las que todos los valores son NaN"
   ]
  },
  {
   "cell_type": "code",
   "execution_count": null,
   "id": "2b9daa2a-b99f-442d-8f6a-8779eefb774a",
   "metadata": {},
   "outputs": [],
   "source": [
    "df.head(11)"
   ]
  },
  {
   "cell_type": "code",
   "execution_count": null,
   "id": "95dc9310-e72a-472c-8c29-c159818330a6",
   "metadata": {},
   "outputs": [],
   "source": [
    "df.dropna(how='any').head(11)"
   ]
  },
  {
   "cell_type": "markdown",
   "id": "8a5413cd-8696-4857-a69f-3ed4628624c4",
   "metadata": {},
   "source": [
    "### thresh\n",
    "\n",
    "Elimina las filas que contengan al menos una cantidad de valores que no sean NaN"
   ]
  },
  {
   "cell_type": "code",
   "execution_count": null,
   "id": "7bb9d4d3-029d-4094-9680-1a8f7023279e",
   "metadata": {},
   "outputs": [],
   "source": [
    "df.head(3)"
   ]
  },
  {
   "cell_type": "code",
   "execution_count": null,
   "id": "6236e2bf-8e84-43ad-af20-5bb465a1f87e",
   "metadata": {},
   "outputs": [],
   "source": [
    "df.shape"
   ]
  },
  {
   "cell_type": "code",
   "execution_count": null,
   "id": "a89f9a9b-81b7-4cde-9a5e-305c4d54ccea",
   "metadata": {},
   "outputs": [],
   "source": [
    "df.dropna(thresh=20).head(3)"
   ]
  },
  {
   "cell_type": "markdown",
   "id": "9ebc159c-ad4b-48af-ac09-a59e7bb74635",
   "metadata": {},
   "source": [
    "### subset\n",
    "\n",
    "Definir en qué conjunto de columnas buscar valores NaN y eliminar las filas que lo contengan"
   ]
  },
  {
   "cell_type": "code",
   "execution_count": null,
   "id": "006e4d72-3bdc-44bb-8afe-aa7f6db11b7f",
   "metadata": {},
   "outputs": [],
   "source": [
    "df.head(5)"
   ]
  },
  {
   "cell_type": "code",
   "execution_count": null,
   "id": "aff94b4a-d392-4855-b8bc-86f9f12af85b",
   "metadata": {},
   "outputs": [],
   "source": [
    "df.dropna(subset=['reb', 'net_rating'])"
   ]
  },
  {
   "cell_type": "markdown",
   "id": "f26f3747-1873-423b-951d-b1b499539bc0",
   "metadata": {},
   "source": [
    "## fillna()\n",
    "\n",
    "Reemplaza NaN con un valor o método dados."
   ]
  },
  {
   "cell_type": "code",
   "execution_count": null,
   "id": "ec3d30a6-03ae-4fbf-a2b9-a644f47e818d",
   "metadata": {},
   "outputs": [],
   "source": [
    "df.head(15)"
   ]
  },
  {
   "cell_type": "code",
   "execution_count": null,
   "id": "0adb0d86-5a9c-47a5-b894-592e83b3a81e",
   "metadata": {},
   "outputs": [],
   "source": [
    "df.fillna(0).head(15)"
   ]
  },
  {
   "cell_type": "code",
   "execution_count": null,
   "id": "dde8e893-009c-4dec-9a95-635cedaf7c88",
   "metadata": {},
   "outputs": [],
   "source": [
    "df.head()"
   ]
  },
  {
   "cell_type": "markdown",
   "id": "7acd0af1-89e6-4e46-87fa-5fe22ee714da",
   "metadata": {},
   "source": [
    "### ffill\n",
    "\n",
    "Propagar valores no nulos a lo largo de la columna"
   ]
  },
  {
   "cell_type": "code",
   "execution_count": null,
   "id": "10d84849-707d-4684-81fa-ce87563f8ff8",
   "metadata": {},
   "outputs": [],
   "source": [
    "df = pd.read_csv('datasets/nba_players.csv', index_col=0)"
   ]
  },
  {
   "cell_type": "code",
   "execution_count": null,
   "id": "f8addbc6-af4b-4f98-b096-8e07d094ad44",
   "metadata": {},
   "outputs": [],
   "source": [
    "df.head()"
   ]
  },
  {
   "cell_type": "code",
   "execution_count": null,
   "id": "df4b2ba5-5b21-41fa-b527-ab11ae154cf6",
   "metadata": {},
   "outputs": [],
   "source": [
    "df.fillna(method='ffill')"
   ]
  },
  {
   "cell_type": "markdown",
   "id": "22eac932-478e-4486-aab3-0c2c3d33aec1",
   "metadata": {},
   "source": [
    "### values\n",
    "\n",
    "Especificar valores específicos para cada columna"
   ]
  },
  {
   "cell_type": "code",
   "execution_count": null,
   "id": "bb43e738-5474-4b77-9fab-d41d2dc9f4b6",
   "metadata": {},
   "outputs": [],
   "source": [
    "df = pd.read_csv('datasets/nba_players.csv', index_col=0)"
   ]
  },
  {
   "cell_type": "code",
   "execution_count": null,
   "id": "e6f6f86e-a963-48f9-b641-d9c68c9d7a2a",
   "metadata": {},
   "outputs": [],
   "source": [
    "df.head()"
   ]
  },
  {
   "cell_type": "code",
   "execution_count": null,
   "id": "636fee26-9a79-48c2-beab-6373a4274506",
   "metadata": {},
   "outputs": [],
   "source": [
    "values = {\n",
    "    'draft_year': 1995,\n",
    "    'draft_round': 2\n",
    "}\n",
    "\n",
    "df.fillna(value=values, limit=1)"
   ]
  },
  {
   "cell_type": "markdown",
   "id": "7a78a83d-f93d-48c5-ab6a-2205f86499fa",
   "metadata": {},
   "source": [
    "### mean\n",
    "\n",
    "Reemplazar los NaN con el promedio de los valores no nulos"
   ]
  },
  {
   "cell_type": "code",
   "execution_count": null,
   "id": "6659bb2c-ad4c-4f2b-9c47-ce1d1ffc4b53",
   "metadata": {},
   "outputs": [],
   "source": [
    "df = pd.read_csv('datasets/nba_players.csv', index_col=0)"
   ]
  },
  {
   "cell_type": "code",
   "execution_count": null,
   "id": "f523ccbc-462e-4706-9b8f-ec8962bb1bba",
   "metadata": {
    "tags": []
   },
   "outputs": [],
   "source": [
    "df.head()"
   ]
  },
  {
   "cell_type": "code",
   "execution_count": null,
   "id": "f6905f17-7298-42fb-834d-3f800b00930f",
   "metadata": {},
   "outputs": [],
   "source": [
    "df.reb.mean()"
   ]
  },
  {
   "cell_type": "code",
   "execution_count": null,
   "id": "cea84551-d3f7-4326-94d7-8fccc368afda",
   "metadata": {},
   "outputs": [],
   "source": [
    "rb_mean = round(df.reb.mean(), 2)\n",
    "df.fillna(value={'reb': rb_mean})"
   ]
  },
  {
   "cell_type": "markdown",
   "id": "d07bfa9c-6aa1-4696-ab9e-1330e1e4a8b5",
   "metadata": {},
   "source": [
    "### median\n",
    "\n",
    "Reemplazar los NaN con la mediana de los valores no nulos"
   ]
  },
  {
   "cell_type": "code",
   "execution_count": null,
   "id": "d3109daa-f7b0-4a30-8a97-528d85f903b8",
   "metadata": {},
   "outputs": [],
   "source": [
    "df = pd.read_csv('datasets/nba_players.csv', index_col=0)"
   ]
  },
  {
   "cell_type": "code",
   "execution_count": null,
   "id": "8740e779-bb79-4a10-ab76-ce34dd739535",
   "metadata": {
    "tags": []
   },
   "outputs": [],
   "source": [
    "df.head()"
   ]
  },
  {
   "cell_type": "code",
   "execution_count": null,
   "id": "0e10ae1f-0e54-4899-8491-fdc04d336495",
   "metadata": {
    "tags": []
   },
   "outputs": [],
   "source": [
    "df.reb.median()"
   ]
  },
  {
   "cell_type": "code",
   "execution_count": null,
   "id": "149c73df-6109-4a5f-968f-823cf35e5323",
   "metadata": {},
   "outputs": [],
   "source": [
    "df.fillna(value={'reb': df.reb.median()})"
   ]
  },
  {
   "cell_type": "markdown",
   "id": "ea0ab71b-abf5-4503-b61a-1475260bc700",
   "metadata": {},
   "source": [
    "### mode\n",
    "\n",
    "Reemplazar los NaN con la moda de los valores no nulos"
   ]
  },
  {
   "cell_type": "code",
   "execution_count": null,
   "id": "82950d4c-47bc-4168-a136-f37ddffe7420",
   "metadata": {},
   "outputs": [],
   "source": [
    "df = pd.read_csv('datasets/nba_players.csv', index_col=0)"
   ]
  },
  {
   "cell_type": "code",
   "execution_count": null,
   "id": "ab6a2d16-6112-4782-857e-326a0891a18b",
   "metadata": {
    "tags": []
   },
   "outputs": [],
   "source": [
    "df.head()"
   ]
  },
  {
   "cell_type": "code",
   "execution_count": null,
   "id": "f4ab47c8-7d4e-4137-a4f7-7b4baef2be0a",
   "metadata": {
    "tags": []
   },
   "outputs": [],
   "source": [
    "df.reb.mode()"
   ]
  },
  {
   "cell_type": "code",
   "execution_count": null,
   "id": "78b98d93-4d1a-4a14-b861-766d981592df",
   "metadata": {},
   "outputs": [],
   "source": [
    "df.fillna(value={'reb': df.reb.mode()})"
   ]
  }
 ],
 "metadata": {
  "kernelspec": {
   "display_name": "Python 3 (ipykernel)",
   "language": "python",
   "name": "python3"
  },
  "language_info": {
   "codemirror_mode": {
    "name": "ipython",
    "version": 3
   },
   "file_extension": ".py",
   "mimetype": "text/x-python",
   "name": "python",
   "nbconvert_exporter": "python",
   "pygments_lexer": "ipython3",
   "version": "3.9.5"
  }
 },
 "nbformat": 4,
 "nbformat_minor": 5
}
