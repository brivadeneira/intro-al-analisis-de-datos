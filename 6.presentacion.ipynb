{
 "cells": [
  {
   "cell_type": "markdown",
   "id": "e6ee624c-76ed-4f0d-8572-f71082cc5e5e",
   "metadata": {},
   "source": [
    "# Análisis de datos\n",
    "\n",
    "*2022*"
   ]
  },
  {
   "cell_type": "markdown",
   "id": "c957e67d-efc3-46dc-a8b3-d5bf7b467600",
   "metadata": {},
   "source": [
    "## Módulo 1: Introducción\n",
    "\n",
    "* Repaso general de conceptos abordados en el curso de Introducción a Python\n",
    "* Conceptos generales sobre el análisis de datos\n",
    "\n",
    "## Módulo 2: Manipulación de datos\n",
    "\n",
    "* Lectura de datasets desde diferentes formatos de archivo\n",
    "* Limpieza de los datos de manera criteriosa\n",
    "* Análisis exploratorio y descriptivo de los datos\n",
    "* Transformación de los datos\n",
    "* Práctica con datasets reales"
   ]
  },
  {
   "cell_type": "markdown",
   "id": "56bc89bb-5607-4fec-9850-027f20eb057d",
   "metadata": {},
   "source": [
    "## Analista vs científico de datos\n",
    "\n",
    "### Analista de datos\n",
    "\n",
    "* Consultas de datos usando SQL.\n",
    "* Análisis y predicción de datos en hojas de cálculo.\n",
    "* Dashboards de datos.\n",
    "* Diferentes tipos de análisis: descriptivos, diagnóstivos, predictivos.\n",
    "\n",
    "### Científico de datos\n",
    "\n",
    "* Invierte el 60% de su tiempo depurando datos.\n",
    "* Data mining usando APIs o pipelines.\n",
    "* Limpieza de datos usando Python o R.\n",
    "* Análisis estadístico usando algoritmos de Machine Learning.\n",
    "* Automatización de procesos.\n",
    "* Desarrollo de infraestructura para big data.\n",
    "\n",
    "[Más info](https://www.mastersindatascience.org/careers/data-analyst-vs-data-scientist/#:~:text=Simply%20put%2C%20a%20data%20analyst,fit%20for%20your%20career%20goals.)"
   ]
  }
 ],
 "metadata": {
  "kernelspec": {
   "display_name": "Python 3 (ipykernel)",
   "language": "python",
   "name": "python3"
  },
  "language_info": {
   "codemirror_mode": {
    "name": "ipython",
    "version": 3
   },
   "file_extension": ".py",
   "mimetype": "text/x-python",
   "name": "python",
   "nbconvert_exporter": "python",
   "pygments_lexer": "ipython3",
   "version": "3.9.5"
  }
 },
 "nbformat": 4,
 "nbformat_minor": 5
}
