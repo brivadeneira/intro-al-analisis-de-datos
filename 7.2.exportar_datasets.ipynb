{
 "cells": [
  {
   "cell_type": "markdown",
   "id": "7b4e2bfb-cc14-4153-afe8-f6d0eb18e332",
   "metadata": {},
   "source": [
    "# Exportar datasets (pandas)"
   ]
  },
  {
   "cell_type": "code",
   "execution_count": 1,
   "id": "1339b6aa-8ba0-4495-a3bd-37e8a5aa0819",
   "metadata": {},
   "outputs": [],
   "source": [
    "import pandas as pd"
   ]
  },
  {
   "cell_type": "code",
   "execution_count": 3,
   "id": "aac1e9df-26ea-4656-a075-aaa22376d18c",
   "metadata": {},
   "outputs": [],
   "source": [
    "ninja_turtles = {\n",
    "    'name': ['Raphael', 'Donatello'],\n",
    "    'mask': ['red', 'purple'],\n",
    "    'weapon': ['sai', 'bo staff']\n",
    "}"
   ]
  },
  {
   "cell_type": "code",
   "execution_count": 4,
   "id": "9a44dffb-4197-4106-b385-95946532f539",
   "metadata": {},
   "outputs": [],
   "source": [
    "df = pd.DataFrame(ninja_turtles)"
   ]
  },
  {
   "cell_type": "code",
   "execution_count": 5,
   "id": "2946b4fa-5378-40de-b3ff-31d17e6c70d9",
   "metadata": {},
   "outputs": [
    {
     "data": {
      "text/html": [
       "<div>\n",
       "<style scoped>\n",
       "    .dataframe tbody tr th:only-of-type {\n",
       "        vertical-align: middle;\n",
       "    }\n",
       "\n",
       "    .dataframe tbody tr th {\n",
       "        vertical-align: top;\n",
       "    }\n",
       "\n",
       "    .dataframe thead th {\n",
       "        text-align: right;\n",
       "    }\n",
       "</style>\n",
       "<table border=\"1\" class=\"dataframe\">\n",
       "  <thead>\n",
       "    <tr style=\"text-align: right;\">\n",
       "      <th></th>\n",
       "      <th>name</th>\n",
       "      <th>mask</th>\n",
       "      <th>weapon</th>\n",
       "    </tr>\n",
       "  </thead>\n",
       "  <tbody>\n",
       "    <tr>\n",
       "      <th>0</th>\n",
       "      <td>Raphael</td>\n",
       "      <td>red</td>\n",
       "      <td>sai</td>\n",
       "    </tr>\n",
       "    <tr>\n",
       "      <th>1</th>\n",
       "      <td>Donatello</td>\n",
       "      <td>purple</td>\n",
       "      <td>bo staff</td>\n",
       "    </tr>\n",
       "  </tbody>\n",
       "</table>\n",
       "</div>"
      ],
      "text/plain": [
       "        name    mask    weapon\n",
       "0    Raphael     red       sai\n",
       "1  Donatello  purple  bo staff"
      ]
     },
     "execution_count": 5,
     "metadata": {},
     "output_type": "execute_result"
    }
   ],
   "source": [
    "df"
   ]
  },
  {
   "cell_type": "markdown",
   "id": "1832d5c9-400d-4e2b-8502-895ed27db85e",
   "metadata": {},
   "source": [
    "```python\n",
    "df.to_clipboard\n",
    "df.to_csv\n",
    "df.to_dict\n",
    "df.to_excel\n",
    "df.to_hdf\n",
    "df.to_html\n",
    "df.to_json\n",
    "```"
   ]
  },
  {
   "cell_type": "markdown",
   "id": "fe2eb2ca-2a7d-4fc0-84f9-5f2bda02ac95",
   "metadata": {},
   "source": [
    "## to_csv"
   ]
  },
  {
   "cell_type": "code",
   "execution_count": 6,
   "id": "fe61ccc9-7050-4b77-a0b8-e0fc35976487",
   "metadata": {},
   "outputs": [],
   "source": [
    "df.to_csv('datasets/ninja_turtles.csv')"
   ]
  },
  {
   "cell_type": "markdown",
   "id": "d548d226-0043-48f4-ae5e-4c37309c62d2",
   "metadata": {},
   "source": [
    "### to_csv params\n",
    "\n",
    "* **path_or_buf**: `str` ruta del archivo destino.\n",
    "* **sep**: default `','`, `str` criterio de separación\n",
    "* **na_rep**: default `''`, `str` caracter/es con los cuales reemplazar `NaN`. \n",
    "* **columns**: `iterable` columnas a escribir.\n",
    "* **header**: default `True`, `bool` or `list of str` exportar o no los nombres de columnas, si se especifica una lista, se consideran \"aliases\" de los nombres existentes.\n",
    "* **index**: default `True`, `bool` exportar los índices o no.\n",
    "* **mode**: default `'w'`, `str`.\n",
    "* **date_format**: `str` formato de fecha a exportar. \n",
    "* **decimal**: default `'.'`, `str` criterio de separación decimal."
   ]
  },
  {
   "cell_type": "code",
   "execution_count": null,
   "id": "6d0081b4-1607-4690-a3b3-48d2e5e22c2b",
   "metadata": {},
   "outputs": [],
   "source": [
    "df.to_csv('ninja_turtles.csv', index=False)"
   ]
  },
  {
   "cell_type": "markdown",
   "id": "ca707725-cdac-4955-95ac-060b23f4ee4d",
   "metadata": {},
   "source": [
    "## to feather\n",
    "\n",
    "Se trata de un formato de archivo para almacenar DataFrames o tablas *Arrow* con Python y R."
   ]
  },
  {
   "cell_type": "code",
   "execution_count": null,
   "id": "08960afe-e306-405b-b916-04bd976b8c01",
   "metadata": {},
   "outputs": [],
   "source": [
    "! pip install feather-format"
   ]
  },
  {
   "cell_type": "code",
   "execution_count": null,
   "id": "13fe46fb-ba51-49c2-b47f-0e1e0350e21b",
   "metadata": {},
   "outputs": [],
   "source": [
    "df.to_feather('datasets/df.fea')"
   ]
  },
  {
   "cell_type": "markdown",
   "id": "51165b42-b75b-4687-8856-1837f7b1bac9",
   "metadata": {},
   "source": [
    "## to_dict"
   ]
  },
  {
   "cell_type": "code",
   "execution_count": 7,
   "id": "6919814b-b4f5-49a5-942d-91bbf0c6f70e",
   "metadata": {},
   "outputs": [
    {
     "data": {
      "text/plain": [
       "{'name': {0: 'Raphael', 1: 'Donatello'},\n",
       " 'mask': {0: 'red', 1: 'purple'},\n",
       " 'weapon': {0: 'sai', 1: 'bo staff'}}"
      ]
     },
     "execution_count": 7,
     "metadata": {},
     "output_type": "execute_result"
    }
   ],
   "source": [
    "df.to_dict()"
   ]
  },
  {
   "cell_type": "code",
   "execution_count": 8,
   "id": "04037315-69ce-4a89-b730-4cb3562c6914",
   "metadata": {},
   "outputs": [
    {
     "data": {
      "text/plain": [
       "{'name': ['Raphael', 'Donatello'],\n",
       " 'mask': ['red', 'purple'],\n",
       " 'weapon': ['sai', 'bo staff']}"
      ]
     },
     "execution_count": 8,
     "metadata": {},
     "output_type": "execute_result"
    }
   ],
   "source": [
    "df.to_dict(orient='list')"
   ]
  },
  {
   "cell_type": "markdown",
   "id": "b3f2063e-a830-4ae5-9400-74ca1f6da0bc",
   "metadata": {},
   "source": [
    "¡La documentación es tu amiga! [to_dict](https://pandas.pydata.org/docs/reference/api/pandas.DataFrame.to_dict.html)"
   ]
  },
  {
   "cell_type": "markdown",
   "id": "ccda3e0c-703f-42c6-9ed2-bc3efefc10fa",
   "metadata": {},
   "source": [
    "## to_excel"
   ]
  },
  {
   "cell_type": "code",
   "execution_count": null,
   "id": "70d9ac77-1691-4c44-886b-c0f9447eac19",
   "metadata": {},
   "outputs": [],
   "source": [
    "df.to_excel('ninja_turtles.xlsx')"
   ]
  },
  {
   "cell_type": "markdown",
   "id": "90779019-95f3-448f-b249-895144966967",
   "metadata": {},
   "source": [
    "¡La documentación es tu amiga! [to_excel](https://pandas.pydata.org/docs/reference/api/pandas.DataFrame.to_excel.html)"
   ]
  },
  {
   "cell_type": "markdown",
   "id": "08037e1a-0bd8-4e43-9582-dd10778712e4",
   "metadata": {},
   "source": [
    "## to_hdf"
   ]
  },
  {
   "cell_type": "code",
   "execution_count": null,
   "id": "59e34082-2c58-4392-b0d9-934f2a935e3c",
   "metadata": {},
   "outputs": [],
   "source": [
    "df.to_hdf('ninja_turtles.h5', 'table')"
   ]
  },
  {
   "cell_type": "markdown",
   "id": "f6abb227-f438-4880-aeb0-faf6f8f35519",
   "metadata": {},
   "source": [
    "¡La documentación es tu amiga! [to_hdf](https://pandas.pydata.org/docs/reference/api/pandas.DataFrame.to_hdf.html)"
   ]
  },
  {
   "cell_type": "markdown",
   "id": "8b9fcb9f-dc59-4e7a-85db-633e2b50708b",
   "metadata": {},
   "source": [
    "## to_html"
   ]
  },
  {
   "cell_type": "code",
   "execution_count": null,
   "id": "3c4da659-67cd-4019-a727-2a40b6daf4a8",
   "metadata": {},
   "outputs": [],
   "source": [
    "df.to_html('ninja_turtles.html')"
   ]
  },
  {
   "cell_type": "markdown",
   "id": "81a9341d-cf17-403f-80e8-5945fc9152b7",
   "metadata": {},
   "source": [
    "¡La documentación es tu amiga! [to_html](https://pandas.pydata.org/docs/reference/api/pandas.DataFrame.to_html.html)"
   ]
  },
  {
   "cell_type": "markdown",
   "id": "0706423f-ccc3-4d8b-b2f5-6708703f70c0",
   "metadata": {},
   "source": [
    "## to_json"
   ]
  },
  {
   "cell_type": "code",
   "execution_count": null,
   "id": "a4936b36-7a84-4e2f-9c26-095d8475b5ad",
   "metadata": {},
   "outputs": [],
   "source": [
    "df.to_json('ninja_turtles.json')"
   ]
  },
  {
   "cell_type": "code",
   "execution_count": null,
   "id": "469ff928-2a7d-480b-9d4b-683f6451c19a",
   "metadata": {},
   "outputs": [],
   "source": [
    "df.to_json('ninja_turtles.json', 'table')"
   ]
  },
  {
   "cell_type": "markdown",
   "id": "6ead7cc5-2d9f-4b8f-a98e-7d400ed9278b",
   "metadata": {},
   "source": [
    "¡La documentación es tu amiga! [to_json](https://pandas.pydata.org/docs/reference/api/pandas.DataFrame.to_html.html)"
   ]
  },
  {
   "cell_type": "markdown",
   "id": "8c31cb8f-4261-4931-b285-0edadf41ac92",
   "metadata": {},
   "source": [
    "## Ejercicios"
   ]
  },
  {
   "cell_type": "markdown",
   "id": "e111bdbe-03d2-44cf-a7e7-278cb9df66f3",
   "metadata": {},
   "source": [
    "Dado el siguiente `DataFrame`:"
   ]
  },
  {
   "cell_type": "code",
   "execution_count": null,
   "id": "acefeb93-63da-426b-801a-450e9871a4f3",
   "metadata": {},
   "outputs": [],
   "source": [
    "import pandas as pd\n",
    "\n",
    "url = 'https://github.com/mattharrison/datasets/raw/master/data/dirtydevil.txt'\n",
    "df = pd.read_csv(url, skiprows=lambda num: num <34 or num == 35, \n",
    "                 sep='\\t', index_col='datetime', parse_dates=True)"
   ]
  },
  {
   "cell_type": "code",
   "execution_count": null,
   "id": "731b1e3b-f5fc-4426-968f-c4fc78d273a8",
   "metadata": {},
   "outputs": [],
   "source": [
    "df.head()"
   ]
  },
  {
   "cell_type": "markdown",
   "id": "d73c1ba5-8b9f-42cc-8c5b-b17c32c93beb",
   "metadata": {},
   "source": [
    "❔ ¿Cuál es el index del Axis 0?"
   ]
  },
  {
   "cell_type": "code",
   "execution_count": null,
   "id": "011b97eb-e541-459e-a798-ccf56e2e8954",
   "metadata": {},
   "outputs": [],
   "source": []
  },
  {
   "cell_type": "markdown",
   "id": "f09732b7-a582-4529-8a21-dd2195c22a59",
   "metadata": {},
   "source": []
  },
  {
   "cell_type": "markdown",
   "id": "8ae85f78-183d-42a4-9785-8e18bcbb571d",
   "metadata": {},
   "source": [
    "❔ ¿Qué tipo de objectos componen el index?"
   ]
  },
  {
   "cell_type": "code",
   "execution_count": null,
   "id": "afeedea1-2bb9-4489-a464-29167acf65e6",
   "metadata": {},
   "outputs": [],
   "source": []
  },
  {
   "cell_type": "markdown",
   "id": "1d9da066-7330-4d47-a93d-faf696ce6f86",
   "metadata": {},
   "source": []
  },
  {
   "cell_type": "markdown",
   "id": "f31b2d3f-6e6c-4df6-9e75-db1011890976",
   "metadata": {},
   "source": [
    "Exportar `df` a un archivo con extensión `xlsx`.\n",
    "* ¿Qué error aparece en este proceso?\n",
    "* ¿A qué se debe?\n",
    "* Documentar la solución"
   ]
  },
  {
   "cell_type": "code",
   "execution_count": null,
   "id": "424d139e-f88a-413d-ab31-9b18ca97ac3f",
   "metadata": {},
   "outputs": [],
   "source": []
  },
  {
   "cell_type": "markdown",
   "id": "2ec7da2a-e8a8-4e42-80d2-1722724f27cd",
   "metadata": {},
   "source": []
  },
  {
   "cell_type": "markdown",
   "id": "0dd4f5cf-5a85-4ab1-9168-16ab15690935",
   "metadata": {},
   "source": [
    "Expotart `df` a un archivo de extensión `json`.\n",
    "* ¿Cómo se exportaron los values del index?"
   ]
  },
  {
   "cell_type": "code",
   "execution_count": null,
   "id": "e189c866-afa5-42ea-bbfb-8846caba9836",
   "metadata": {},
   "outputs": [],
   "source": []
  }
 ],
 "metadata": {
  "kernelspec": {
   "display_name": "Python 3 (ipykernel)",
   "language": "python",
   "name": "python3"
  },
  "language_info": {
   "codemirror_mode": {
    "name": "ipython",
    "version": 3
   },
   "file_extension": ".py",
   "mimetype": "text/x-python",
   "name": "python",
   "nbconvert_exporter": "python",
   "pygments_lexer": "ipython3",
   "version": "3.9.5"
  }
 },
 "nbformat": 4,
 "nbformat_minor": 5
}
