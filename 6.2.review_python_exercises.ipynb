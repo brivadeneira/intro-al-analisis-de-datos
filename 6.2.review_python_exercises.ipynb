{
 "cells": [
  {
   "cell_type": "markdown",
   "metadata": {
    "id": "pyLDlbh7InwM"
   },
   "source": [
    "# **MÓDULO 3 - FUNDAMENTOS DE LA PROGRAMACIÓN CON PYTHON**\n",
    "\n",
    "## Estructuras de control de flujo\n",
    "\n",
    "* `if`: ejecuta un bloque de código u otro según el resultado de evaluar una condición.\n",
    "* `for`: ejecuta un bloque de código una cantidad **definida** de veces.\n",
    "* `while`: ejecuta un bloque de código **hasta que** se deje de cumplir una condición determinada.\n",
    "* `try-except`: *intenta* ejecutar un bloque de código *catcheando* (o atajando) excepciones que ocurran en dicho intento y ejecutando así otro bloque de código."
   ]
  },
  {
   "cell_type": "markdown",
   "metadata": {},
   "source": [
    "> ⚠️ recordatorio `bool`  \n",
    "> `True` o `False`  \n",
    "> surgen del resultado de operadores como: `==`, `!=`, `>`, `<`, `>=`, `<=`, `in`  \n",
    "> python interpreta al `0` y a objectos *vacíos* como `False`: `''`, `[]`, `()`, `{}`  \n",
    "> soportan operaciones lógicas como: `and`/`&`, `or`/`|`, `not`/`!`   "
   ]
  },
  {
   "cell_type": "markdown",
   "metadata": {},
   "source": [
    "### Ejercicios integradores"
   ]
  },
  {
   "cell_type": "markdown",
   "metadata": {},
   "source": [
    "* Given an integer, print the integer with reversed digits.\n",
    "> Note: The integer could be either positive or negative.  \n",
    "\n",
    "Input:  \n",
    "-231  \n",
    "345  \n",
    "\n",
    "Output:  \n",
    "-132  \n",
    "543  "
   ]
  },
  {
   "cell_type": "code",
   "execution_count": null,
   "metadata": {},
   "outputs": [],
   "source": []
  },
  {
   "cell_type": "markdown",
   "metadata": {},
   "source": [
    "* For a given sentence, print the average word length. \n",
    "> Note: Remember to remove punctuation first."
   ]
  },
  {
   "cell_type": "code",
   "execution_count": null,
   "metadata": {},
   "outputs": [],
   "source": [
    "sentence_1 = \"Hi all, my name is Tom...I am originally from Australia.\"\n",
    "sentence_2 = \"I need to work very hard to learn more about algorithms in Python!\""
   ]
  },
  {
   "cell_type": "markdown",
   "metadata": {},
   "source": [
    "Output:  \n",
    "4.2  \n",
    "4.08"
   ]
  },
  {
   "cell_type": "code",
   "execution_count": null,
   "metadata": {},
   "outputs": [],
   "source": []
  },
  {
   "cell_type": "markdown",
   "metadata": {},
   "source": [
    "* Given two non-negative integers num1 and num2 represented as string, print the sum of num1 and num2.  \n",
    "You must not use any built-in BigInteger library or convert the inputs to integer directly.\n",
    "\n",
    "> Notes:  \n",
    "> Both num1 and num2 contains only digits 0-9.  \n",
    "> Both num1 and num2 does not contain any leading zero.  \n",
    "> the ord() function returns an integer representing the Unicode code point of the character "
   ]
  },
  {
   "cell_type": "code",
   "execution_count": null,
   "metadata": {},
   "outputs": [],
   "source": [
    "num1 = '364'\n",
    "num2 = '1836'"
   ]
  },
  {
   "cell_type": "code",
   "execution_count": null,
   "metadata": {},
   "outputs": [],
   "source": []
  },
  {
   "cell_type": "markdown",
   "metadata": {},
   "source": [
    "* Given a string, find the first non-repeating character in it and print its index.  \n",
    "If it doesn't exist, return -1. # Note: all the input strings are already lowercase.\n",
    "\n",
    "> Note: collections library could be useful"
   ]
  },
  {
   "cell_type": "code",
   "execution_count": null,
   "metadata": {},
   "outputs": [],
   "source": []
  },
  {
   "cell_type": "markdown",
   "metadata": {},
   "source": [
    "* Given an array of integers, determine whether the array is monotonic or not."
   ]
  },
  {
   "cell_type": "code",
   "execution_count": null,
   "metadata": {},
   "outputs": [],
   "source": [
    "a = [6, 5, 4, 4] \n",
    "b = [1,1,1,3,3,4,3,2,4,2]\n",
    "c = [1,1,2,3,7]"
   ]
  },
  {
   "cell_type": "markdown",
   "metadata": {},
   "source": [
    "Output:  \n",
    "True  \n",
    "False  \n",
    "True  "
   ]
  },
  {
   "cell_type": "code",
   "execution_count": null,
   "metadata": {},
   "outputs": [],
   "source": []
  },
  {
   "cell_type": "markdown",
   "metadata": {},
   "source": [
    "* Given an array nums, write a code to move all zeroes to the end of it while maintaining the relative order of the non-zero elements."
   ]
  },
  {
   "cell_type": "code",
   "execution_count": null,
   "metadata": {},
   "outputs": [],
   "source": [
    "array1 = [0,1,0,3,12]\n",
    "array2 = [1,7,0,0,8,0,10,12,0,4]"
   ]
  },
  {
   "cell_type": "markdown",
   "metadata": {},
   "source": [
    "Output:  \n",
    "[1, 3, 12, 0, 0]  \n",
    "[1, 7, 8, 10, 12, 4, 0, 0, 0, 0]"
   ]
  },
  {
   "cell_type": "code",
   "execution_count": null,
   "metadata": {},
   "outputs": [],
   "source": []
  },
  {
   "cell_type": "markdown",
   "metadata": {},
   "source": [
    "* Given an array containing None values fill in the None values with most recent non None value in the array "
   ]
  },
  {
   "cell_type": "code",
   "execution_count": null,
   "metadata": {},
   "outputs": [],
   "source": [
    "array1 = [1,None,2,3,None,None,5,None]"
   ]
  },
  {
   "cell_type": "markdown",
   "metadata": {},
   "source": [
    "Output:  \n",
    "[1, 1, 2, 3, 3, 3, 5, 5]"
   ]
  },
  {
   "cell_type": "code",
   "execution_count": null,
   "metadata": {},
   "outputs": [],
   "source": []
  },
  {
   "cell_type": "markdown",
   "metadata": {},
   "source": [
    "* Given two sentences, print an array that has the words that appear in one sentence and not the other and an array with the words in common. "
   ]
  },
  {
   "cell_type": "code",
   "execution_count": null,
   "metadata": {},
   "outputs": [],
   "source": [
    "sentence1 = 'We are really pleased to meet you in our city'\n",
    "sentence2 = 'The city was hit by a really heavy storm'"
   ]
  },
  {
   "cell_type": "markdown",
   "metadata": {},
   "source": [
    "Output:  \n",
    "(['The','We','a','are','by','heavy','hit','in','meet','our',  \n",
    "    'pleased','storm','to','was','you'],  \n",
    " ['city', 'really'])"
   ]
  },
  {
   "cell_type": "markdown",
   "metadata": {},
   "source": [
    "* Given k numbers which are less than n, print the set of prime number among them\n",
    "> Note: The task is to write a program to print all Prime numbers in an Interval.  \n",
    "> Definition: A prime number is a natural number greater than 1 that has no positive divisors other than 1 and itself. "
   ]
  },
  {
   "cell_type": "code",
   "execution_count": null,
   "metadata": {},
   "outputs": [],
   "source": [
    "n = 35"
   ]
  },
  {
   "cell_type": "markdown",
   "metadata": {},
   "source": [
    "Output:  \n",
    "[2, 3, 5, 7, 11, 13, 17, 19, 23, 29, 31]"
   ]
  },
  {
   "cell_type": "code",
   "execution_count": null,
   "metadata": {},
   "outputs": [],
   "source": []
  },
  {
   "cell_type": "markdown",
   "metadata": {},
   "source": [
    "* Write a code that takes a single integer as input and returns the sum of the integers from zero to the input parameter. You should return 0 if a non-integer is passed in."
   ]
  },
  {
   "cell_type": "code",
   "execution_count": null,
   "metadata": {},
   "outputs": [],
   "source": []
  },
  {
   "cell_type": "markdown",
   "metadata": {},
   "source": [
    "* Caesar Cipher\n",
    "\n",
    "A Caesar cipher is a simple substitution cipher in which each letter of the plain text is substituted with a letter found by moving n places down the alphabet. For example, assume the input plain text is the following:\n",
    "\n",
    "`abcd` `xyz`\n",
    "If the shift value, n, is 4, then the encrypted text would be the following:\n",
    "\n",
    "`efgh` `bcd`\n",
    "\n",
    "You are to write a code that needs two objects, a plain-text message and a number of letters to shift in the cipher. The code will print an encrypted string with all letters transformed and all punctuation and whitespace remaining unchanged.\n",
    "\n",
    "> Note: You can assume the plain text is all lowercase ASCII except for whitespace and punctuation.\n",
    "\n",
    "Remember, this part of the question is really about how well you can get around in the standard library. If you find yourself figuring out how to do the transform without the library, then save that thought! You’ll need it later!\n",
    "\n",
    "> Hint: string standard library"
   ]
  },
  {
   "cell_type": "code",
   "execution_count": null,
   "metadata": {},
   "outputs": [],
   "source": []
  },
  {
   "cell_type": "markdown",
   "metadata": {},
   "source": [
    "* Log Parser\n",
    "\n",
    "Accepts a string which  is a Linux-like log file content from a system you are debugging. Mixed in among the various statements are messages indicating the state of the device. They look like this:\n",
    "\n",
    "`Jul 11 16:11:51:490 [139681125603136] dut: Device State: ON`\n",
    "\n",
    "The device state message has many possible values, but this program cares about only three: ON, OFF, and ERR.\n",
    "\n",
    "Your program will parse the given log file and print out a report giving how long the device was ON and the timestamp of any ERR conditions."
   ]
  },
  {
   "cell_type": "code",
   "execution_count": null,
   "metadata": {},
   "outputs": [],
   "source": [
    "log = ['Jul 11 16:11:51:490 [139681125603136] dut: Device State: ON',\n",
    "       'Jul 13 23:16:03:120 [139681125603140] dut: Device State: OFF',\n",
    "       'Jul 21 11:53:15:000 [139681125603155] dut: Device State: ERR',\n",
    "       'Jul 10 09:11:21:280 [139681125603163] dut: Device State: ERR']"
   ]
  },
  {
   "cell_type": "markdown",
   "metadata": {},
   "source": [
    "Device was on for 7 seconds  \n",
    "Timestamps of error events:  \n",
    "   Jul 11 16:11:54:661  \n",
    "   Jul 11 16:11:56:067  "
   ]
  },
  {
   "cell_type": "code",
   "execution_count": null,
   "metadata": {},
   "outputs": [],
   "source": []
  },
  {
   "cell_type": "markdown",
   "metadata": {},
   "source": [
    "* Given two strings s1 and s2, check if both the strings are anagrams of each other.\n",
    "Examples: \n",
    "\n",
    "Input : s1 = \"listen\"  \n",
    "        s2 = \"silent\"  \n",
    "Output : The strings are anagrams.  \n",
    "\n",
    "\n",
    "Input : s1 = \"dad\"  \n",
    "        s2 = \"bad\"  \n",
    "Output : The strings aren't anagrams.  \n",
    "\n",
    "> hints: `sorted()`, `Counter()`\n",
    "\n",
    "> fun fact: https://twitter.com/GramaSana"
   ]
  },
  {
   "cell_type": "code",
   "execution_count": null,
   "metadata": {},
   "outputs": [],
   "source": []
  },
  {
   "cell_type": "markdown",
   "metadata": {},
   "source": [
    "* Given a list of integers, print the maximum sum possible from a contiguous sub-list. A sub-list is an uninterrupted portion of the list (up to and including the entire list).  \n",
    "  \n",
    "```\n",
    "nums = [1, -7, 2, 15, -11, 2]\n",
    "Output: 17\n",
    "```\n",
    "\n",
    "The sum of sub-list nums[2:4]  \n",
    "Clarifying Questions:\n",
    "\n",
    "> Are there constraints on time or space efficiency?  \n",
    "> No! Any solution will do.  \n",
    "> Are all the numbers positive?  \n",
    "> No! Negative numbers can be in the input.  \n",
    "> How big or small can the sub-list be?  \n",
    "> From a single element to the entire list.  "
   ]
  },
  {
   "cell_type": "code",
   "execution_count": null,
   "metadata": {},
   "outputs": [],
   "source": []
  },
  {
   "cell_type": "markdown",
   "metadata": {},
   "source": [
    "* Given a list of integers and a “target” integer, print a pair of indices whose values sum to the target.\n",
    "```\n",
    "nums = [4, 2, 8, 9, 6]\n",
    "target = 8\n",
    "```\n",
    "\n",
    "nums[1] + nums[4] == 8  \n",
    "Output: [1, 4]\n",
    "  \n",
    "nums[2] + nums[3] == 17  \n",
    "Output: [2, 3]  \n",
    " \n",
    "target = 99\n",
    "* no pair sum exists...\n",
    "Output: None\n",
    "\n",
    "Clarifying Questions:  \n",
    "\n",
    "> Are there constraints on time or space efficiency?  \n",
    "> No! Any solution will do.  \n",
    "> Can the numbers be negative or 0?  \n",
    "> Yes! Your solution should handle those inputs.  \n",
    "> Does the order of indices matter?  \n",
    "> The earlier index comes first in the print list.  \n",
    "> Do we print all pairs that match a solution?  \n",
    "> No! The first one that your solution finds will do!  "
   ]
  },
  {
   "cell_type": "code",
   "execution_count": null,
   "metadata": {},
   "outputs": [],
   "source": []
  }
 ],
 "metadata": {
  "colab": {
   "authorship_tag": "ABX9TyPrxtgJbn8JKn6K/emfVHeV",
   "name": "7.modulo_2-diccionarios.ipynb",
   "provenance": []
  },
  "kernelspec": {
   "display_name": "Python 3 (ipykernel)",
   "language": "python",
   "name": "python3"
  },
  "language_info": {
   "codemirror_mode": {
    "name": "ipython",
    "version": 3
   },
   "file_extension": ".py",
   "mimetype": "text/x-python",
   "name": "python",
   "nbconvert_exporter": "python",
   "pygments_lexer": "ipython3",
   "version": "3.9.5"
  }
 },
 "nbformat": 4,
 "nbformat_minor": 4
}
