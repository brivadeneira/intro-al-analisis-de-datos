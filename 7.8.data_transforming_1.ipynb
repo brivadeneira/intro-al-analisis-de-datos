{
 "cells": [
  {
   "cell_type": "markdown",
   "id": "5c9c1750-a762-48fa-83b9-2a588db5716e",
   "metadata": {},
   "source": [
    "## transformación de datos"
   ]
  },
  {
   "cell_type": "code",
   "execution_count": null,
   "id": "1bd103bf-3d71-4426-9434-825f63ea2650",
   "metadata": {},
   "outputs": [],
   "source": [
    "import pandas as pd"
   ]
  },
  {
   "cell_type": "code",
   "execution_count": null,
   "id": "1c68cc16-d369-4f0e-b1fa-3309aeef297e",
   "metadata": {},
   "outputs": [],
   "source": [
    "df = pd.read_csv('datasets/titanic.csv')\n",
    "df.head()"
   ]
  },
  {
   "cell_type": "code",
   "execution_count": null,
   "id": "e958acf7-7aaf-43ef-9964-7d3f3aeea88e",
   "metadata": {},
   "outputs": [],
   "source": [
    "df.info()"
   ]
  },
  {
   "cell_type": "code",
   "execution_count": null,
   "id": "7d946c31-c64b-4cb4-8748-78a97bc6fceb",
   "metadata": {},
   "outputs": [],
   "source": [
    "df.describe()"
   ]
  },
  {
   "cell_type": "markdown",
   "id": "0a376303-d88b-49ef-82d1-cbcc8c3a578d",
   "metadata": {},
   "source": [
    "## get_dummies\n",
    "\n",
    "Convierte una variable categórica en una dicotómica o en un indicador"
   ]
  },
  {
   "cell_type": "code",
   "execution_count": null,
   "id": "d85d1092-a070-4b97-a4ad-bedb6d3f2234",
   "metadata": {},
   "outputs": [],
   "source": [
    "pd.get_dummies(df['Sex'])"
   ]
  },
  {
   "cell_type": "code",
   "execution_count": null,
   "id": "e7005382-8f07-45bb-9ba3-03b78ac6e732",
   "metadata": {},
   "outputs": [],
   "source": [
    "df.join(pd.get_dummies(df['Sex']))"
   ]
  },
  {
   "cell_type": "markdown",
   "id": "e4731531-674a-4bd2-84f9-a32cdd82cf9e",
   "metadata": {},
   "source": [
    "## set_index\n",
    "\n",
    "Setear índices de interés a través de los nombres de columnas"
   ]
  },
  {
   "cell_type": "code",
   "execution_count": null,
   "id": "cd2b00ed-71e6-421e-9526-caca7756ffcd",
   "metadata": {},
   "outputs": [],
   "source": [
    "df.set_index(['Sex','Pclass'])"
   ]
  },
  {
   "cell_type": "markdown",
   "id": "b59dd3ce-44a9-430f-9ac3-01ac37badd70",
   "metadata": {},
   "source": [
    "## count\n",
    "\n",
    "* conteo por índices seteados"
   ]
  },
  {
   "cell_type": "code",
   "execution_count": null,
   "id": "bd069c26-fa79-47aa-b670-dc5b08004ac5",
   "metadata": {},
   "outputs": [],
   "source": [
    "df.set_index(['Sex','Pclass']).count(level='Sex')"
   ]
  },
  {
   "cell_type": "code",
   "execution_count": null,
   "id": "da541e45-b834-49e6-9289-780fb0616c0f",
   "metadata": {},
   "outputs": [],
   "source": [
    "df.set_index(['Sex','Pclass']).count(level='Pclass')"
   ]
  },
  {
   "cell_type": "code",
   "execution_count": null,
   "id": "333bcc79-4e70-472e-9820-a2cf80532180",
   "metadata": {},
   "outputs": [],
   "source": [
    "df['Pclass'].value_counts(sort=True, ascending=True)"
   ]
  },
  {
   "cell_type": "markdown",
   "id": "ec18b532-72a2-4ad6-8af7-e3c7695702ff",
   "metadata": {},
   "source": [
    "## Groupby"
   ]
  },
  {
   "cell_type": "code",
   "execution_count": null,
   "id": "1584a59b-20f4-4031-baf3-fec566b12a61",
   "metadata": {},
   "outputs": [],
   "source": [
    "df.groupby(by='Pclass')"
   ]
  },
  {
   "cell_type": "code",
   "execution_count": null,
   "id": "4075f6c0-53a9-4747-b0ec-58c010c228f8",
   "metadata": {},
   "outputs": [],
   "source": [
    "df.groupby(by='Pclass')['Fare'].agg('count')"
   ]
  },
  {
   "cell_type": "markdown",
   "id": "0eb3e3a9-02ea-41b4-af30-12334dc0abac",
   "metadata": {},
   "source": [
    "## crosstab\n",
    "\n",
    "Esta utilidad de pandas retorna una tabla de datos cruzados que muestran la frecuencia de apareción de ciertos grupos de datos."
   ]
  },
  {
   "cell_type": "code",
   "execution_count": null,
   "id": "2ef0a600-c5e8-40b7-a44a-a69623aafd8e",
   "metadata": {},
   "outputs": [],
   "source": [
    "pd.crosstab(df['Pclass'], [df['Sex']])"
   ]
  },
  {
   "cell_type": "code",
   "execution_count": null,
   "id": "0f2f0d55-884a-40eb-9133-6c61d4268003",
   "metadata": {},
   "outputs": [],
   "source": [
    "pd.crosstab(df['Pclass'],[df['Sex'],df['Survived']])"
   ]
  },
  {
   "cell_type": "markdown",
   "id": "7864862a-3c59-47b5-8a20-e01631973002",
   "metadata": {},
   "source": [
    "## Dunder methods"
   ]
  },
  {
   "cell_type": "code",
   "execution_count": 6,
   "id": "5b5fdc99-dd46-423f-aef2-df6b6c5beb19",
   "metadata": {},
   "outputs": [],
   "source": [
    "s1 = pd.Series([10, 20, 30], index=[1,2,2])"
   ]
  },
  {
   "cell_type": "code",
   "execution_count": 7,
   "id": "01f65c37-481f-4aaa-abbf-6d41ca8c21bd",
   "metadata": {},
   "outputs": [],
   "source": [
    "s2 = pd.Series([35, 44, 53], index=[2 ,2 ,4], name='s2')"
   ]
  },
  {
   "cell_type": "code",
   "execution_count": 8,
   "id": "690cbd02-98b1-461c-95cd-2834ee69dad6",
   "metadata": {},
   "outputs": [],
   "source": [
    "s1 + s2"
   ]
  },
  {
   "cell_type": "code",
   "execution_count": 9,
   "id": "50d1ceee-04ce-4381-90c1-384f9adae5f2",
   "metadata": {},
   "outputs": [],
   "source": [
    "(s1 + s2) / 2"
   ]
  },
  {
   "cell_type": "code",
   "execution_count": 10,
   "id": "760e4f9a-e10b-4391-9a08-754a92bdad0c",
   "metadata": {},
   "outputs": [],
   "source": [
    "s1 * s2"
   ]
  },
  {
   "cell_type": "markdown",
   "id": "c5375db7-78b6-43c3-92a5-bdb287e8e6e6",
   "metadata": {},
   "source": [
    "## Aggregations"
   ]
  },
  {
   "cell_type": "code",
   "execution_count": 18,
   "id": "8ad1755a-56f0-435e-8853-e8c1c4a02b95",
   "metadata": {},
   "outputs": [
    {
     "data": {
      "text/plain": [
       "(20.0, 20.0, 3, 60)"
      ]
     },
     "execution_count": 18,
     "metadata": {},
     "output_type": "execute_result"
    }
   ],
   "source": [
    "s1.mean(), s1.median(), s1.count(), s1.sum()"
   ]
  },
  {
   "cell_type": "code",
   "execution_count": null,
   "id": "13950582-16ff-4811-8c7c-9f365cc87123",
   "metadata": {},
   "outputs": [
    {
     "data": {
      "text/plain": [
       "True"
      ]
     },
     "execution_count": 12,
     "metadata": {},
     "output_type": "execute_result"
    }
   ],
   "source": [
    "s1.is_unique"
   ]
  },
  {
   "cell_type": "code",
   "execution_count": null,
   "id": "799f90f4-8447-4712-8c6a-ad4c698441e3",
   "metadata": {},
   "outputs": [
    {
     "data": {
      "text/plain": [
       "True"
      ]
     },
     "execution_count": 13,
     "metadata": {},
     "output_type": "execute_result"
    }
   ],
   "source": [
    "s1.is_monotonic"
   ]
  },
  {
   "cell_type": "code",
   "execution_count": null,
   "id": "5ff14634-adeb-488a-bf25-35dde5288434",
   "metadata": {},
   "outputs": [
    {
     "data": {
      "text/plain": [
       "True"
      ]
     },
     "execution_count": 14,
     "metadata": {},
     "output_type": "execute_result"
    }
   ],
   "source": [
    "s1.is_monotonic_increasing"
   ]
  },
  {
   "cell_type": "code",
   "execution_count": null,
   "id": "843106ba-dd50-4dc0-a665-c83fad3dd230",
   "metadata": {},
   "outputs": [
    {
     "data": {
      "text/plain": [
       "False"
      ]
     },
     "execution_count": 15,
     "metadata": {},
     "output_type": "execute_result"
    }
   ],
   "source": [
    "s1.is_monotonic_decreasing"
   ]
  }
 ],
 "metadata": {
  "kernelspec": {
   "display_name": "Python 3 (ipykernel)",
   "language": "python",
   "name": "python3"
  },
  "language_info": {
   "codemirror_mode": {
    "name": "ipython",
    "version": 3
   },
   "file_extension": ".py",
   "mimetype": "text/x-python",
   "name": "python",
   "nbconvert_exporter": "python",
   "pygments_lexer": "ipython3",
   "version": "3.9.11"
  }
 },
 "nbformat": 4,
 "nbformat_minor": 5
}
