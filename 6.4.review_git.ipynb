{
 "cells": [
  {
   "cell_type": "markdown",
   "id": "c651851b-4727-4a5b-80d2-bbc2a93a90b5",
   "metadata": {},
   "source": [
    "# **MÓDULO 1 - Git**\n",
    "**Una breve introducción a git.**\n",
    "\n",
    "![](https://git-scm.com/images/logos/2color-lightbg@2x.png)"
   ]
  },
  {
   "cell_type": "markdown",
   "id": "bb819716-b355-456b-9f08-a57f6c5ab399",
   "metadata": {},
   "source": [
    "## ¿Qué es git?\n",
    "\n",
    "Git es un software de control de versiones, monitorea los cambios o historial en un directorio (*repositorio*), permite crear puntos de control o hitos en un proyecto a los cuáles volver, facilita el trabajo en equipo en un proyecto de desarrollo."
   ]
  },
  {
   "cell_type": "markdown",
   "id": "0832f1f2-29ee-44ff-882f-3d56494af043",
   "metadata": {},
   "source": [
    "## ¿Qué es github?\n",
    "\n",
    "![](https://encrypted-tbn0.gstatic.com/images?q=tbn:ANd9GcQKyRigwt3WjFl8mfZpqt7PFnnTbxZXCvVS8sYfNdy_SdEOQUbzJB5dWxzElMoCCU3G4mM&usqp=CAU)\n",
    "\n",
    "[Github](https://github.com/) es un servicio web que aloja código y trabaja con git."
   ]
  },
  {
   "cell_type": "markdown",
   "id": "a7fa3be4-8069-4030-9a7d-ea2d6c4b4f16",
   "metadata": {},
   "source": [
    "## git init\n",
    "\n",
    "Este comando permite iniciar el seguimiento de git en un repositorio determinado\n",
    "\n",
    "```sh\n",
    "$ git init  \n",
    "Initialized empty Git repository in <path>/.git/\n",
    "```"
   ]
  },
  {
   "cell_type": "markdown",
   "id": "cdcb6358-e2d5-466b-9eb3-2be8d64f4043",
   "metadata": {},
   "source": [
    "## git clone\n",
    "\n",
    "Clona un repositorio remoto (que vive por ejemplo github) de manera local\n",
    "\n",
    "```sh\n",
    "$ git clone <repository-URL>\n",
    "Cloning into 'path'...\n",
    "remote: Enumerating objects: n, done.\n",
    "remote: Total n (delta 0), reused 0 (delta 0), pack-reused n\n",
    "Receiving objects: 100% (n/n), t KiB | t2 KiB/s, done.\n",
    "Resolving deltas: 100% (m/m), done.\n",
    "$ ls\n",
    "```"
   ]
  },
  {
   "cell_type": "markdown",
   "id": "3a8f0749-92cf-4b33-838d-67280dae02d4",
   "metadata": {},
   "source": [
    "## git status\n",
    "\n",
    "Describe el estado del repositorio actual, cambios a agregar, cambios agregados a commitear y commits a pushear si los hubiere. Además especifica información como la branch actual.\n",
    "\n",
    "```sh\n",
    "$ git status\n",
    "On branch main\n",
    "Your branch is up to date with 'origin/main'.\n",
    "\n",
    "Changes to be committed:\n",
    "  (use \"git restore --staged <file>...\" to unstage)\n",
    "\tnew file:   new_file\n",
    "\n",
    "Untracked files:\n",
    "  (use \"git add <file>...\" to include in what will be committed)\n",
    "\tuntracked_file\n",
    "\n",
    "```"
   ]
  },
  {
   "cell_type": "markdown",
   "id": "d885a643-e3ff-4c6e-b306-de225cbc3ee8",
   "metadata": {},
   "source": [
    "## git add\n",
    "\n",
    "Agrega los cambios realizados en archivos/directorios del proyecto para formar parte del potencial próximo commit. Este cambio se puede ver/veruficar con `git status` luego de un `git add`.\n",
    "\n",
    "```sh\n",
    "$ git add <file-to-add> <another-file-to-add>\n",
    "```"
   ]
  },
  {
   "cell_type": "markdown",
   "id": "c04df972-4200-416c-8053-288a80fcea3b",
   "metadata": {},
   "source": [
    "## git commit\n",
    "\n",
    "Un commit en un repositorio git registra un snapshot de todos los archivos en tu directorio. Es como un gran copy&paste, ¡pero incluso mejor!\n",
    "\n",
    "Git pretende mantener los commits tan livianos como sea posible, por lo que no copia ciegamente el directorio completo cada vez que haces un commit. Puede (cuando es posible) comprimir un commit como un conjunto de cambios (o un \"delta\") entre una versión de tu repositorio y la siguiente.\n",
    "\n",
    "Git mantiene, también, un historial de qué commits se hicieron y cuándo.\n",
    "\n",
    "![](graphics/git-commit.png)  \n",
    "*Commits C0 y C1*"
   ]
  },
  {
   "cell_type": "markdown",
   "id": "536623da-eebe-4072-9008-68555885335d",
   "metadata": {},
   "source": [
    "### good commits messages\n",
    "\n",
    "* Captitalizados\n",
    "* En inglés\n",
    "* En infinitivo\n",
    "* En presente simple\n",
    "\n",
    "ej: \"Add good commits messages tips\""
   ]
  },
  {
   "cell_type": "markdown",
   "id": "26aadf07-54a8-4c5c-a864-aa67b196a96c",
   "metadata": {},
   "source": [
    "## git log\n",
    "\n",
    "Muestra el historial de commits del repositorio y branch actuales, el hash de cada uno, así como fecha y hora, autor y mensaje.\n",
    "\n",
    "```sh\n",
    "$ git log\n",
    "commit 17b59978f330334af78bea678265b64066d58d77 (HEAD -> main, origin/main, origin/HEAD)\n",
    "Author: author-name <author-name@domain.com>\n",
    "Date:   Mon Dec 13 20:51:06 2021 -0300\n",
    "\n",
    "    <commit message>\n",
    "\n",
    "commit d703fb311740df76db97dbb6c1f6da3e86f81145\n",
    "Author: author-name <author-name@domain.com>\n",
    "Date:   Mon Dec 13 20:47:10 2021 -0300\n",
    "\n",
    "    <commit message>\n",
    "\n",
    "commit a8d5b5a290fa24f1675bf2053505ffb3a79df83a\n",
    "Author: author-name <author-name@domain.com>\n",
    "Date:   Mon Dec 13 20:42:32 2021 -0300\n",
    "\n",
    "    <commit message>\n",
    "``` "
   ]
  },
  {
   "cell_type": "markdown",
   "id": "310f9668-07e5-4a28-abbf-8d2c0225f02f",
   "metadata": {},
   "source": [
    "## git checkout\n",
    "\n",
    "Permite desplazarse entre ramas git checkout nombre-de-la-rama así como crear nuevas ramas git checkout -b \"nombre-de-la-rama\"\n",
    "\n",
    "## git push\n",
    "\n",
    "Publica los commits locales en un repositorio remoto (ej github)\n",
    "\n",
    "## git pull\n",
    "\n",
    "Actualiza el repositorio local con los commits publicados en el repositorio remoto y que sean faltantes.\n",
    "\n",
    "## git merge\n",
    "\n",
    "Permite mezclar o unir la rama de trabajo actual con una especificada.\n",
    "\n",
    "## .gitignore\n",
    "\n",
    "Es un archivo que permite especificar todos aquellos archivos y directorios que no son necesarios seguir, agregar, commitear ni pushear.\n",
    "\n",
    "Ej: \n",
    "*.pyc\n",
    "tmp\n",
    "\n",
    "## Tutorial interactivo\n",
    "\n",
    "[learngitbranching](https://learngitbranching.js.org/)\n"
   ]
  }
 ],
 "metadata": {
  "kernelspec": {
   "display_name": "Python 3 (ipykernel)",
   "language": "python",
   "name": "python3"
  },
  "language_info": {
   "codemirror_mode": {
    "name": "ipython",
    "version": 3
   },
   "file_extension": ".py",
   "mimetype": "text/x-python",
   "name": "python",
   "nbconvert_exporter": "python",
   "pygments_lexer": "ipython3",
   "version": "3.9.5"
  }
 },
 "nbformat": 4,
 "nbformat_minor": 5
}
