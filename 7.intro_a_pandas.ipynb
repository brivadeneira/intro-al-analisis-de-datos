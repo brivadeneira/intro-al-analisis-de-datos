{
 "cells": [
  {
   "cell_type": "markdown",
   "id": "0d6ec6e4-570a-4e34-b589-a43a088d0b42",
   "metadata": {},
   "source": [
    "# Pandas\n",
    "\n",
    "*Pandas es la herramienta más importante para un data scientist o analyst.* Esencialmente se la elige para *limpiar*, *transformar* y *analizar* datos.\n",
    "\n",
    "Pandas es una librería *open source* (con licencia BSD) que provee herramientas de alta performance y fáciles de usar para estructuras de datos y análisis de datos en Python.\n",
    "\n",
    "Su nombre proviene de \"**pan**el **da**ta\", término de la econometría para data sets que hace referencia a la observación de valores a lo largo de múltiples períodos de tiempo.\n",
    "\n",
    "> Es una herramienta de análisis de datos *\"in-memory\"*.  \n",
    "> Posee constructores del tipo SQL.  \n",
    "> Soporta analítica y estadísitca esencial, así como capacidad para graficar.  \n",
    "> Dado que está construido con Cython y Numpy, requiere menos uso de memoria y funciona más rápido que una librería en Python puro.  \n",
    "> Muchas personas usan pandas como reemplazo de *excel*  \n",
    "*Matt Harrison*\n",
    "\n",
    "![](https://s3-ap-southeast-2.amazonaws.com/python.quantecon.org/_static/lecture_specific/pandas/pandas_vs_rest.png)\n",
    "*pandas popularity according to stackoverflow questions*"
   ]
  },
  {
   "cell_type": "markdown",
   "id": "a67ce32b-f4c1-4e98-b1cc-a7f9ae543e76",
   "metadata": {},
   "source": [
    "## Instalación\n",
    "\n",
    "```sh\n",
    "~$ conda install pandas\n",
    "``` \n",
    "\n",
    "```sh\n",
    "~$ pip install pandas\n",
    "``` "
   ]
  },
  {
   "cell_type": "code",
   "execution_count": null,
   "id": "585118bf-6389-40ff-9574-04d44bfb56a3",
   "metadata": {},
   "outputs": [],
   "source": [
    "! pip install pandas"
   ]
  },
  {
   "cell_type": "markdown",
   "id": "123b256a-5e0e-4c58-a4fa-28fa1121c5b7",
   "metadata": {},
   "source": [
    "## Importando pandas"
   ]
  },
  {
   "cell_type": "code",
   "execution_count": null,
   "id": "47669c24-ccfc-4aba-b78d-ab6870ca1cfa",
   "metadata": {},
   "outputs": [],
   "source": [
    "import pandas as pd"
   ]
  },
  {
   "cell_type": "markdown",
   "id": "db8382ea-bc01-4f6c-8cf0-9d5b19dea9c4",
   "metadata": {},
   "source": [
    "*pd* es el \"alias\" por convención para pandas"
   ]
  },
  {
   "cell_type": "code",
   "execution_count": null,
   "id": "04e8491a-f4c7-41a7-8854-377ef5fef95b",
   "metadata": {},
   "outputs": [],
   "source": [
    "pd."
   ]
  },
  {
   "cell_type": "markdown",
   "id": "8e5519f6-f74f-4285-b1a0-d6459136c1d1",
   "metadata": {},
   "source": [
    "## Series y DataFrames\n",
    "\n",
    "Pandas permite importar datos estructurados para manipularlos, para ello los transforma en tipos específicos de datos, propios de la librería.\n",
    "\n",
    "* **Serie**: se puede concebir como una columna.\n",
    "* **DataFrame**: tabla multidimensional compuesta por una colección de series.\n",
    "\n",
    "![](https://github.com/LearnDataSci/articles/raw/cf779e4526a78982011f1d05166679ab8a94353c/Python%20Pandas%20Tutorial%20A%20Complete%20Introduction%20for%20Beginners/assets/series-and-dataframe.png)"
   ]
  },
  {
   "cell_type": "markdown",
   "id": "56875b4a-da34-478e-8968-3724dbb53e46",
   "metadata": {},
   "source": [
    "### Analogías en otras estructuras de datos\n",
    "\n",
    "| Data Structure | Dimensionality | Spreadsheet Analog | Database Analog | Linear Algebra |\n",
    "|----------------|----------------|--------------------|-----------------|----------------|\n",
    "| Series         | 1D             | Column             | Column          | Column Vector  |\n",
    "| Dataframe      | 2D             | Single Sheet       | Table           | Matrix         |"
   ]
  },
  {
   "cell_type": "markdown",
   "id": "865ce617-6cfe-464b-aa74-935d4695c4b7",
   "metadata": {},
   "source": [
    "### Index\n",
    "\n",
    "Ambos, Series y DataFrames pueden ser referenciados por sus **índices**:\n",
    "\n",
    "* Serie Axis 0: `0, 1, 2, 3`\n",
    "*DataFrame Axis 1: `apples, oranges`"
   ]
  },
  {
   "cell_type": "markdown",
   "id": "bd0cfc9d-a4fd-476f-a18c-0f3fb6dbc2bd",
   "metadata": {},
   "source": [
    "### Series\n",
    "\n",
    "Las series se emplean para modelar datos **uni dimensionales**. Además de los datos persé, una Serie tiene algunos bits extra que incluyen:\n",
    "\n",
    "* un index\n",
    "* un nombre\n",
    "\n",
    "#### Axis\n",
    "\n",
    "Dado que una Serie es una estructura de una sola dimensión, tiene **un axis**.\n",
    "\n",
    "La siguiente tabla contiene un conteo de las canciones que ciertos artistas compusieron:\n",
    "\n",
    "| Artist | Data |\n",
    "|--------|------|\n",
    "| 0      | 145  |\n",
    "| 1      | 142  |\n",
    "| 2      | 38   |\n",
    "| 3      | 13   |"
   ]
  },
  {
   "cell_type": "markdown",
   "id": "2995dee6-2cf0-4117-8e74-089ab415ee07",
   "metadata": {},
   "source": [
    "❓ ¿Cómo representarías esta estructura de datos en Python?"
   ]
  },
  {
   "cell_type": "code",
   "execution_count": null,
   "id": "4aaa0c13-8932-407b-96a3-80891c2ed64e",
   "metadata": {},
   "outputs": [],
   "source": []
  },
  {
   "cell_type": "markdown",
   "id": "702c0c1e-a7c2-44fb-a7c3-704bfc3c5bb8",
   "metadata": {},
   "source": [
    "❓ ¿Qué estructuras de datos bien conocidas poseen **index**? ¿De qué tipo son? ¿Están ordenados?"
   ]
  },
  {
   "cell_type": "markdown",
   "id": "833dd1d7-6f57-4e7a-99f1-635c6956dc62",
   "metadata": {},
   "source": []
  },
  {
   "cell_type": "markdown",
   "id": "862d11ac-2ed9-4e2a-96ef-5869f587d49e",
   "metadata": {},
   "source": [
    "El concepto de **index** pareciera innecesario en estructuras de datos como `list`, que los implementan del tipo `int` y ya están ordenados.  \n",
    "Pandas en cambio, soporta **index** de tipo `str`, `date` así como índices ordenados de manera arbitraria, incluso duplicados.  \n",
    "La siguiente es una implementación de índices de tipo `str` con una estructura de tipo `dict`:  "
   ]
  },
  {
   "cell_type": "code",
   "execution_count": null,
   "id": "f8b9305f-b384-438a-b3e9-63e12222f4d4",
   "metadata": {},
   "outputs": [],
   "source": [
    "songs = {\n",
    "    'index': ['Paul', 'John', 'George', 'Ringo'],\n",
    "    'data': [145, 142, 38, 13],\n",
    "    'name': 'counts'\n",
    "}"
   ]
  },
  {
   "cell_type": "code",
   "execution_count": null,
   "id": "0f27e27b-57a6-4a1d-833d-edc0e92ab3ac",
   "metadata": {},
   "outputs": [],
   "source": [
    "def get(series, index):\n",
    "    value_index = series['index'].index(index)\n",
    "    return series['data'][value_index]"
   ]
  },
  {
   "cell_type": "code",
   "execution_count": null,
   "id": "dc4429b1-136b-440f-8b2f-8c232177d397",
   "metadata": {},
   "outputs": [],
   "source": [
    "get(songs, 'John')"
   ]
  },
  {
   "cell_type": "markdown",
   "id": "4e77782a-2de7-438d-827a-0ee799959d4c",
   "metadata": {},
   "source": [
    "### Creando Series desde cero"
   ]
  },
  {
   "cell_type": "code",
   "execution_count": null,
   "id": "a63b853f-c084-4825-acb3-f04c8b3c4145",
   "metadata": {},
   "outputs": [],
   "source": [
    "import pandas as pd"
   ]
  },
  {
   "cell_type": "code",
   "execution_count": null,
   "id": "06a349bc-5124-4431-ab4f-2f9417abb3c1",
   "metadata": {},
   "outputs": [],
   "source": [
    "songs_2 = pd.Series(\n",
    "    [145, 142, 38, 13],\n",
    "    name='count'\n",
    ")"
   ]
  },
  {
   "cell_type": "code",
   "execution_count": null,
   "id": "24f4e729-e52c-4f6f-87d6-9ea0b1e73984",
   "metadata": {},
   "outputs": [],
   "source": [
    "songs_2"
   ]
  },
  {
   "cell_type": "markdown",
   "id": "b8ec82ad-ca9d-4956-9e57-20b146ce868a",
   "metadata": {},
   "source": [
    "Una Serie es una estructura **uni-dimensional** de datos, la *\"columna\"* a la izquierda es **el index**, este NO forma parte de los valores de la Serie.\n",
    "\n",
    "* El nombre genérico para un index es **axis**.\n",
    "* Los valores del index (0, 1, 2, 3, 4) se denominan **axis labels**.\n",
    "* Los datos (145, 132, 38 y 13) son los **values** de la Serie."
   ]
  },
  {
   "cell_type": "code",
   "execution_count": null,
   "id": "594c210f-33b7-493e-addd-1fc9f2e4300d",
   "metadata": {},
   "outputs": [],
   "source": [
    "songs_2.index"
   ]
  },
  {
   "cell_type": "markdown",
   "id": "2112ad64-f0a5-4ec3-ad35-176239f49666",
   "metadata": {},
   "source": [
    "#### Str index"
   ]
  },
  {
   "cell_type": "code",
   "execution_count": null,
   "id": "a791c8a9-6239-4256-8974-f71343423629",
   "metadata": {},
   "outputs": [],
   "source": [
    "songs_3 = pd.Series(\n",
    "    [145, 142, 38, 13],\n",
    "    name='count',\n",
    "    index=['Paul', 'John', 'George', 'Ringo']\n",
    ")"
   ]
  },
  {
   "cell_type": "code",
   "execution_count": null,
   "id": "040d5cb6-de34-4ba1-a5af-1d56df8d15fa",
   "metadata": {},
   "outputs": [],
   "source": [
    "songs_3"
   ]
  },
  {
   "cell_type": "code",
   "execution_count": null,
   "id": "74023e2c-2cc3-4e0e-b650-048c960136c3",
   "metadata": {},
   "outputs": [],
   "source": [
    "songs_3.index"
   ]
  },
  {
   "cell_type": "markdown",
   "id": "cb5d5cb5-dee9-416d-8cad-8a6c604b00c9",
   "metadata": {},
   "source": [
    "### DataFrames\n",
    "\n",
    "Un DataFrame, a diferencia de otras formas de estructurar y almacenar datos, es una estructura **orientada a columnas**:\n",
    "\n",
    "![](https://github.com/LearnDataSci/articles/raw/cf779e4526a78982011f1d05166679ab8a94353c/Python%20Pandas%20Tutorial%20A%20Complete%20Introduction%20for%20Beginners/assets/series-and-dataframe.png)\n",
    "\n",
    "> Las columnas de un mismo tipo de dato se pueden comprimir fácilmente.  \n",
    "> Realizar un análisis en una columna requiere cargar sólo dicha columna, mientras que en estructuras *orientadas a filas* como bases de datos, es necesario leer la base de datos completa para acceder a una columna."
   ]
  },
  {
   "cell_type": "markdown",
   "id": "b6c40758-96fa-4685-8e80-4c862ec0238a",
   "metadata": {},
   "source": [
    "### Creando DataFrames desde cero"
   ]
  },
  {
   "cell_type": "code",
   "execution_count": null,
   "id": "04c2c80e-45c5-4885-b365-81b693553d5e",
   "metadata": {},
   "outputs": [],
   "source": [
    "data = {\n",
    "    'apples': [3, 2, 0, 1], \n",
    "    'oranges': [0, 3, 7, 2]\n",
    "}"
   ]
  },
  {
   "cell_type": "code",
   "execution_count": null,
   "id": "fc00e5dd-2c69-49c9-bab0-da83c7ea9c0c",
   "metadata": {},
   "outputs": [],
   "source": [
    "purchases = pd.DataFrame(data)\n",
    "purchases"
   ]
  },
  {
   "cell_type": "code",
   "execution_count": null,
   "id": "67d44bee-4eac-4d74-8ce6-73bede2321d9",
   "metadata": {},
   "outputs": [],
   "source": [
    "type(purchases)"
   ]
  },
  {
   "cell_type": "code",
   "execution_count": null,
   "id": "7d43609f-6ae9-46eb-b2e1-ba7b8b65a615",
   "metadata": {},
   "outputs": [],
   "source": [
    "purchases.index"
   ]
  },
  {
   "cell_type": "markdown",
   "id": "1431bec4-d161-4f11-8e8f-3d724590eba7",
   "metadata": {},
   "source": [
    "Cada `key` del dict *data* se transforma en el *header* de cada columna, mientras que las listas que corresponden a sus *values* componen cada columna o *serie*.\n",
    "\n",
    "Los *index* del dataframe se autogeneraron con enteros de 0 a 3 dado que no fueron especificados."
   ]
  },
  {
   "cell_type": "code",
   "execution_count": null,
   "id": "a9592159-e951-4703-88fa-ef7ace4f0165",
   "metadata": {},
   "outputs": [],
   "source": [
    "purchases = pd.DataFrame(data, index=['June', 'Robert', 'Lily', 'David'])\n",
    "purchases"
   ]
  },
  {
   "cell_type": "code",
   "execution_count": null,
   "id": "75ca4e9a-98c9-4d93-9888-2a6ed1e4152e",
   "metadata": {},
   "outputs": [],
   "source": [
    "purchases.index"
   ]
  },
  {
   "cell_type": "markdown",
   "id": "6b6a081d-1513-4fd0-b6d1-5c220ace2be6",
   "metadata": {},
   "source": [
    "## shape\n",
    "\n",
    "Almacena el tamaño del DataFrame"
   ]
  },
  {
   "cell_type": "code",
   "execution_count": null,
   "id": "e97c3e29-cf7c-401f-bb8e-a754f71b8c07",
   "metadata": {},
   "outputs": [],
   "source": [
    "purchases.shape"
   ]
  },
  {
   "cell_type": "markdown",
   "id": "6a7a161a-f962-4cc6-b905-4c36586bb939",
   "metadata": {},
   "source": [
    "## head()\n",
    "\n",
    "Retorna las primeraas `n` filas del dataframe, por defecto n es 5."
   ]
  },
  {
   "cell_type": "code",
   "execution_count": null,
   "id": "84a0e296-710f-4fb7-9a0d-48a7d2b03292",
   "metadata": {},
   "outputs": [],
   "source": [
    "purchases.head()"
   ]
  },
  {
   "cell_type": "code",
   "execution_count": null,
   "id": "6dd8eb31-ba8a-4073-95f6-94b11f904708",
   "metadata": {},
   "outputs": [],
   "source": [
    "purchases.head(3)"
   ]
  },
  {
   "cell_type": "markdown",
   "id": "0bda3783-2878-48ce-a7c2-47f024aa0df3",
   "metadata": {},
   "source": [
    "## tail()\n",
    "\n",
    "Retorna las últimas `n` filas del dataframe, por defecto n es 5."
   ]
  },
  {
   "cell_type": "code",
   "execution_count": null,
   "id": "7505de7a-18e4-4389-93b6-c2ef866d5579",
   "metadata": {},
   "outputs": [],
   "source": [
    "purchases.tail()"
   ]
  },
  {
   "cell_type": "code",
   "execution_count": null,
   "id": "d4a273bd-246e-4cba-8225-f9483c8eb528",
   "metadata": {},
   "outputs": [],
   "source": [
    "purchases.tail(2)"
   ]
  },
  {
   "cell_type": "markdown",
   "id": "6071da91-e9ca-4f4c-8a94-7702166a1cbb",
   "metadata": {},
   "source": [
    "## info()\n",
    "\n",
    "Imprime un resumen sobre las características del DataFrame, incluyendo el índice, tipo de datos y columnas, valores no nulos y uso de memoria."
   ]
  },
  {
   "cell_type": "code",
   "execution_count": null,
   "id": "98148ee1-ef71-4024-b08b-3c22a4983c95",
   "metadata": {},
   "outputs": [],
   "source": [
    "purchases.info()"
   ]
  },
  {
   "cell_type": "markdown",
   "id": "7e51f83e-7e1f-4975-9e2f-9c701d43dbdc",
   "metadata": {},
   "source": [
    "## describe()"
   ]
  },
  {
   "cell_type": "markdown",
   "id": "7f6f21ef-6f6c-421a-9895-62fef4d004f6",
   "metadata": {},
   "source": [
    "Genera algunos datos estadísticos que incluyen las tendencias principales, dispersión y distribución del dataset."
   ]
  },
  {
   "cell_type": "code",
   "execution_count": null,
   "id": "1956de53-c88f-4612-8b58-6790a05b2019",
   "metadata": {},
   "outputs": [],
   "source": [
    "purchases.describe()"
   ]
  },
  {
   "cell_type": "markdown",
   "id": "e70f568b-ffa2-4b6f-b90f-fa0d6df45e6e",
   "metadata": {},
   "source": [
    "## loc\n",
    "\n",
    "Se trata de una suerte de *slicing* que permite especificar el nombre del `index` de interés"
   ]
  },
  {
   "cell_type": "code",
   "execution_count": null,
   "id": "cc2de175-71f0-406a-9b4e-139128ca8045",
   "metadata": {},
   "outputs": [],
   "source": [
    "purchases.head()"
   ]
  },
  {
   "cell_type": "code",
   "execution_count": null,
   "id": "bb26de28-fd2b-460a-978b-551915083880",
   "metadata": {},
   "outputs": [],
   "source": [
    "purchases.loc['June']"
   ]
  },
  {
   "cell_type": "code",
   "execution_count": null,
   "id": "f31c08aa-716e-40c7-bfb1-dd9efb1ea418",
   "metadata": {},
   "outputs": [],
   "source": [
    "purchases.loc['Lily']"
   ]
  },
  {
   "cell_type": "markdown",
   "id": "fa0fa518-419c-4f8c-8ee7-6fce744accc6",
   "metadata": {},
   "source": [
    "## iloc\n",
    "\n",
    "Se trata de una suerte de *slicing* que permite especificar el `index` de interés"
   ]
  },
  {
   "cell_type": "code",
   "execution_count": null,
   "id": "ad7d0181-cd48-4c19-81df-2689b06c9979",
   "metadata": {},
   "outputs": [],
   "source": [
    "purchases.head()"
   ]
  },
  {
   "cell_type": "code",
   "execution_count": null,
   "id": "ffb855f2-9866-4d4b-b038-986ffbdc67f2",
   "metadata": {},
   "outputs": [],
   "source": [
    "purchases.iloc[0]"
   ]
  },
  {
   "cell_type": "code",
   "execution_count": null,
   "id": "469f9cdb-7024-4711-82ec-5e36c2a8c165",
   "metadata": {},
   "outputs": [],
   "source": [
    "purchases.iloc[1]"
   ]
  },
  {
   "cell_type": "markdown",
   "id": "f321118b-0148-44e7-9072-2d6317530aea",
   "metadata": {},
   "source": [
    "## Ejercicios"
   ]
  },
  {
   "cell_type": "markdown",
   "id": "5571a8e8-5eff-46d8-9412-d5bb2c014b38",
   "metadata": {},
   "source": [
    "Crear una Serie a partir de *los nombres* de los **cinco** productos más vendidos en [mercadolibre](https://www.mercadolibre.com.uy/), (sección \"Ofertas\")"
   ]
  },
  {
   "cell_type": "code",
   "execution_count": null,
   "id": "58302a38-4159-47b3-b747-33287dc417ce",
   "metadata": {},
   "outputs": [],
   "source": []
  },
  {
   "cell_type": "markdown",
   "id": "71608a44-43ab-4407-a0cd-0d40c8991539",
   "metadata": {},
   "source": [
    "Crear una Serie a partir de los datos de la temperatura en la ciudad de Montevideo por el mes de Marzo:\n",
    "\n",
    "| date         | temp      |\n",
    "|--------------|-----------|\n",
    "| '01-03-2022' | 13°-25° C |\n",
    "| '02-03-2022' | 16°-28° C |\n",
    "| '03-03-2022' | 16°-23° C |\n",
    "| '04-03-2022' | 18°-28° C |\n",
    "| '05-03-2022' | 22°-26° C |\n",
    "| '06-03-2022' | 19°-25° C |\n",
    "| '07-03-2022' | 20°-24° C |\n",
    "| '08-03-2022' | 15°-26° C |\n",
    "| '09-03-2022' | 17°-22° C |"
   ]
  },
  {
   "cell_type": "code",
   "execution_count": null,
   "id": "5b1d17ed-8f65-424d-8a16-dc063a3231fe",
   "metadata": {},
   "outputs": [],
   "source": []
  },
  {
   "cell_type": "markdown",
   "id": "51eda363-b209-4ce6-9d97-c4df7d8322af",
   "metadata": {},
   "source": [
    "En base al ejercicio anterior, convertir los index label de la serie en objetos de tipo `DateTime` de Python.\n",
    "> 🔎 Este ejercicio requiere investigación"
   ]
  },
  {
   "cell_type": "code",
   "execution_count": null,
   "id": "ab1199c7-f15d-4cb3-aab1-01d495cbaa61",
   "metadata": {},
   "outputs": [],
   "source": []
  },
  {
   "cell_type": "markdown",
   "id": "0e93a5df-c552-4ee5-93b9-d7c2eef191d4",
   "metadata": {},
   "source": [
    "* Explorar la documentación de **cinco** atributos propios del objeto Serie"
   ]
  },
  {
   "cell_type": "code",
   "execution_count": null,
   "id": "6bc4f919-25fb-44eb-b06a-8b6a5b37f75f",
   "metadata": {},
   "outputs": [],
   "source": []
  },
  {
   "cell_type": "markdown",
   "id": "dde36591-a7bb-42d3-b937-817c8944d8ea",
   "metadata": {},
   "source": [
    "Crear un DatFrame con *los nombres, precios y descuentos* de los **cinco** productos más vendidos en [mercadolibre](https://www.mercadolibre.com.uy/), (sección \"Ofertas\")"
   ]
  },
  {
   "cell_type": "code",
   "execution_count": null,
   "id": "223c2c84-0e8a-4dab-93b9-f71245adc6e1",
   "metadata": {},
   "outputs": [],
   "source": []
  },
  {
   "cell_type": "markdown",
   "id": "2acf905f-ffa4-4f93-8618-a415412d0358",
   "metadata": {},
   "source": [
    "Crear un DataFrame a partir de los datos de la temperatura en la ciudad de Montevideo por el mes de Marzo:\n",
    "\n",
    "| date         | temp min | temp max |\n",
    "|--------------|----------|----------|\n",
    "| '01-03-2022' | 13       | 25       |\n",
    "| '02-03-2022' | 16       | 28       |\n",
    "| '03-03-2022' | 16       | 23       |\n",
    "| '04-03-2022' | 18       | 28       |\n",
    "| '05-03-2022' | 22       | 26       |\n",
    "| '06-03-2022' | 19       | 25       |\n",
    "| '07-03-2022' | 20       | 24       |\n",
    "| '08-03-2022' | 15       | 26       |\n",
    "| '09-03-2022' | 17       | 22       |\n",
    "\n",
    "> el index debe ser de tipo `DateTime`"
   ]
  },
  {
   "cell_type": "code",
   "execution_count": null,
   "id": "240e7e25-9e39-48b7-bc71-5e0a83c3121c",
   "metadata": {},
   "outputs": [],
   "source": []
  },
  {
   "cell_type": "markdown",
   "id": "cee74fd2-9c3e-48d5-9f4b-1e5845c553fa",
   "metadata": {},
   "source": [
    "* Explorar la documentación de **cinco** atributos propios del objeto Serie"
   ]
  },
  {
   "cell_type": "code",
   "execution_count": null,
   "id": "31bd9813-e4c0-4992-bdaa-20d1f7418da9",
   "metadata": {},
   "outputs": [],
   "source": []
  }
 ],
 "metadata": {
  "kernelspec": {
   "display_name": "Python 3 (ipykernel)",
   "language": "python",
   "name": "python3"
  },
  "language_info": {
   "codemirror_mode": {
    "name": "ipython",
    "version": 3
   },
   "file_extension": ".py",
   "mimetype": "text/x-python",
   "name": "python",
   "nbconvert_exporter": "python",
   "pygments_lexer": "ipython3",
   "version": "3.9.5"
  }
 },
 "nbformat": 4,
 "nbformat_minor": 5
}
