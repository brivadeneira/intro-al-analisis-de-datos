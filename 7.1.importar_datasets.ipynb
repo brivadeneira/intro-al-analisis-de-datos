{
 "cells": [
  {
   "cell_type": "markdown",
   "id": "b13d4c1b-cc84-4613-ac0c-d2d846c03f31",
   "metadata": {},
   "source": [
    "# Importar datasets (pandas)"
   ]
  },
  {
   "cell_type": "code",
   "execution_count": null,
   "id": "d245c999-3b12-43d3-a551-d9e948928360",
   "metadata": {},
   "outputs": [],
   "source": [
    "import pandas as pd"
   ]
  },
  {
   "cell_type": "markdown",
   "id": "2ebdae97-1229-4184-adc5-f5cbbefdd9c9",
   "metadata": {},
   "source": [
    "## read\n",
    "\n",
    "```python\n",
    "pd.read_clipboard\n",
    "pd.read_csv\n",
    "pd.read_excel\n",
    "pd.read_html\n",
    "pd.read_json\n",
    "pd.read_sql\n",
    "pd.read_sql_query\n",
    "pd.read_sql_table\n",
    "```"
   ]
  },
  {
   "cell_type": "markdown",
   "id": "cfb00e05-8dcd-40f1-8585-cd637970b5c8",
   "metadata": {},
   "source": [
    "## read_csv"
   ]
  },
  {
   "cell_type": "code",
   "execution_count": null,
   "id": "7bd7ab5b-171b-45ef-aefe-7045dba8cdc2",
   "metadata": {},
   "outputs": [],
   "source": [
    "pd.read_csv('datasets/employee.csv')"
   ]
  },
  {
   "cell_type": "markdown",
   "id": "007b6815-9f2f-496f-8896-6641e2afa262",
   "metadata": {},
   "source": [
    "### read_csv params"
   ]
  },
  {
   "cell_type": "markdown",
   "id": "6a399219-3cb8-471d-b457-4b1b90da74b7",
   "metadata": {},
   "source": [
    "* **filepath_or_bufferstr**: `str`, ruta al archivo .csv, puede ser una URL.\n",
    "\n",
    "> Pandas permite importar un archivo con extensión `csv` a partir de un `zip`, *siempre que el único contenido de ese zip sea UN archivo csv*."
   ]
  },
  {
   "cell_type": "code",
   "execution_count": null,
   "id": "545c49e2-620b-4e2b-97ce-c114f32f91af",
   "metadata": {},
   "outputs": [],
   "source": [
    "url = 'https://github.com/mattharrison/datasets/raw/master/data/vehicles.csv.zip'\n",
    "df = pd.read_csv(url)"
   ]
  },
  {
   "cell_type": "code",
   "execution_count": null,
   "id": "2bfe27b7-b44b-40a2-b335-b25733387a2a",
   "metadata": {},
   "outputs": [],
   "source": [
    "df.head()"
   ]
  },
  {
   "cell_type": "markdown",
   "id": "ee078be7-1b67-4f7b-b167-1604c2c9a3bd",
   "metadata": {},
   "source": [
    "* **sep**, default `‘,’`: `str` criterio de separación."
   ]
  },
  {
   "cell_type": "code",
   "execution_count": null,
   "id": "cc56771b-f727-4262-99c8-deb3fbe4eb57",
   "metadata": {},
   "outputs": [],
   "source": [
    "pd.read_csv('datasets/employee.csv', sep='\\t')  # ';', '|'"
   ]
  },
  {
   "cell_type": "markdown",
   "id": "10f8e18b-b2dc-456b-b427-760af3274495",
   "metadata": {},
   "source": [
    "* **header**: `list of int` índices de las filas que conforman el *header*"
   ]
  },
  {
   "cell_type": "code",
   "execution_count": null,
   "id": "803b7395-e8f8-4511-88d9-11a4a08d8f28",
   "metadata": {},
   "outputs": [],
   "source": [
    "pd.read_csv('datasets/employee.csv', header=[0, 1])"
   ]
  },
  {
   "cell_type": "markdown",
   "id": "cb51b18f-e3f8-4b81-bc3f-62c39e315939",
   "metadata": {},
   "source": [
    "* **index_col**: mismo concepto que *header* pero con índices (columna/s a la izquierda del DataFrame)"
   ]
  },
  {
   "cell_type": "code",
   "execution_count": null,
   "id": "5d9e17a1-59b4-43ed-9e71-bb23d11cf38b",
   "metadata": {},
   "outputs": [],
   "source": [
    "df = pd.read_csv('datasets/employee.csv', index_col=[0])\n",
    "df"
   ]
  },
  {
   "cell_type": "markdown",
   "id": "8456d426-593e-4479-a85c-18f7cc344b6c",
   "metadata": {},
   "source": [
    "* **usecols**: `list of ints or list of str` se espefician los índices o nombres de columnas a usar"
   ]
  },
  {
   "cell_type": "code",
   "execution_count": null,
   "id": "fea99bd5-2e27-49f0-a142-04baf6d3e2a2",
   "metadata": {},
   "outputs": [],
   "source": [
    "import pandas as pd"
   ]
  },
  {
   "cell_type": "code",
   "execution_count": null,
   "id": "1cdb0ea5-0718-4cb5-a52b-a0f74f0a3e83",
   "metadata": {},
   "outputs": [],
   "source": [
    "df = pd.read_csv('datasets/employee.csv', usecols=[0, 1, 2])\n",
    "df"
   ]
  },
  {
   "cell_type": "code",
   "execution_count": null,
   "id": "c44e375b-33b1-4440-9dcc-f241d96a1c45",
   "metadata": {},
   "outputs": [],
   "source": [
    "df = pd.read_csv('datasets/employee.csv', usecols=['name', 'income', 'department'])\n",
    "df"
   ]
  },
  {
   "cell_type": "markdown",
   "id": "c8969fbe-36f1-4161-bd3b-b237415c759a",
   "metadata": {},
   "source": [
    "* **names**: `list of str` nombres de las columnas a usar"
   ]
  },
  {
   "cell_type": "code",
   "execution_count": null,
   "id": "56e72837-3d27-4f73-9190-75a83626555a",
   "metadata": {},
   "outputs": [],
   "source": [
    "pd.read_csv('datasets/employee.csv', names=['names', \n",
    "                                            'age', \n",
    "                                            'income', \n",
    "                                            'gender', \n",
    "                                            'department'])"
   ]
  },
  {
   "cell_type": "markdown",
   "id": "5c2c4849-a045-4755-a0e3-08217ef3c5a1",
   "metadata": {},
   "source": [
    "* **thousands**: `str` separador de *miles*"
   ]
  },
  {
   "cell_type": "code",
   "execution_count": null,
   "id": "f9963880-701f-408a-8d7c-c339de7666e6",
   "metadata": {},
   "outputs": [],
   "source": [
    "pd.read_csv('datasets/employee.csv', thousands='.')"
   ]
  },
  {
   "cell_type": "markdown",
   "id": "691e858d-bd5f-43fa-904a-55c4ae801fa4",
   "metadata": {},
   "source": [
    "* **decimal**: `str` separador de decimales"
   ]
  },
  {
   "cell_type": "markdown",
   "id": "8d9223b6-ca49-4bf6-94f6-6e52f5207134",
   "metadata": {},
   "source": [
    "¡La documentación es tu amiga! [read_csv](https://pandas.pydata.org/docs/reference/api/pandas.read_csv.html)"
   ]
  },
  {
   "cell_type": "markdown",
   "id": "9e371184-1409-41e3-902e-4cd13b09d402",
   "metadata": {},
   "source": [
    "> Por convención se nombra de manera genérica a un dataframe como `df`."
   ]
  },
  {
   "cell_type": "code",
   "execution_count": null,
   "id": "d499c7d9-d5f1-4598-b69d-0c0a564a7af0",
   "metadata": {},
   "outputs": [],
   "source": [
    "df = pd.read_csv('datasets/employee.csv', index_col=[0]) "
   ]
  },
  {
   "cell_type": "code",
   "execution_count": null,
   "id": "f7b8772f-99e1-404c-bf75-bd35c0618903",
   "metadata": {},
   "outputs": [],
   "source": [
    "df.head()"
   ]
  },
  {
   "cell_type": "code",
   "execution_count": null,
   "id": "abe7474d-b5c4-4004-a7a0-d3915c7f3267",
   "metadata": {},
   "outputs": [],
   "source": [
    "df.grade"
   ]
  },
  {
   "cell_type": "code",
   "execution_count": null,
   "id": "999f1af4-0d43-404a-87a7-dec340bebbf5",
   "metadata": {},
   "outputs": [],
   "source": [
    "df.columns"
   ]
  },
  {
   "cell_type": "code",
   "execution_count": null,
   "id": "3a114341-ca37-4815-bcc1-9e63d8234a10",
   "metadata": {},
   "outputs": [],
   "source": [
    "df.index"
   ]
  },
  {
   "cell_type": "markdown",
   "id": "71b5cceb-a8ba-40e9-a692-a710ae04ffff",
   "metadata": {},
   "source": [
    "## read_excel"
   ]
  },
  {
   "cell_type": "code",
   "execution_count": null,
   "id": "a2e53d9a-0d7d-4e67-aa24-1aabbd1d6f10",
   "metadata": {},
   "outputs": [],
   "source": [
    "! pip install openpyxl"
   ]
  },
  {
   "cell_type": "code",
   "execution_count": null,
   "id": "21af19d6-a013-421e-8b2a-531bad8fdb6b",
   "metadata": {},
   "outputs": [],
   "source": [
    "pd.read_excel('datasets/employee.xlsx')"
   ]
  },
  {
   "cell_type": "markdown",
   "id": "38377180-deef-4ee5-9ff2-6d53fea28cfb",
   "metadata": {},
   "source": [
    "### read_excel params"
   ]
  },
  {
   "cell_type": "code",
   "execution_count": null,
   "id": "2b5b4809-9522-4d42-944e-6a338bc69d1f",
   "metadata": {},
   "outputs": [],
   "source": []
  },
  {
   "cell_type": "markdown",
   "id": "273d789d-c791-4014-869c-8312663bfa62",
   "metadata": {},
   "source": [
    "¡La documentación es tu amiga! [read_excel](https://pandas.pydata.org/docs/reference/api/pandas.read_excel.html)"
   ]
  },
  {
   "cell_type": "markdown",
   "id": "f3040b8e-5c8e-4e16-8f12-34f987fbd42f",
   "metadata": {},
   "source": [
    "## read_json"
   ]
  },
  {
   "cell_type": "code",
   "execution_count": null,
   "id": "a5c2e5b6-53cc-47ed-8a3c-48a5d6770da0",
   "metadata": {},
   "outputs": [],
   "source": [
    "pd.read_json('datasets/employee.json')"
   ]
  },
  {
   "cell_type": "markdown",
   "id": "ceb87a04-a29a-4c33-b564-e4a35c39df39",
   "metadata": {},
   "source": [
    "### read_json params"
   ]
  },
  {
   "cell_type": "code",
   "execution_count": null,
   "id": "5c1e210a-9cdc-4c8a-b4c8-cfc8dea6e509",
   "metadata": {},
   "outputs": [],
   "source": []
  },
  {
   "cell_type": "markdown",
   "id": "9091dd7c-3af7-4970-a0aa-772bba8c3de8",
   "metadata": {},
   "source": [
    "¡La documentación es tu amiga! [read_json](https://pandas.pydata.org/docs/reference/api/pandas.read_json.html)"
   ]
  },
  {
   "cell_type": "markdown",
   "id": "e662322b-1d43-4fbd-8380-b857d2ae05d1",
   "metadata": {},
   "source": [
    "## read_hdf"
   ]
  },
  {
   "cell_type": "markdown",
   "id": "5c7e5855-b2a9-40ed-a309-2be58e2ae921",
   "metadata": {},
   "source": [
    "*Hierarchical Data Format (HDF)*, conjunto de formatos de archivos (HDF4, HDF5) diseñados para almacenar y organizar grandes cantidades de datos."
   ]
  },
  {
   "cell_type": "code",
   "execution_count": null,
   "id": "c9dc233e-8f22-4a25-9a2e-9d49e4c7375f",
   "metadata": {},
   "outputs": [],
   "source": [
    "! pip install tables"
   ]
  },
  {
   "cell_type": "code",
   "execution_count": null,
   "id": "0c8fcd35-565d-4e01-a297-cd05cd0cd860",
   "metadata": {},
   "outputs": [],
   "source": [
    "pd.read_hdf('datasets/employee.h5', 'table')"
   ]
  },
  {
   "cell_type": "markdown",
   "id": "6f823e42-0923-4c2e-96ac-99357897b107",
   "metadata": {},
   "source": [
    "### read_hdf params"
   ]
  },
  {
   "cell_type": "code",
   "execution_count": null,
   "id": "43cd624c-e9c6-4aca-aa23-709493e355b5",
   "metadata": {},
   "outputs": [],
   "source": []
  },
  {
   "cell_type": "markdown",
   "id": "62120e76-17d7-4bfc-b5ec-2be5961a0089",
   "metadata": {},
   "source": [
    "¡La documentación es tu amiga! [read_hdf](https://pandas.pydata.org/docs/reference/api/pandas.read_hdf.html)"
   ]
  },
  {
   "cell_type": "markdown",
   "id": "36d0f798-4ab7-4f8c-a555-36bb569f42f7",
   "metadata": {},
   "source": [
    "## read_html"
   ]
  },
  {
   "cell_type": "code",
   "execution_count": null,
   "id": "2a05169a-b350-4cb9-a860-774511addcd1",
   "metadata": {},
   "outputs": [],
   "source": [
    "! pip install lxml"
   ]
  },
  {
   "cell_type": "code",
   "execution_count": null,
   "id": "54b91398-7d49-4d8c-ad42-9ffbbe722112",
   "metadata": {},
   "outputs": [],
   "source": [
    "table_url = 'https://en.wikipedia.org/wiki/List_of_sandwiches'\n",
    "pd.read_html(table_url)\n",
    "type(pd.read_html(table_url))\n",
    "pd.read_html(table_url)[0]"
   ]
  },
  {
   "cell_type": "code",
   "execution_count": null,
   "id": "a6a6f721-1357-4049-9ed9-d0bffa9933ad",
   "metadata": {},
   "outputs": [],
   "source": [
    "list_of_sadwiches = pd.read_html(table_url)[0]\n",
    "list_of_sadwiches"
   ]
  },
  {
   "cell_type": "markdown",
   "id": "459baf9d-0e97-4718-8c54-e58a6fadc8db",
   "metadata": {},
   "source": [
    "### read_html params"
   ]
  },
  {
   "cell_type": "code",
   "execution_count": null,
   "id": "37195044-45ee-408b-a1d8-16f7faa97a09",
   "metadata": {},
   "outputs": [],
   "source": []
  },
  {
   "cell_type": "markdown",
   "id": "6da9d861-2cba-4f21-b7e2-166c14760734",
   "metadata": {},
   "source": [
    "¡La documentación es tu amiga! [read_html](https://pandas.pydata.org/docs/reference/api/pandas.read_hdf.html)"
   ]
  },
  {
   "cell_type": "markdown",
   "id": "1727ec45-fba8-423f-97f4-66107d42be56",
   "metadata": {},
   "source": [
    "## Ejercicios"
   ]
  },
  {
   "cell_type": "markdown",
   "id": "c0ba2055-8be5-4411-850b-41b3218c9e27",
   "metadata": {},
   "source": [
    "Importar datos a partir del archivo `'datasets/montevideo_temperature.csv'` de manera de formar un DataFrame con la fecha como index (de tipo DateTime) y dos *Series* correspondientes a las temperaturas mínima y máxima:"
   ]
  },
  {
   "cell_type": "code",
   "execution_count": null,
   "id": "c557fc74-7c60-4b5e-9eea-f89c10fae949",
   "metadata": {},
   "outputs": [],
   "source": []
  }
 ],
 "metadata": {
  "kernelspec": {
   "display_name": "Python 3 (ipykernel)",
   "language": "python",
   "name": "python3"
  },
  "language_info": {
   "codemirror_mode": {
    "name": "ipython",
    "version": 3
   },
   "file_extension": ".py",
   "mimetype": "text/x-python",
   "name": "python",
   "nbconvert_exporter": "python",
   "pygments_lexer": "ipython3",
   "version": "3.9.5"
  }
 },
 "nbformat": 4,
 "nbformat_minor": 5
}
