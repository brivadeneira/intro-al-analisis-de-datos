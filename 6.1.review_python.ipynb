{
 "cells": [
  {
   "cell_type": "markdown",
   "id": "4337a761-42e3-4eb7-a9b8-9e77c4b40a6d",
   "metadata": {},
   "source": [
    "# Review Python"
   ]
  },
  {
   "cell_type": "markdown",
   "id": "8e528ab6-1396-4d30-8f9a-4e22253356a8",
   "metadata": {
    "id": "KGCxolYvoGPl"
   },
   "source": [
    "## Tipos de datos\n",
    "\n",
    "Habiendo abordado los tipos de objetos elementales:\n",
    "\n",
    "* **Número**  \n",
    "    * **Int** (entero), `3`, `598`, `1655`  \n",
    "    * **Float** (de punto flotante), `1.5`, `2.0`  \n",
    "    * **Complex** (complejo), `1 + 2j`, `29 + 56j`  \n",
    "* **String** (cadenas de texto), `'hola'`, `\"A\"`  \n",
    "* **Bool**, `True`, `False`  \n",
    "\n",
    "## Estructuras de datos\n",
    "\n",
    "* **list**: `[3, 2.0, 'eggs', [True, False]]`\n",
    "* **tuple**: `(598, 1655)`, `([1.5, True], [2.0, False])` \n",
    "* **dict**: `{'spam': 'eggs', 'eggs': 'spam'}`\n",
    "* **set**: `nums = {1, 2, 2, 3, 4, 4, 5, 5} -> {1, 2, 3, 4, 5}`"
   ]
  },
  {
   "cell_type": "markdown",
   "id": "189eaf10-3d00-449e-adb6-175f11fc223a",
   "metadata": {
    "id": "pyLDlbh7InwM"
   },
   "source": [
    "## Estructuras de control de flujo\n",
    "\n",
    "> ⚠️ recordatorio `bool`  \n",
    "> `True` o `False`  \n",
    "> surgen del resultado de operadores como: `==`, `!=`, `>`, `<`, `>=`, `<=`, `in`  \n",
    "> python interpreta al `0` y a objectos *vacíos* como `False`: `''`, `[]`, `()`, `{}`  \n",
    "> soportan operaciones lógicas como: `and`/`&`, `or`/`|`, `not`/`!`   \n",
    "\n",
    "* `if`: ejecuta un bloque de código u otro según el resultado de evaluar una condición.\n",
    "* `for`: ejecuta un bloque de código una cantidad **definida** de veces.\n",
    "* `while`: ejecuta un bloque de código **hasta que** se deje de cumplir una condición determinada.\n",
    "* `try-except`: *intenta* ejecutar un bloque de código *catcheando* (o atajando) excepciones que ocurran en dicho intento y ejecutando así otro bloque de código."
   ]
  },
  {
   "cell_type": "markdown",
   "id": "940bc1ad-f9aa-4012-aa48-a10ef6a30f15",
   "metadata": {},
   "source": [
    "## Functiones\n",
    "\n",
    "* syntax:\n",
    "\n",
    "```python\n",
    "def function_name(parameter1, parameter2, ...):\n",
    "    \"\"\"\n",
    "    docstring\n",
    "    \"\"\"\n",
    "    \n",
    "    # code\n",
    "    return <var>  # (opc)\n",
    "```\n",
    "\n",
    "\n",
    "![](https://www.informit.com/content/images/chap2_9780134076430/elementLinks/p0215_01.jpg)"
   ]
  },
  {
   "cell_type": "markdown",
   "id": "fca2c4f1-8b1c-42bc-afa0-234cc9401fa2",
   "metadata": {},
   "source": [
    "## Clases y objetos\n",
    "\n",
    "### Clase\n",
    "\n",
    "Syntax:\n",
    "\n",
    "```python\n",
    "\n",
    "class ClassName(object):\n",
    "    \n",
    "    \"\"\"\n",
    "    class docstring\n",
    "    \"\"\"\n",
    "    \n",
    "    def __init__(self, attr1, attr2):\n",
    "        self.attr1 = attr1\n",
    "        self.attr2 = attr2\n",
    "        \n",
    "    def method1(self):\n",
    "        ... \n",
    "    def method2(self, parameter1, parameter2):\n",
    "        ... \n",
    "```\n",
    "\n",
    "*el molde*\n",
    "\n",
    "### Objeto\n",
    "\n",
    "```python\n",
    "new_object = ClassName(attr1, atttr2)\n",
    "```"
   ]
  }
 ],
 "metadata": {
  "kernelspec": {
   "display_name": "Python 3 (ipykernel)",
   "language": "python",
   "name": "python3"
  },
  "language_info": {
   "codemirror_mode": {
    "name": "ipython",
    "version": 3
   },
   "file_extension": ".py",
   "mimetype": "text/x-python",
   "name": "python",
   "nbconvert_exporter": "python",
   "pygments_lexer": "ipython3",
   "version": "3.9.5"
  }
 },
 "nbformat": 4,
 "nbformat_minor": 5
}
